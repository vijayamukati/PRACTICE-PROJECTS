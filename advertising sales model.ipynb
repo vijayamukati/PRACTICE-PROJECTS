{
 "cells": [
  {
   "cell_type": "code",
   "execution_count": 47,
   "id": "8499b37d",
   "metadata": {},
   "outputs": [],
   "source": [
    "import pandas as pd\n",
    "import numpy as np\n",
    "from sklearn.preprocessing import StandardScaler\n",
    "from sklearn.linear_model import LinearRegression\n",
    "from sklearn.model_selection import train_test_split \n",
    "from sklearn.metrics import r2_score\n",
    "from sklearn.preprocessing import OrdinalEncoder\n",
    "from statsmodels.stats.outliers_influence import variance_inflation_factor\n",
    "import matplotlib.pyplot as plt\n",
    "import seaborn as sns\n",
    "import pickle\n",
    "import warnings\n",
    "warnings.filterwarnings('ignore')\n"
   ]
  },
  {
   "cell_type": "code",
   "execution_count": 48,
   "id": "6fe70fcf",
   "metadata": {},
   "outputs": [
    {
     "data": {
      "text/html": [
       "<div>\n",
       "<style scoped>\n",
       "    .dataframe tbody tr th:only-of-type {\n",
       "        vertical-align: middle;\n",
       "    }\n",
       "\n",
       "    .dataframe tbody tr th {\n",
       "        vertical-align: top;\n",
       "    }\n",
       "\n",
       "    .dataframe thead th {\n",
       "        text-align: right;\n",
       "    }\n",
       "</style>\n",
       "<table border=\"1\" class=\"dataframe\">\n",
       "  <thead>\n",
       "    <tr style=\"text-align: right;\">\n",
       "      <th></th>\n",
       "      <th>Unnamed: 0</th>\n",
       "      <th>TV</th>\n",
       "      <th>radio</th>\n",
       "      <th>newspaper</th>\n",
       "      <th>sales</th>\n",
       "    </tr>\n",
       "  </thead>\n",
       "  <tbody>\n",
       "    <tr>\n",
       "      <th>0</th>\n",
       "      <td>1</td>\n",
       "      <td>230.1</td>\n",
       "      <td>37.8</td>\n",
       "      <td>69.2</td>\n",
       "      <td>22.1</td>\n",
       "    </tr>\n",
       "    <tr>\n",
       "      <th>1</th>\n",
       "      <td>2</td>\n",
       "      <td>44.5</td>\n",
       "      <td>39.3</td>\n",
       "      <td>45.1</td>\n",
       "      <td>10.4</td>\n",
       "    </tr>\n",
       "    <tr>\n",
       "      <th>2</th>\n",
       "      <td>3</td>\n",
       "      <td>17.2</td>\n",
       "      <td>45.9</td>\n",
       "      <td>69.3</td>\n",
       "      <td>9.3</td>\n",
       "    </tr>\n",
       "    <tr>\n",
       "      <th>3</th>\n",
       "      <td>4</td>\n",
       "      <td>151.5</td>\n",
       "      <td>41.3</td>\n",
       "      <td>58.5</td>\n",
       "      <td>18.5</td>\n",
       "    </tr>\n",
       "    <tr>\n",
       "      <th>4</th>\n",
       "      <td>5</td>\n",
       "      <td>180.8</td>\n",
       "      <td>10.8</td>\n",
       "      <td>58.4</td>\n",
       "      <td>12.9</td>\n",
       "    </tr>\n",
       "    <tr>\n",
       "      <th>...</th>\n",
       "      <td>...</td>\n",
       "      <td>...</td>\n",
       "      <td>...</td>\n",
       "      <td>...</td>\n",
       "      <td>...</td>\n",
       "    </tr>\n",
       "    <tr>\n",
       "      <th>195</th>\n",
       "      <td>196</td>\n",
       "      <td>38.2</td>\n",
       "      <td>3.7</td>\n",
       "      <td>13.8</td>\n",
       "      <td>7.6</td>\n",
       "    </tr>\n",
       "    <tr>\n",
       "      <th>196</th>\n",
       "      <td>197</td>\n",
       "      <td>94.2</td>\n",
       "      <td>4.9</td>\n",
       "      <td>8.1</td>\n",
       "      <td>9.7</td>\n",
       "    </tr>\n",
       "    <tr>\n",
       "      <th>197</th>\n",
       "      <td>198</td>\n",
       "      <td>177.0</td>\n",
       "      <td>9.3</td>\n",
       "      <td>6.4</td>\n",
       "      <td>12.8</td>\n",
       "    </tr>\n",
       "    <tr>\n",
       "      <th>198</th>\n",
       "      <td>199</td>\n",
       "      <td>283.6</td>\n",
       "      <td>42.0</td>\n",
       "      <td>66.2</td>\n",
       "      <td>25.5</td>\n",
       "    </tr>\n",
       "    <tr>\n",
       "      <th>199</th>\n",
       "      <td>200</td>\n",
       "      <td>232.1</td>\n",
       "      <td>8.6</td>\n",
       "      <td>8.7</td>\n",
       "      <td>13.4</td>\n",
       "    </tr>\n",
       "  </tbody>\n",
       "</table>\n",
       "<p>200 rows × 5 columns</p>\n",
       "</div>"
      ],
      "text/plain": [
       "     Unnamed: 0     TV  radio  newspaper  sales\n",
       "0             1  230.1   37.8       69.2   22.1\n",
       "1             2   44.5   39.3       45.1   10.4\n",
       "2             3   17.2   45.9       69.3    9.3\n",
       "3             4  151.5   41.3       58.5   18.5\n",
       "4             5  180.8   10.8       58.4   12.9\n",
       "..          ...    ...    ...        ...    ...\n",
       "195         196   38.2    3.7       13.8    7.6\n",
       "196         197   94.2    4.9        8.1    9.7\n",
       "197         198  177.0    9.3        6.4   12.8\n",
       "198         199  283.6   42.0       66.2   25.5\n",
       "199         200  232.1    8.6        8.7   13.4\n",
       "\n",
       "[200 rows x 5 columns]"
      ]
     },
     "execution_count": 48,
     "metadata": {},
     "output_type": "execute_result"
    }
   ],
   "source": [
    "df=pd.read_csv('https://raw.githubusercontent.com/dsrscientist/DSData/master/Advertising.csv')\n",
    "df"
   ]
  },
  {
   "cell_type": "code",
   "execution_count": 49,
   "id": "d0615f90",
   "metadata": {},
   "outputs": [
    {
     "data": {
      "text/plain": [
       "(200, 5)"
      ]
     },
     "execution_count": 49,
     "metadata": {},
     "output_type": "execute_result"
    }
   ],
   "source": [
    "df.shape"
   ]
  },
  {
   "cell_type": "code",
   "execution_count": 50,
   "id": "25db09b1",
   "metadata": {},
   "outputs": [
    {
     "data": {
      "text/plain": [
       "Unnamed: 0    0\n",
       "TV            0\n",
       "radio         0\n",
       "newspaper     0\n",
       "sales         0\n",
       "dtype: int64"
      ]
     },
     "execution_count": 50,
     "metadata": {},
     "output_type": "execute_result"
    }
   ],
   "source": [
    "df.isnull().sum()"
   ]
  },
  {
   "cell_type": "code",
   "execution_count": 51,
   "id": "461a51a5",
   "metadata": {},
   "outputs": [
    {
     "data": {
      "text/plain": [
       "False"
      ]
     },
     "execution_count": 51,
     "metadata": {},
     "output_type": "execute_result"
    }
   ],
   "source": [
    "df.isnull().values.any()"
   ]
  },
  {
   "cell_type": "code",
   "execution_count": 52,
   "id": "207d33ca",
   "metadata": {},
   "outputs": [
    {
     "data": {
      "text/plain": [
       "0"
      ]
     },
     "execution_count": 52,
     "metadata": {},
     "output_type": "execute_result"
    }
   ],
   "source": [
    "df.isnull().sum().sum()"
   ]
  },
  {
   "cell_type": "code",
   "execution_count": 53,
   "id": "5fa0c5ca",
   "metadata": {},
   "outputs": [
    {
     "data": {
      "text/plain": [
       "Index(['Unnamed: 0', 'TV', 'radio', 'newspaper', 'sales'], dtype='object')"
      ]
     },
     "execution_count": 53,
     "metadata": {},
     "output_type": "execute_result"
    }
   ],
   "source": [
    "df.columns"
   ]
  },
  {
   "cell_type": "code",
   "execution_count": 54,
   "id": "73b344e0",
   "metadata": {},
   "outputs": [
    {
     "data": {
      "text/plain": [
       "Unnamed: 0      int64\n",
       "TV            float64\n",
       "radio         float64\n",
       "newspaper     float64\n",
       "sales         float64\n",
       "dtype: object"
      ]
     },
     "execution_count": 54,
     "metadata": {},
     "output_type": "execute_result"
    }
   ],
   "source": [
    "df.dtypes"
   ]
  },
  {
   "cell_type": "code",
   "execution_count": 55,
   "id": "9448c145",
   "metadata": {},
   "outputs": [
    {
     "data": {
      "text/html": [
       "<div>\n",
       "<style scoped>\n",
       "    .dataframe tbody tr th:only-of-type {\n",
       "        vertical-align: middle;\n",
       "    }\n",
       "\n",
       "    .dataframe tbody tr th {\n",
       "        vertical-align: top;\n",
       "    }\n",
       "\n",
       "    .dataframe thead th {\n",
       "        text-align: right;\n",
       "    }\n",
       "</style>\n",
       "<table border=\"1\" class=\"dataframe\">\n",
       "  <thead>\n",
       "    <tr style=\"text-align: right;\">\n",
       "      <th></th>\n",
       "      <th>Unnamed: 0</th>\n",
       "      <th>TV</th>\n",
       "      <th>radio</th>\n",
       "      <th>newspaper</th>\n",
       "      <th>sales</th>\n",
       "    </tr>\n",
       "  </thead>\n",
       "  <tbody>\n",
       "    <tr>\n",
       "      <th>Unnamed: 0</th>\n",
       "      <td>1.000000</td>\n",
       "      <td>0.017715</td>\n",
       "      <td>-0.110680</td>\n",
       "      <td>-0.154944</td>\n",
       "      <td>-0.051616</td>\n",
       "    </tr>\n",
       "    <tr>\n",
       "      <th>TV</th>\n",
       "      <td>0.017715</td>\n",
       "      <td>1.000000</td>\n",
       "      <td>0.054809</td>\n",
       "      <td>0.056648</td>\n",
       "      <td>0.782224</td>\n",
       "    </tr>\n",
       "    <tr>\n",
       "      <th>radio</th>\n",
       "      <td>-0.110680</td>\n",
       "      <td>0.054809</td>\n",
       "      <td>1.000000</td>\n",
       "      <td>0.354104</td>\n",
       "      <td>0.576223</td>\n",
       "    </tr>\n",
       "    <tr>\n",
       "      <th>newspaper</th>\n",
       "      <td>-0.154944</td>\n",
       "      <td>0.056648</td>\n",
       "      <td>0.354104</td>\n",
       "      <td>1.000000</td>\n",
       "      <td>0.228299</td>\n",
       "    </tr>\n",
       "    <tr>\n",
       "      <th>sales</th>\n",
       "      <td>-0.051616</td>\n",
       "      <td>0.782224</td>\n",
       "      <td>0.576223</td>\n",
       "      <td>0.228299</td>\n",
       "      <td>1.000000</td>\n",
       "    </tr>\n",
       "  </tbody>\n",
       "</table>\n",
       "</div>"
      ],
      "text/plain": [
       "            Unnamed: 0        TV     radio  newspaper     sales\n",
       "Unnamed: 0    1.000000  0.017715 -0.110680  -0.154944 -0.051616\n",
       "TV            0.017715  1.000000  0.054809   0.056648  0.782224\n",
       "radio        -0.110680  0.054809  1.000000   0.354104  0.576223\n",
       "newspaper    -0.154944  0.056648  0.354104   1.000000  0.228299\n",
       "sales        -0.051616  0.782224  0.576223   0.228299  1.000000"
      ]
     },
     "execution_count": 55,
     "metadata": {},
     "output_type": "execute_result"
    }
   ],
   "source": [
    "df.corr()"
   ]
  },
  {
   "cell_type": "code",
   "execution_count": 56,
   "id": "046144ae",
   "metadata": {},
   "outputs": [
    {
     "data": {
      "image/png": "[encoded data removed]",
      "text/plain": [
       "<Figure size 720x576 with 2 Axes>"
      ]
     },
     "metadata": {
      "needs_background": "light"
     },
     "output_type": "display_data"
    }
   ],
   "source": [
    "plt.figure(figsize=(10, 8))\n",
    "sns.heatmap(df.corr(), annot = True)\n",
    "plt.title('Correlations between factors',fontsize=20)\n",
    "plt.savefig('correlation_between _factors.jpg')\n",
    "plt.show()"
   ]
  },
  {
   "cell_type": "code",
   "execution_count": 57,
   "id": "4beb5e19",
   "metadata": {},
   "outputs": [
    {
     "data": {
      "image/png": "[encoded data removed]",
      "text/plain": [
       "<Figure size 1440x1800 with 5 Axes>"
      ]
     },
     "metadata": {},
     "output_type": "display_data"
    }
   ],
   "source": [
    "plt.figure(figsize=(20,25),facecolor='blue')\n",
    "plotnumber=1\n",
    "\n",
    "for column in df:\n",
    "    if plotnumber<=9:\n",
    "        ax = plt.subplot(3,3,plotnumber)\n",
    "        sns.distplot(df[column])\n",
    "        plt.xlabel(column,fontsize=20)\n",
    "    plotnumber+=1\n",
    "plt.show()\n"
   ]
  },
  {
   "cell_type": "code",
   "execution_count": 58,
   "id": "855602ca",
   "metadata": {
    "scrolled": true
   },
   "outputs": [
    {
     "data": {
      "text/html": [
       "<div>\n",
       "<style scoped>\n",
       "    .dataframe tbody tr th:only-of-type {\n",
       "        vertical-align: middle;\n",
       "    }\n",
       "\n",
       "    .dataframe tbody tr th {\n",
       "        vertical-align: top;\n",
       "    }\n",
       "\n",
       "    .dataframe thead th {\n",
       "        text-align: right;\n",
       "    }\n",
       "</style>\n",
       "<table border=\"1\" class=\"dataframe\">\n",
       "  <thead>\n",
       "    <tr style=\"text-align: right;\">\n",
       "      <th></th>\n",
       "      <th>Unnamed: 0</th>\n",
       "      <th>TV</th>\n",
       "      <th>radio</th>\n",
       "      <th>newspaper</th>\n",
       "      <th>sales</th>\n",
       "    </tr>\n",
       "  </thead>\n",
       "  <tbody>\n",
       "    <tr>\n",
       "      <th>count</th>\n",
       "      <td>200.000000</td>\n",
       "      <td>200.000000</td>\n",
       "      <td>200.000000</td>\n",
       "      <td>200.000000</td>\n",
       "      <td>200.000000</td>\n",
       "    </tr>\n",
       "    <tr>\n",
       "      <th>mean</th>\n",
       "      <td>100.500000</td>\n",
       "      <td>147.042500</td>\n",
       "      <td>23.264000</td>\n",
       "      <td>30.554000</td>\n",
       "      <td>14.022500</td>\n",
       "    </tr>\n",
       "    <tr>\n",
       "      <th>std</th>\n",
       "      <td>57.879185</td>\n",
       "      <td>85.854236</td>\n",
       "      <td>14.846809</td>\n",
       "      <td>21.778621</td>\n",
       "      <td>5.217457</td>\n",
       "    </tr>\n",
       "    <tr>\n",
       "      <th>min</th>\n",
       "      <td>1.000000</td>\n",
       "      <td>0.700000</td>\n",
       "      <td>0.000000</td>\n",
       "      <td>0.300000</td>\n",
       "      <td>1.600000</td>\n",
       "    </tr>\n",
       "    <tr>\n",
       "      <th>25%</th>\n",
       "      <td>50.750000</td>\n",
       "      <td>74.375000</td>\n",
       "      <td>9.975000</td>\n",
       "      <td>12.750000</td>\n",
       "      <td>10.375000</td>\n",
       "    </tr>\n",
       "    <tr>\n",
       "      <th>50%</th>\n",
       "      <td>100.500000</td>\n",
       "      <td>149.750000</td>\n",
       "      <td>22.900000</td>\n",
       "      <td>25.750000</td>\n",
       "      <td>12.900000</td>\n",
       "    </tr>\n",
       "    <tr>\n",
       "      <th>75%</th>\n",
       "      <td>150.250000</td>\n",
       "      <td>218.825000</td>\n",
       "      <td>36.525000</td>\n",
       "      <td>45.100000</td>\n",
       "      <td>17.400000</td>\n",
       "    </tr>\n",
       "    <tr>\n",
       "      <th>max</th>\n",
       "      <td>200.000000</td>\n",
       "      <td>296.400000</td>\n",
       "      <td>49.600000</td>\n",
       "      <td>114.000000</td>\n",
       "      <td>27.000000</td>\n",
       "    </tr>\n",
       "  </tbody>\n",
       "</table>\n",
       "</div>"
      ],
      "text/plain": [
       "       Unnamed: 0          TV       radio   newspaper       sales\n",
       "count  200.000000  200.000000  200.000000  200.000000  200.000000\n",
       "mean   100.500000  147.042500   23.264000   30.554000   14.022500\n",
       "std     57.879185   85.854236   14.846809   21.778621    5.217457\n",
       "min      1.000000    0.700000    0.000000    0.300000    1.600000\n",
       "25%     50.750000   74.375000    9.975000   12.750000   10.375000\n",
       "50%    100.500000  149.750000   22.900000   25.750000   12.900000\n",
       "75%    150.250000  218.825000   36.525000   45.100000   17.400000\n",
       "max    200.000000  296.400000   49.600000  114.000000   27.000000"
      ]
     },
     "execution_count": 58,
     "metadata": {},
     "output_type": "execute_result"
    }
   ],
   "source": [
    "df.describe()"
   ]
  },
  {
   "cell_type": "code",
   "execution_count": 59,
   "id": "fa33ffdd",
   "metadata": {},
   "outputs": [
    {
     "data": {
      "image/png": "[encoded data removed]",
      "text/plain": [
       "<Figure size 1080x720 with 1 Axes>"
      ]
     },
     "metadata": {},
     "output_type": "display_data"
    }
   ],
   "source": [
    "plt.figure(figsize=(15,10),facecolor='lightgreen')\n",
    "sns.barplot(x='TV',y='sales',data=df)\n",
    "plt.xlabel('TV',fontsize=20)\n",
    "plt.ylabel('sales',fontsize=20)\n",
    "plt.show()"
   ]
  },
  {
   "cell_type": "code",
   "execution_count": 60,
   "id": "bd23ce90",
   "metadata": {},
   "outputs": [
    {
     "data": {
      "image/png": "[encoded data removed]",
      "text/plain": [
       "<Figure size 1080x720 with 1 Axes>"
      ]
     },
     "metadata": {},
     "output_type": "display_data"
    }
   ],
   "source": [
    "#lets visualize and analyse the data\n",
    "\n",
    "plt.figure(figsize=(15,10),facecolor='lightgreen')\n",
    "sns.barplot(x='radio',y='sales',data=df)\n",
    "plt.xlabel('radio',fontsize=20)\n",
    "plt.ylabel('sales',fontsize=20)\n",
    "plt.show()"
   ]
  },
  {
   "cell_type": "code",
   "execution_count": 61,
   "id": "5c2bff45",
   "metadata": {},
   "outputs": [
    {
     "data": {
      "image/png": "[encoded data removed]",
      "text/plain": [
       "<Figure size 1080x720 with 1 Axes>"
      ]
     },
     "metadata": {},
     "output_type": "display_data"
    }
   ],
   "source": [
    "#lets visualize and analyse the data\n",
    "\n",
    "plt.figure(figsize=(15,10),facecolor='pink')\n",
    "sns.barplot(x='newspaper',y='sales',data=df)\n",
    "plt.xlabel('newspaper',fontsize=20)\n",
    "plt.ylabel('sales',fontsize=20)\n",
    "plt.show()"
   ]
  },
  {
   "cell_type": "code",
   "execution_count": 62,
   "id": "d44614a4",
   "metadata": {},
   "outputs": [
    {
     "data": {
      "text/html": [
       "<div>\n",
       "<style scoped>\n",
       "    .dataframe tbody tr th:only-of-type {\n",
       "        vertical-align: middle;\n",
       "    }\n",
       "\n",
       "    .dataframe tbody tr th {\n",
       "        vertical-align: top;\n",
       "    }\n",
       "\n",
       "    .dataframe thead th {\n",
       "        text-align: right;\n",
       "    }\n",
       "</style>\n",
       "<table border=\"1\" class=\"dataframe\">\n",
       "  <thead>\n",
       "    <tr style=\"text-align: right;\">\n",
       "      <th></th>\n",
       "      <th>Unnamed: 0</th>\n",
       "      <th>TV</th>\n",
       "      <th>radio</th>\n",
       "      <th>newspaper</th>\n",
       "      <th>sales</th>\n",
       "    </tr>\n",
       "  </thead>\n",
       "  <tbody>\n",
       "    <tr>\n",
       "      <th>0</th>\n",
       "      <td>1</td>\n",
       "      <td>230.1</td>\n",
       "      <td>37.8</td>\n",
       "      <td>69.2</td>\n",
       "      <td>22.1</td>\n",
       "    </tr>\n",
       "    <tr>\n",
       "      <th>1</th>\n",
       "      <td>2</td>\n",
       "      <td>44.5</td>\n",
       "      <td>39.3</td>\n",
       "      <td>45.1</td>\n",
       "      <td>10.4</td>\n",
       "    </tr>\n",
       "    <tr>\n",
       "      <th>2</th>\n",
       "      <td>3</td>\n",
       "      <td>17.2</td>\n",
       "      <td>45.9</td>\n",
       "      <td>69.3</td>\n",
       "      <td>9.3</td>\n",
       "    </tr>\n",
       "    <tr>\n",
       "      <th>3</th>\n",
       "      <td>4</td>\n",
       "      <td>151.5</td>\n",
       "      <td>41.3</td>\n",
       "      <td>58.5</td>\n",
       "      <td>18.5</td>\n",
       "    </tr>\n",
       "    <tr>\n",
       "      <th>4</th>\n",
       "      <td>5</td>\n",
       "      <td>180.8</td>\n",
       "      <td>10.8</td>\n",
       "      <td>58.4</td>\n",
       "      <td>12.9</td>\n",
       "    </tr>\n",
       "    <tr>\n",
       "      <th>...</th>\n",
       "      <td>...</td>\n",
       "      <td>...</td>\n",
       "      <td>...</td>\n",
       "      <td>...</td>\n",
       "      <td>...</td>\n",
       "    </tr>\n",
       "    <tr>\n",
       "      <th>195</th>\n",
       "      <td>196</td>\n",
       "      <td>38.2</td>\n",
       "      <td>3.7</td>\n",
       "      <td>13.8</td>\n",
       "      <td>7.6</td>\n",
       "    </tr>\n",
       "    <tr>\n",
       "      <th>196</th>\n",
       "      <td>197</td>\n",
       "      <td>94.2</td>\n",
       "      <td>4.9</td>\n",
       "      <td>8.1</td>\n",
       "      <td>9.7</td>\n",
       "    </tr>\n",
       "    <tr>\n",
       "      <th>197</th>\n",
       "      <td>198</td>\n",
       "      <td>177.0</td>\n",
       "      <td>9.3</td>\n",
       "      <td>6.4</td>\n",
       "      <td>12.8</td>\n",
       "    </tr>\n",
       "    <tr>\n",
       "      <th>198</th>\n",
       "      <td>199</td>\n",
       "      <td>283.6</td>\n",
       "      <td>42.0</td>\n",
       "      <td>66.2</td>\n",
       "      <td>25.5</td>\n",
       "    </tr>\n",
       "    <tr>\n",
       "      <th>199</th>\n",
       "      <td>200</td>\n",
       "      <td>232.1</td>\n",
       "      <td>8.6</td>\n",
       "      <td>8.7</td>\n",
       "      <td>13.4</td>\n",
       "    </tr>\n",
       "  </tbody>\n",
       "</table>\n",
       "<p>200 rows × 5 columns</p>\n",
       "</div>"
      ],
      "text/plain": [
       "     Unnamed: 0     TV  radio  newspaper  sales\n",
       "0             1  230.1   37.8       69.2   22.1\n",
       "1             2   44.5   39.3       45.1   10.4\n",
       "2             3   17.2   45.9       69.3    9.3\n",
       "3             4  151.5   41.3       58.5   18.5\n",
       "4             5  180.8   10.8       58.4   12.9\n",
       "..          ...    ...    ...        ...    ...\n",
       "195         196   38.2    3.7       13.8    7.6\n",
       "196         197   94.2    4.9        8.1    9.7\n",
       "197         198  177.0    9.3        6.4   12.8\n",
       "198         199  283.6   42.0       66.2   25.5\n",
       "199         200  232.1    8.6        8.7   13.4\n",
       "\n",
       "[200 rows x 5 columns]"
      ]
     },
     "execution_count": 62,
     "metadata": {},
     "output_type": "execute_result"
    }
   ],
   "source": [
    "df"
   ]
  },
  {
   "cell_type": "code",
   "execution_count": 63,
   "id": "364c8859",
   "metadata": {},
   "outputs": [
    {
     "data": {
      "text/plain": [
       "Unnamed: 0    0.000000\n",
       "TV           -0.069853\n",
       "radio         0.094175\n",
       "newspaper     0.894720\n",
       "sales         0.407571\n",
       "dtype: float64"
      ]
     },
     "execution_count": 63,
     "metadata": {},
     "output_type": "execute_result"
    }
   ],
   "source": [
    "df.skew()"
   ]
  },
  {
   "cell_type": "code",
   "execution_count": 64,
   "id": "07246dfd",
   "metadata": {},
   "outputs": [],
   "source": [
    "y = df['sales']\n",
    "X = df.drop(columns=['sales','Unnamed: 0'])"
   ]
  },
  {
   "cell_type": "code",
   "execution_count": 65,
   "id": "1852f49c",
   "metadata": {},
   "outputs": [
    {
     "data": {
      "text/plain": [
       "<AxesSubplot:>"
      ]
     },
     "execution_count": 65,
     "metadata": {},
     "output_type": "execute_result"
    },
    {
     "data": {
      "image/png": "[encoded data removed]",
      "text/plain": [
       "<Figure size 432x288 with 1 Axes>"
      ]
     },
     "metadata": {
      "needs_background": "light"
     },
     "output_type": "display_data"
    }
   ],
   "source": [
    "#lets see if their is any outlier by visualization \n",
    "X['TV'].plot.box()\n"
   ]
  },
  {
   "cell_type": "code",
   "execution_count": 66,
   "id": "e5e6dcae",
   "metadata": {},
   "outputs": [
    {
     "data": {
      "text/plain": [
       "<AxesSubplot:>"
      ]
     },
     "execution_count": 66,
     "metadata": {},
     "output_type": "execute_result"
    },
    {
     "data": {
      "image/png": "[encoded data removed]",
      "text/plain": [
       "<Figure size 432x288 with 1 Axes>"
      ]
     },
     "metadata": {
      "needs_background": "light"
     },
     "output_type": "display_data"
    }
   ],
   "source": [
    "X['radio'].plot.box()"
   ]
  },
  {
   "cell_type": "code",
   "execution_count": 67,
   "id": "4a22c873",
   "metadata": {},
   "outputs": [
    {
     "data": {
      "text/plain": [
       "<AxesSubplot:>"
      ]
     },
     "execution_count": 67,
     "metadata": {},
     "output_type": "execute_result"
    },
    {
     "data": {
      "image/png": "[encoded data removed]",
      "text/plain": [
       "<Figure size 432x288 with 1 Axes>"
      ]
     },
     "metadata": {
      "needs_background": "light"
     },
     "output_type": "display_data"
    }
   ],
   "source": [
    "X['newspaper'].plot.box()"
   ]
  },
  {
   "cell_type": "code",
   "execution_count": 68,
   "id": "0926a702",
   "metadata": {},
   "outputs": [],
   "source": [
    "q1=df.quantile(0.25)"
   ]
  },
  {
   "cell_type": "code",
   "execution_count": 69,
   "id": "3f096144",
   "metadata": {},
   "outputs": [],
   "source": [
    "q3=df.quantile(0.75)"
   ]
  },
  {
   "cell_type": "code",
   "execution_count": 70,
   "id": "47cb022a",
   "metadata": {},
   "outputs": [],
   "source": [
    "iqr=q3-q1"
   ]
  },
  {
   "cell_type": "code",
   "execution_count": 71,
   "id": "fb0d2d2f",
   "metadata": {},
   "outputs": [],
   "source": [
    "newsppr_high=(q3.newspaper + (1.5 * iqr.newspaper))"
   ]
  },
  {
   "cell_type": "code",
   "execution_count": 72,
   "id": "33af337d",
   "metadata": {},
   "outputs": [
    {
     "data": {
      "text/plain": [
       "(array([ 16, 101], dtype=int64),)"
      ]
     },
     "execution_count": 72,
     "metadata": {},
     "output_type": "execute_result"
    }
   ],
   "source": [
    "index = np.where(df['newspaper'] >newsppr_high)\n",
    "index"
   ]
  },
  {
   "cell_type": "code",
   "execution_count": 73,
   "id": "7c4bfb21",
   "metadata": {},
   "outputs": [
    {
     "data": {
      "text/plain": [
       "(198, 5)"
      ]
     },
     "execution_count": 73,
     "metadata": {},
     "output_type": "execute_result"
    }
   ],
   "source": [
    "df = df.drop(df.index[index])\n",
    "df.shape"
   ]
  },
  {
   "cell_type": "code",
   "execution_count": 74,
   "id": "d0b3c7f9",
   "metadata": {},
   "outputs": [
    {
     "data": {
      "text/html": [
       "<div>\n",
       "<style scoped>\n",
       "    .dataframe tbody tr th:only-of-type {\n",
       "        vertical-align: middle;\n",
       "    }\n",
       "\n",
       "    .dataframe tbody tr th {\n",
       "        vertical-align: top;\n",
       "    }\n",
       "\n",
       "    .dataframe thead th {\n",
       "        text-align: right;\n",
       "    }\n",
       "</style>\n",
       "<table border=\"1\" class=\"dataframe\">\n",
       "  <thead>\n",
       "    <tr style=\"text-align: right;\">\n",
       "      <th></th>\n",
       "      <th>index</th>\n",
       "      <th>Unnamed: 0</th>\n",
       "      <th>TV</th>\n",
       "      <th>radio</th>\n",
       "      <th>newspaper</th>\n",
       "      <th>sales</th>\n",
       "    </tr>\n",
       "  </thead>\n",
       "  <tbody>\n",
       "    <tr>\n",
       "      <th>0</th>\n",
       "      <td>0</td>\n",
       "      <td>1</td>\n",
       "      <td>230.1</td>\n",
       "      <td>37.8</td>\n",
       "      <td>69.2</td>\n",
       "      <td>22.1</td>\n",
       "    </tr>\n",
       "    <tr>\n",
       "      <th>1</th>\n",
       "      <td>1</td>\n",
       "      <td>2</td>\n",
       "      <td>44.5</td>\n",
       "      <td>39.3</td>\n",
       "      <td>45.1</td>\n",
       "      <td>10.4</td>\n",
       "    </tr>\n",
       "    <tr>\n",
       "      <th>2</th>\n",
       "      <td>2</td>\n",
       "      <td>3</td>\n",
       "      <td>17.2</td>\n",
       "      <td>45.9</td>\n",
       "      <td>69.3</td>\n",
       "      <td>9.3</td>\n",
       "    </tr>\n",
       "    <tr>\n",
       "      <th>3</th>\n",
       "      <td>3</td>\n",
       "      <td>4</td>\n",
       "      <td>151.5</td>\n",
       "      <td>41.3</td>\n",
       "      <td>58.5</td>\n",
       "      <td>18.5</td>\n",
       "    </tr>\n",
       "    <tr>\n",
       "      <th>4</th>\n",
       "      <td>4</td>\n",
       "      <td>5</td>\n",
       "      <td>180.8</td>\n",
       "      <td>10.8</td>\n",
       "      <td>58.4</td>\n",
       "      <td>12.9</td>\n",
       "    </tr>\n",
       "    <tr>\n",
       "      <th>...</th>\n",
       "      <td>...</td>\n",
       "      <td>...</td>\n",
       "      <td>...</td>\n",
       "      <td>...</td>\n",
       "      <td>...</td>\n",
       "      <td>...</td>\n",
       "    </tr>\n",
       "    <tr>\n",
       "      <th>193</th>\n",
       "      <td>195</td>\n",
       "      <td>196</td>\n",
       "      <td>38.2</td>\n",
       "      <td>3.7</td>\n",
       "      <td>13.8</td>\n",
       "      <td>7.6</td>\n",
       "    </tr>\n",
       "    <tr>\n",
       "      <th>194</th>\n",
       "      <td>196</td>\n",
       "      <td>197</td>\n",
       "      <td>94.2</td>\n",
       "      <td>4.9</td>\n",
       "      <td>8.1</td>\n",
       "      <td>9.7</td>\n",
       "    </tr>\n",
       "    <tr>\n",
       "      <th>195</th>\n",
       "      <td>197</td>\n",
       "      <td>198</td>\n",
       "      <td>177.0</td>\n",
       "      <td>9.3</td>\n",
       "      <td>6.4</td>\n",
       "      <td>12.8</td>\n",
       "    </tr>\n",
       "    <tr>\n",
       "      <th>196</th>\n",
       "      <td>198</td>\n",
       "      <td>199</td>\n",
       "      <td>283.6</td>\n",
       "      <td>42.0</td>\n",
       "      <td>66.2</td>\n",
       "      <td>25.5</td>\n",
       "    </tr>\n",
       "    <tr>\n",
       "      <th>197</th>\n",
       "      <td>199</td>\n",
       "      <td>200</td>\n",
       "      <td>232.1</td>\n",
       "      <td>8.6</td>\n",
       "      <td>8.7</td>\n",
       "      <td>13.4</td>\n",
       "    </tr>\n",
       "  </tbody>\n",
       "</table>\n",
       "<p>198 rows × 6 columns</p>\n",
       "</div>"
      ],
      "text/plain": [
       "     index  Unnamed: 0     TV  radio  newspaper  sales\n",
       "0        0           1  230.1   37.8       69.2   22.1\n",
       "1        1           2   44.5   39.3       45.1   10.4\n",
       "2        2           3   17.2   45.9       69.3    9.3\n",
       "3        3           4  151.5   41.3       58.5   18.5\n",
       "4        4           5  180.8   10.8       58.4   12.9\n",
       "..     ...         ...    ...    ...        ...    ...\n",
       "193    195         196   38.2    3.7       13.8    7.6\n",
       "194    196         197   94.2    4.9        8.1    9.7\n",
       "195    197         198  177.0    9.3        6.4   12.8\n",
       "196    198         199  283.6   42.0       66.2   25.5\n",
       "197    199         200  232.1    8.6        8.7   13.4\n",
       "\n",
       "[198 rows x 6 columns]"
      ]
     },
     "execution_count": 74,
     "metadata": {},
     "output_type": "execute_result"
    }
   ],
   "source": [
    "df.reset_index()"
   ]
  },
  {
   "cell_type": "code",
   "execution_count": 75,
   "id": "114bb8cd",
   "metadata": {},
   "outputs": [
    {
     "data": {
      "text/plain": [
       "3"
      ]
     },
     "execution_count": 75,
     "metadata": {},
     "output_type": "execute_result"
    }
   ],
   "source": [
    "np.abs(3)"
   ]
  },
  {
   "cell_type": "code",
   "execution_count": 76,
   "id": "9403b1f2",
   "metadata": {},
   "outputs": [
    {
     "data": {
      "text/plain": [
       "3"
      ]
     },
     "execution_count": 76,
     "metadata": {},
     "output_type": "execute_result"
    }
   ],
   "source": [
    "np.abs(-3)"
   ]
  },
  {
   "cell_type": "code",
   "execution_count": 77,
   "id": "b91ca2c3",
   "metadata": {},
   "outputs": [
    {
     "data": {
      "text/plain": [
       "TV            True\n",
       "radio         True\n",
       "newspaper    False\n",
       "dtype: bool"
      ]
     },
     "execution_count": 77,
     "metadata": {},
     "output_type": "execute_result"
    }
   ],
   "source": [
    "from scipy.stats import zscore\n",
    "(np.abs(zscore(X))<3).all()"
   ]
  },
  {
   "cell_type": "code",
   "execution_count": 78,
   "id": "eb5d3780",
   "metadata": {},
   "outputs": [],
   "source": [
    "y = df['sales']\n",
    "X = df.drop(columns=['sales','Unnamed: 0'])"
   ]
  },
  {
   "cell_type": "code",
   "execution_count": 79,
   "id": "a5ddbbe5",
   "metadata": {},
   "outputs": [
    {
     "data": {
      "text/plain": [
       "0      22.1\n",
       "1      10.4\n",
       "2       9.3\n",
       "3      18.5\n",
       "4      12.9\n",
       "       ... \n",
       "195     7.6\n",
       "196     9.7\n",
       "197    12.8\n",
       "198    25.5\n",
       "199    13.4\n",
       "Name: sales, Length: 198, dtype: float64"
      ]
     },
     "execution_count": 79,
     "metadata": {},
     "output_type": "execute_result"
    }
   ],
   "source": [
    "y"
   ]
  },
  {
   "cell_type": "code",
   "execution_count": 80,
   "id": "ef4b1f28",
   "metadata": {},
   "outputs": [
    {
     "data": {
      "text/html": [
       "<div>\n",
       "<style scoped>\n",
       "    .dataframe tbody tr th:only-of-type {\n",
       "        vertical-align: middle;\n",
       "    }\n",
       "\n",
       "    .dataframe tbody tr th {\n",
       "        vertical-align: top;\n",
       "    }\n",
       "\n",
       "    .dataframe thead th {\n",
       "        text-align: right;\n",
       "    }\n",
       "</style>\n",
       "<table border=\"1\" class=\"dataframe\">\n",
       "  <thead>\n",
       "    <tr style=\"text-align: right;\">\n",
       "      <th></th>\n",
       "      <th>TV</th>\n",
       "      <th>radio</th>\n",
       "      <th>newspaper</th>\n",
       "    </tr>\n",
       "  </thead>\n",
       "  <tbody>\n",
       "    <tr>\n",
       "      <th>0</th>\n",
       "      <td>230.1</td>\n",
       "      <td>37.8</td>\n",
       "      <td>69.2</td>\n",
       "    </tr>\n",
       "    <tr>\n",
       "      <th>1</th>\n",
       "      <td>44.5</td>\n",
       "      <td>39.3</td>\n",
       "      <td>45.1</td>\n",
       "    </tr>\n",
       "    <tr>\n",
       "      <th>2</th>\n",
       "      <td>17.2</td>\n",
       "      <td>45.9</td>\n",
       "      <td>69.3</td>\n",
       "    </tr>\n",
       "    <tr>\n",
       "      <th>3</th>\n",
       "      <td>151.5</td>\n",
       "      <td>41.3</td>\n",
       "      <td>58.5</td>\n",
       "    </tr>\n",
       "    <tr>\n",
       "      <th>4</th>\n",
       "      <td>180.8</td>\n",
       "      <td>10.8</td>\n",
       "      <td>58.4</td>\n",
       "    </tr>\n",
       "    <tr>\n",
       "      <th>...</th>\n",
       "      <td>...</td>\n",
       "      <td>...</td>\n",
       "      <td>...</td>\n",
       "    </tr>\n",
       "    <tr>\n",
       "      <th>195</th>\n",
       "      <td>38.2</td>\n",
       "      <td>3.7</td>\n",
       "      <td>13.8</td>\n",
       "    </tr>\n",
       "    <tr>\n",
       "      <th>196</th>\n",
       "      <td>94.2</td>\n",
       "      <td>4.9</td>\n",
       "      <td>8.1</td>\n",
       "    </tr>\n",
       "    <tr>\n",
       "      <th>197</th>\n",
       "      <td>177.0</td>\n",
       "      <td>9.3</td>\n",
       "      <td>6.4</td>\n",
       "    </tr>\n",
       "    <tr>\n",
       "      <th>198</th>\n",
       "      <td>283.6</td>\n",
       "      <td>42.0</td>\n",
       "      <td>66.2</td>\n",
       "    </tr>\n",
       "    <tr>\n",
       "      <th>199</th>\n",
       "      <td>232.1</td>\n",
       "      <td>8.6</td>\n",
       "      <td>8.7</td>\n",
       "    </tr>\n",
       "  </tbody>\n",
       "</table>\n",
       "<p>198 rows × 3 columns</p>\n",
       "</div>"
      ],
      "text/plain": [
       "        TV  radio  newspaper\n",
       "0    230.1   37.8       69.2\n",
       "1     44.5   39.3       45.1\n",
       "2     17.2   45.9       69.3\n",
       "3    151.5   41.3       58.5\n",
       "4    180.8   10.8       58.4\n",
       "..     ...    ...        ...\n",
       "195   38.2    3.7       13.8\n",
       "196   94.2    4.9        8.1\n",
       "197  177.0    9.3        6.4\n",
       "198  283.6   42.0       66.2\n",
       "199  232.1    8.6        8.7\n",
       "\n",
       "[198 rows x 3 columns]"
      ]
     },
     "execution_count": 80,
     "metadata": {},
     "output_type": "execute_result"
    }
   ],
   "source": [
    "X"
   ]
  },
  {
   "cell_type": "code",
   "execution_count": 81,
   "id": "b344bf55",
   "metadata": {},
   "outputs": [],
   "source": [
    "#Data scaling Z=(X-mean)/std\n",
    "\n",
    "scaler=StandardScaler()\n",
    "X_scaled=scaler.fit_transform(X)"
   ]
  },
  {
   "cell_type": "code",
   "execution_count": 82,
   "id": "a65c5109",
   "metadata": {},
   "outputs": [
    {
     "data": {
      "text/plain": [
       "3"
      ]
     },
     "execution_count": 82,
     "metadata": {},
     "output_type": "execute_result"
    }
   ],
   "source": [
    "X_scaled.shape[1]"
   ]
  },
  {
   "cell_type": "code",
   "execution_count": 83,
   "id": "7e5c95a5",
   "metadata": {},
   "outputs": [
    {
     "data": {
      "text/html": [
       "<div>\n",
       "<style scoped>\n",
       "    .dataframe tbody tr th:only-of-type {\n",
       "        vertical-align: middle;\n",
       "    }\n",
       "\n",
       "    .dataframe tbody tr th {\n",
       "        vertical-align: top;\n",
       "    }\n",
       "\n",
       "    .dataframe thead th {\n",
       "        text-align: right;\n",
       "    }\n",
       "</style>\n",
       "<table border=\"1\" class=\"dataframe\">\n",
       "  <thead>\n",
       "    <tr style=\"text-align: right;\">\n",
       "      <th></th>\n",
       "      <th>vif</th>\n",
       "      <th>Features</th>\n",
       "    </tr>\n",
       "  </thead>\n",
       "  <tbody>\n",
       "    <tr>\n",
       "      <th>0</th>\n",
       "      <td>1.003863</td>\n",
       "      <td>TV</td>\n",
       "    </tr>\n",
       "    <tr>\n",
       "      <th>1</th>\n",
       "      <td>1.137887</td>\n",
       "      <td>radio</td>\n",
       "    </tr>\n",
       "    <tr>\n",
       "      <th>2</th>\n",
       "      <td>1.137631</td>\n",
       "      <td>newspaper</td>\n",
       "    </tr>\n",
       "  </tbody>\n",
       "</table>\n",
       "</div>"
      ],
      "text/plain": [
       "        vif   Features\n",
       "0  1.003863         TV\n",
       "1  1.137887      radio\n",
       "2  1.137631  newspaper"
      ]
     },
     "execution_count": 83,
     "metadata": {},
     "output_type": "execute_result"
    }
   ],
   "source": [
    "vif=pd.DataFrame()\n",
    "vif[\"vif\"]=[variance_inflation_factor(X_scaled,i) for i in range(X_scaled.shape[1])]\n",
    "vif[\"Features\"]=X.columns\n",
    "vif"
   ]
  },
  {
   "cell_type": "code",
   "execution_count": 84,
   "id": "c933fe43",
   "metadata": {},
   "outputs": [],
   "source": [
    "regression=LinearRegression()"
   ]
  },
  {
   "cell_type": "code",
   "execution_count": 85,
   "id": "cd259b6d",
   "metadata": {},
   "outputs": [
    {
     "name": "stdout",
     "output_type": "stream",
     "text": [
      "At random state0,the training accuracy is:-0.8898322019518987\n",
      "At random state0,the testing accuracy is:-0.9098946359000558\n",
      "\n",
      "\n",
      "At random state1,the training accuracy is:-0.8946050839431845\n",
      "At random state1,the testing accuracy is:-0.8912199077372979\n",
      "\n",
      "\n",
      "At random state2,the training accuracy is:-0.9105689646648081\n",
      "At random state2,the testing accuracy is:-0.8381266733637571\n",
      "\n",
      "\n",
      "At random state3,the training accuracy is:-0.8944143192604463\n",
      "At random state3,the testing accuracy is:-0.8980994665131538\n",
      "\n",
      "\n",
      "At random state4,the training accuracy is:-0.8981805823414822\n",
      "At random state4,the testing accuracy is:-0.8719021920124682\n",
      "\n",
      "\n",
      "At random state5,the training accuracy is:-0.8994368014551729\n",
      "At random state5,the testing accuracy is:-0.8616494043950313\n",
      "\n",
      "\n",
      "At random state6,the training accuracy is:-0.8993028842288798\n",
      "At random state6,the testing accuracy is:-0.8760639888444908\n",
      "\n",
      "\n",
      "At random state7,the training accuracy is:-0.8907422790206732\n",
      "At random state7,the testing accuracy is:-0.9072259879826814\n",
      "\n",
      "\n",
      "At random state8,the training accuracy is:-0.9032084965142416\n",
      "At random state8,the testing accuracy is:-0.8622119821531382\n",
      "\n",
      "\n",
      "At random state9,the training accuracy is:-0.8896116143369225\n",
      "At random state9,the testing accuracy is:-0.9148867690563419\n",
      "\n",
      "\n",
      "At random state10,the training accuracy is:-0.9234109258384533\n",
      "At random state10,the testing accuracy is:-0.7847276428213541\n",
      "\n",
      "\n",
      "At random state11,the training accuracy is:-0.8849527337629283\n",
      "At random state11,the testing accuracy is:-0.9251344460664062\n",
      "\n",
      "\n",
      "At random state12,the training accuracy is:-0.893155890966673\n",
      "At random state12,the testing accuracy is:-0.9002147591940638\n",
      "\n",
      "\n",
      "At random state13,the training accuracy is:-0.9073685036587192\n",
      "At random state13,the testing accuracy is:-0.8379451608981883\n",
      "\n",
      "\n",
      "At random state14,the training accuracy is:-0.8856322875906846\n",
      "At random state14,the testing accuracy is:-0.9137433855890316\n",
      "\n",
      "\n",
      "At random state15,the training accuracy is:-0.8910311748322177\n",
      "At random state15,the testing accuracy is:-0.908668178012794\n",
      "\n",
      "\n",
      "At random state16,the training accuracy is:-0.8904589451941378\n",
      "At random state16,the testing accuracy is:-0.9092658921355937\n",
      "\n",
      "\n",
      "At random state17,the training accuracy is:-0.888899070609342\n",
      "At random state17,the testing accuracy is:-0.9158107183004831\n",
      "\n",
      "\n",
      "At random state18,the training accuracy is:-0.9107512319836957\n",
      "At random state18,the testing accuracy is:-0.8352581054144459\n",
      "\n",
      "\n",
      "At random state19,the training accuracy is:-0.8952937219888688\n",
      "At random state19,the testing accuracy is:-0.8777946475901687\n",
      "\n",
      "\n",
      "At random state20,the training accuracy is:-0.8861735393665223\n",
      "At random state20,the testing accuracy is:-0.9134618213607718\n",
      "\n",
      "\n",
      "At random state21,the training accuracy is:-0.884565335473425\n",
      "At random state21,the testing accuracy is:-0.9276910202519096\n",
      "\n",
      "\n",
      "At random state22,the training accuracy is:-0.8863623904193301\n",
      "At random state22,the testing accuracy is:-0.927225767417452\n",
      "\n",
      "\n",
      "At random state23,the training accuracy is:-0.8851633612750962\n",
      "At random state23,the testing accuracy is:-0.9280846835289062\n",
      "\n",
      "\n",
      "At random state24,the training accuracy is:-0.8809757910723603\n",
      "At random state24,the testing accuracy is:-0.9456025807476978\n",
      "\n",
      "\n",
      "At random state25,the training accuracy is:-0.8829622259449756\n",
      "At random state25,the testing accuracy is:-0.9371746629622535\n",
      "\n",
      "\n",
      "At random state26,the training accuracy is:-0.9048077861193833\n",
      "At random state26,the testing accuracy is:-0.8203780207359677\n",
      "\n",
      "\n",
      "At random state27,the training accuracy is:-0.9094784686975189\n",
      "At random state27,the testing accuracy is:-0.822690110702812\n",
      "\n",
      "\n",
      "At random state28,the training accuracy is:-0.9151656207216119\n",
      "At random state28,the testing accuracy is:-0.8242122179832337\n",
      "\n",
      "\n",
      "At random state29,the training accuracy is:-0.9079314459560758\n",
      "At random state29,the testing accuracy is:-0.8429744958016214\n",
      "\n",
      "\n",
      "At random state30,the training accuracy is:-0.9129669348136419\n",
      "At random state30,the testing accuracy is:-0.8232112840158845\n",
      "\n",
      "\n",
      "At random state31,the training accuracy is:-0.8807741206684752\n",
      "At random state31,the testing accuracy is:-0.9322873954829172\n",
      "\n",
      "\n",
      "At random state32,the training accuracy is:-0.8879237528446708\n",
      "At random state32,the testing accuracy is:-0.9176590893491934\n",
      "\n",
      "\n",
      "At random state33,the training accuracy is:-0.888035916659505\n",
      "At random state33,the testing accuracy is:-0.9168199223474397\n",
      "\n",
      "\n",
      "At random state34,the training accuracy is:-0.8961381192278818\n",
      "At random state34,the testing accuracy is:-0.8842687782801526\n",
      "\n",
      "\n",
      "At random state35,the training accuracy is:-0.8902893064280746\n",
      "At random state35,the testing accuracy is:-0.9153905766088837\n",
      "\n",
      "\n",
      "At random state36,the training accuracy is:-0.8896329800738692\n",
      "At random state36,the testing accuracy is:-0.9127811165767806\n",
      "\n",
      "\n",
      "At random state37,the training accuracy is:-0.8928441817473719\n",
      "At random state37,the testing accuracy is:-0.9089901606257966\n",
      "\n",
      "\n",
      "At random state38,the training accuracy is:-0.8897925916435414\n",
      "At random state38,the testing accuracy is:-0.9172706638690491\n",
      "\n",
      "\n",
      "At random state39,the training accuracy is:-0.9035389723312434\n",
      "At random state39,the testing accuracy is:-0.8548912714848504\n",
      "\n",
      "\n",
      "At random state40,the training accuracy is:-0.8938865309825034\n",
      "At random state40,the testing accuracy is:-0.8933223521136453\n",
      "\n",
      "\n",
      "At random state41,the training accuracy is:-0.8990543250257402\n",
      "At random state41,the testing accuracy is:-0.8663464679495858\n",
      "\n",
      "\n",
      "At random state42,the training accuracy is:-0.8935961872087126\n",
      "At random state42,the testing accuracy is:-0.8989454779619588\n",
      "\n",
      "\n",
      "At random state43,the training accuracy is:-0.9003196624874754\n",
      "At random state43,the testing accuracy is:-0.8751484803695657\n",
      "\n",
      "\n",
      "At random state44,the training accuracy is:-0.9031303879771791\n",
      "At random state44,the testing accuracy is:-0.8117000632290441\n",
      "\n",
      "\n",
      "At random state45,the training accuracy is:-0.8978187125535125\n",
      "At random state45,the testing accuracy is:-0.874742203797202\n",
      "\n",
      "\n",
      "At random state46,the training accuracy is:-0.899102111687532\n",
      "At random state46,the testing accuracy is:-0.8726271917983103\n",
      "\n",
      "\n",
      "At random state47,the training accuracy is:-0.8948929338032797\n",
      "At random state47,the testing accuracy is:-0.8922946750347813\n",
      "\n",
      "\n",
      "At random state48,the training accuracy is:-0.9019155855266181\n",
      "At random state48,the testing accuracy is:-0.866237899668671\n",
      "\n",
      "\n",
      "At random state49,the training accuracy is:-0.910538439235421\n",
      "At random state49,the testing accuracy is:-0.8351144932670392\n",
      "\n",
      "\n",
      "At random state50,the training accuracy is:-0.9009231461636191\n",
      "At random state50,the testing accuracy is:-0.8429785403092691\n",
      "\n",
      "\n",
      "At random state51,the training accuracy is:-0.8929482650783451\n",
      "At random state51,the testing accuracy is:-0.8969749608189316\n",
      "\n",
      "\n",
      "At random state52,the training accuracy is:-0.8947789773965512\n",
      "At random state52,the testing accuracy is:-0.8925145995117171\n",
      "\n",
      "\n",
      "At random state53,the training accuracy is:-0.9048442016872695\n",
      "At random state53,the testing accuracy is:-0.8524939615808071\n",
      "\n",
      "\n",
      "At random state54,the training accuracy is:-0.8982293254785564\n",
      "At random state54,the testing accuracy is:-0.8776799027550092\n",
      "\n",
      "\n",
      "At random state55,the training accuracy is:-0.8934732789730451\n",
      "At random state55,the testing accuracy is:-0.897710913939017\n",
      "\n",
      "\n",
      "At random state56,the training accuracy is:-0.9062773777328017\n",
      "At random state56,the testing accuracy is:-0.8436665154822789\n",
      "\n",
      "\n",
      "At random state57,the training accuracy is:-0.9032862954100991\n",
      "At random state57,the testing accuracy is:-0.865206036731957\n",
      "\n",
      "\n",
      "At random state58,the training accuracy is:-0.8815285101634734\n",
      "At random state58,the testing accuracy is:-0.930113922012518\n",
      "\n",
      "\n",
      "At random state59,the training accuracy is:-0.8872670373538741\n",
      "At random state59,the testing accuracy is:-0.9184306555712066\n",
      "\n",
      "\n",
      "At random state60,the training accuracy is:-0.8985938448584895\n",
      "At random state60,the testing accuracy is:-0.8823000359749915\n",
      "\n",
      "\n",
      "At random state61,the training accuracy is:-0.9046156537711098\n",
      "At random state61,the testing accuracy is:-0.8532975619375341\n",
      "\n",
      "\n",
      "At random state62,the training accuracy is:-0.9006118694968954\n",
      "At random state62,the testing accuracy is:-0.8571507573921291\n",
      "\n",
      "\n",
      "At random state63,the training accuracy is:-0.8939151551704926\n",
      "At random state63,the testing accuracy is:-0.8972874269449633\n",
      "\n",
      "\n",
      "At random state64,the training accuracy is:-0.8860385862322467\n",
      "At random state64,the testing accuracy is:-0.9267279065103222\n",
      "\n",
      "\n",
      "At random state65,the training accuracy is:-0.8979269961140793\n",
      "At random state65,the testing accuracy is:-0.8825466552554457\n",
      "\n",
      "\n",
      "At random state66,the training accuracy is:-0.9005426396871374\n",
      "At random state66,the testing accuracy is:-0.8744920660734805\n",
      "\n",
      "\n",
      "At random state67,the training accuracy is:-0.8916079358605493\n",
      "At random state67,the testing accuracy is:-0.905787440117047\n",
      "\n",
      "\n",
      "At random state68,the training accuracy is:-0.9033182509577264\n",
      "At random state68,the testing accuracy is:-0.8617429493016013\n",
      "\n",
      "\n",
      "At random state69,the training accuracy is:-0.8914686052810469\n",
      "At random state69,the testing accuracy is:-0.906070694321867\n",
      "\n",
      "\n",
      "At random state70,the training accuracy is:-0.8827162954196404\n",
      "At random state70,the testing accuracy is:-0.9265656652996626\n",
      "\n",
      "\n",
      "At random state71,the training accuracy is:-0.9094738850819296\n",
      "At random state71,the testing accuracy is:-0.8071830117377919\n",
      "\n",
      "\n",
      "At random state72,the training accuracy is:-0.8877647068250816\n",
      "At random state72,the testing accuracy is:-0.9212755833741662\n",
      "\n",
      "\n",
      "At random state73,the training accuracy is:-0.8960783562759226\n",
      "At random state73,the testing accuracy is:-0.8849214355996003\n",
      "\n",
      "\n",
      "At random state74,the training accuracy is:-0.8741050234782155\n",
      "At random state74,the testing accuracy is:-0.929830802012856\n",
      "\n",
      "\n",
      "At random state75,the training accuracy is:-0.8953962394226144\n",
      "At random state75,the testing accuracy is:-0.8756772369429392\n",
      "\n",
      "\n",
      "At random state76,the training accuracy is:-0.9038582953449021\n",
      "At random state76,the testing accuracy is:-0.851612626570941\n",
      "\n",
      "\n",
      "At random state77,the training accuracy is:-0.8890301857718984\n",
      "At random state77,the testing accuracy is:-0.9166905563751221\n",
      "\n",
      "\n",
      "At random state78,the training accuracy is:-0.9134603355273572\n",
      "At random state78,the testing accuracy is:-0.7902344027203059\n",
      "\n",
      "\n",
      "At random state79,the training accuracy is:-0.8918146350991454\n",
      "At random state79,the testing accuracy is:-0.9014406236580841\n",
      "\n",
      "\n",
      "At random state80,the training accuracy is:-0.8926690585654801\n",
      "At random state80,the testing accuracy is:-0.9037187128234278\n",
      "\n",
      "\n",
      "At random state81,the training accuracy is:-0.8877828922449126\n",
      "At random state81,the testing accuracy is:-0.9199455602534609\n",
      "\n",
      "\n",
      "At random state82,the training accuracy is:-0.9090696813399116\n",
      "At random state82,the testing accuracy is:-0.839876824043998\n",
      "\n",
      "\n",
      "At random state83,the training accuracy is:-0.9004594013771818\n",
      "At random state83,the testing accuracy is:-0.8791148089196504\n",
      "\n",
      "\n",
      "At random state84,the training accuracy is:-0.8835761124862845\n",
      "At random state84,the testing accuracy is:-0.9292654473438203\n",
      "\n",
      "\n",
      "At random state85,the training accuracy is:-0.9132027063640219\n",
      "At random state85,the testing accuracy is:-0.7705544702687278\n",
      "\n",
      "\n",
      "At random state86,the training accuracy is:-0.8925903351276707\n",
      "At random state86,the testing accuracy is:-0.9047661303024037\n",
      "\n",
      "\n",
      "At random state87,the training accuracy is:-0.9141328363442639\n",
      "At random state87,the testing accuracy is:-0.8087421010289435\n",
      "\n",
      "\n",
      "At random state88,the training accuracy is:-0.8972954404318595\n",
      "At random state88,the testing accuracy is:-0.8837353565017301\n",
      "\n",
      "\n",
      "At random state89,the training accuracy is:-0.903250960526272\n",
      "At random state89,the testing accuracy is:-0.845842124811012\n",
      "\n",
      "\n",
      "At random state90,the training accuracy is:-0.8791542940797823\n",
      "At random state90,the testing accuracy is:-0.9477136584598765\n",
      "\n",
      "\n",
      "At random state91,the training accuracy is:-0.8925537988702157\n",
      "At random state91,the testing accuracy is:-0.8986272987144843\n",
      "\n",
      "\n",
      "At random state92,the training accuracy is:-0.89370900172804\n",
      "At random state92,the testing accuracy is:-0.8937806772897253\n",
      "\n",
      "\n",
      "At random state93,the training accuracy is:-0.908390049960135\n",
      "At random state93,the testing accuracy is:-0.8435303584836114\n",
      "\n",
      "\n",
      "At random state94,the training accuracy is:-0.9035778811399116\n",
      "At random state94,the testing accuracy is:-0.8679025522688202\n",
      "\n",
      "\n",
      "At random state95,the training accuracy is:-0.9081470930021118\n",
      "At random state95,the testing accuracy is:-0.8479116409360148\n",
      "\n",
      "\n",
      "At random state96,the training accuracy is:-0.9025829262386168\n",
      "At random state96,the testing accuracy is:-0.8549819020058949\n",
      "\n",
      "\n",
      "At random state97,the training accuracy is:-0.8941951908750972\n",
      "At random state97,the testing accuracy is:-0.8975724260460941\n",
      "\n",
      "\n",
      "At random state98,the training accuracy is:-0.9090516361378773\n",
      "At random state98,the testing accuracy is:-0.8382459156006745\n",
      "\n",
      "\n",
      "At random state99,the training accuracy is:-0.8832087051413472\n",
      "At random state99,the testing accuracy is:-0.9300192208914474\n",
      "\n",
      "\n"
     ]
    }
   ],
   "source": [
    "for i in range(0,100):\n",
    "    x_train,x_test,y_train,y_test =train_test_split(X_scaled,y,test_size=0.2,random_state=i)\n",
    "    regression.fit(x_train,y_train)\n",
    "    pred_train = regression.predict(x_train)\n",
    "    pred_test= regression.predict(x_test)\n",
    "    print(f\"At random state{i},the training accuracy is:-{r2_score(y_train,pred_train)}\")\n",
    "    print(f\"At random state{i},the testing accuracy is:-{r2_score(y_test,pred_test)}\")\n",
    "    print(\"\\n\")"
   ]
  },
  {
   "cell_type": "code",
   "execution_count": 86,
   "id": "e0b56b67",
   "metadata": {},
   "outputs": [
    {
     "data": {
      "text/plain": [
       "(158, 3)"
      ]
     },
     "execution_count": 86,
     "metadata": {},
     "output_type": "execute_result"
    }
   ],
   "source": [
    "x_train.shape"
   ]
  },
  {
   "cell_type": "code",
   "execution_count": 87,
   "id": "98bce37a",
   "metadata": {},
   "outputs": [
    {
     "data": {
      "text/plain": [
       "(158,)"
      ]
     },
     "execution_count": 87,
     "metadata": {},
     "output_type": "execute_result"
    }
   ],
   "source": [
    "y_train.shape"
   ]
  },
  {
   "cell_type": "code",
   "execution_count": 88,
   "id": "2ab80822",
   "metadata": {},
   "outputs": [
    {
     "data": {
      "text/plain": [
       "(40, 3)"
      ]
     },
     "execution_count": 88,
     "metadata": {},
     "output_type": "execute_result"
    }
   ],
   "source": [
    "x_test.shape"
   ]
  },
  {
   "cell_type": "code",
   "execution_count": 89,
   "id": "d545b2f8",
   "metadata": {},
   "outputs": [
    {
     "data": {
      "text/plain": [
       "LinearRegression()"
      ]
     },
     "execution_count": 89,
     "metadata": {},
     "output_type": "execute_result"
    }
   ],
   "source": [
    " x_train,x_test,y_train,y_test =train_test_split(X_scaled,y,test_size=0.2,random_state=24)\n",
    "regression=LinearRegression()\n",
    "regression.fit(x_train,y_train)"
   ]
  },
  {
   "cell_type": "code",
   "execution_count": 90,
   "id": "25501451",
   "metadata": {},
   "outputs": [
    {
     "data": {
      "text/plain": [
       "5       7.2\n",
       "180    10.5\n",
       "173    11.7\n",
       "187    17.3\n",
       "110    13.4\n",
       "Name: sales, dtype: float64"
      ]
     },
     "execution_count": 90,
     "metadata": {},
     "output_type": "execute_result"
    }
   ],
   "source": [
    "y_pred=regression.predict(x_test)\n",
    "y_train.head()"
   ]
  },
  {
   "cell_type": "code",
   "execution_count": 91,
   "id": "ad34fe2d",
   "metadata": {},
   "outputs": [
    {
     "data": {
      "text/html": [
       "<div>\n",
       "<style scoped>\n",
       "    .dataframe tbody tr th:only-of-type {\n",
       "        vertical-align: middle;\n",
       "    }\n",
       "\n",
       "    .dataframe tbody tr th {\n",
       "        vertical-align: top;\n",
       "    }\n",
       "\n",
       "    .dataframe thead th {\n",
       "        text-align: right;\n",
       "    }\n",
       "</style>\n",
       "<table border=\"1\" class=\"dataframe\">\n",
       "  <thead>\n",
       "    <tr style=\"text-align: right;\">\n",
       "      <th></th>\n",
       "      <th>Unnamed: 0</th>\n",
       "      <th>TV</th>\n",
       "      <th>radio</th>\n",
       "      <th>newspaper</th>\n",
       "      <th>sales</th>\n",
       "    </tr>\n",
       "  </thead>\n",
       "  <tbody>\n",
       "    <tr>\n",
       "      <th>0</th>\n",
       "      <td>1</td>\n",
       "      <td>230.1</td>\n",
       "      <td>37.8</td>\n",
       "      <td>69.2</td>\n",
       "      <td>22.1</td>\n",
       "    </tr>\n",
       "    <tr>\n",
       "      <th>1</th>\n",
       "      <td>2</td>\n",
       "      <td>44.5</td>\n",
       "      <td>39.3</td>\n",
       "      <td>45.1</td>\n",
       "      <td>10.4</td>\n",
       "    </tr>\n",
       "    <tr>\n",
       "      <th>2</th>\n",
       "      <td>3</td>\n",
       "      <td>17.2</td>\n",
       "      <td>45.9</td>\n",
       "      <td>69.3</td>\n",
       "      <td>9.3</td>\n",
       "    </tr>\n",
       "    <tr>\n",
       "      <th>3</th>\n",
       "      <td>4</td>\n",
       "      <td>151.5</td>\n",
       "      <td>41.3</td>\n",
       "      <td>58.5</td>\n",
       "      <td>18.5</td>\n",
       "    </tr>\n",
       "    <tr>\n",
       "      <th>4</th>\n",
       "      <td>5</td>\n",
       "      <td>180.8</td>\n",
       "      <td>10.8</td>\n",
       "      <td>58.4</td>\n",
       "      <td>12.9</td>\n",
       "    </tr>\n",
       "  </tbody>\n",
       "</table>\n",
       "</div>"
      ],
      "text/plain": [
       "   Unnamed: 0     TV  radio  newspaper  sales\n",
       "0           1  230.1   37.8       69.2   22.1\n",
       "1           2   44.5   39.3       45.1   10.4\n",
       "2           3   17.2   45.9       69.3    9.3\n",
       "3           4  151.5   41.3       58.5   18.5\n",
       "4           5  180.8   10.8       58.4   12.9"
      ]
     },
     "execution_count": 91,
     "metadata": {},
     "output_type": "execute_result"
    }
   ],
   "source": [
    "df.head(5)"
   ]
  },
  {
   "cell_type": "code",
   "execution_count": 92,
   "id": "d943b7c7",
   "metadata": {},
   "outputs": [
    {
     "name": "stdout",
     "output_type": "stream",
     "text": [
      "SALES: [17.41891269]\n"
     ]
    }
   ],
   "source": [
    "#since we already fit the data,now we can transform the data\n",
    "print('SALES:',regression.predict(scaler.transform([[151.5,41.3,58.5]])))"
   ]
  },
  {
   "cell_type": "code",
   "execution_count": 93,
   "id": "1bdf2bd5",
   "metadata": {},
   "outputs": [
    {
     "data": {
      "text/plain": [
       "0.8809757910723603"
      ]
     },
     "execution_count": 93,
     "metadata": {},
     "output_type": "execute_result"
    }
   ],
   "source": [
    "#Adjusted R2 score\n",
    "regression.score(x_train,y_train)"
   ]
  },
  {
   "cell_type": "code",
   "execution_count": 94,
   "id": "5daddb2b",
   "metadata": {},
   "outputs": [
    {
     "data": {
      "text/plain": [
       "0.9456025807476978"
      ]
     },
     "execution_count": 94,
     "metadata": {},
     "output_type": "execute_result"
    }
   ],
   "source": [
    "regression.score(x_test,y_test)"
   ]
  },
  {
   "cell_type": "code",
   "execution_count": 95,
   "id": "78c14caf",
   "metadata": {},
   "outputs": [
    {
     "data": {
      "text/plain": [
       "array([ 4.29631103, 21.07825712, 14.66962503,  6.49887728,  7.99693811,\n",
       "        8.08014969, 21.47487973, 12.50227763, 14.07771522,  9.9194312 ,\n",
       "        9.73536364, 18.95497735, 18.27863216, 14.94674356, 15.20926803,\n",
       "       20.29458854, 16.93859556, 17.64454479, 21.12699275, 20.29604971,\n",
       "        7.52950218, 20.6940919 , 17.9052949 ,  9.53162246, 17.34547341,\n",
       "       14.91945382, 18.4108073 , 19.19501887, 23.90716484, 17.25862501,\n",
       "       19.70672362,  9.86063768,  9.54244391, 10.311802  , 10.04353497,\n",
       "       15.44884444, 14.82865231,  7.29019261,  7.80120291, 11.85249272])"
      ]
     },
     "execution_count": 95,
     "metadata": {},
     "output_type": "execute_result"
    }
   ],
   "source": [
    "#lets plot and visualize\n",
    "y_pred=regression.predict(x_test)\n",
    "y_pred"
   ]
  },
  {
   "cell_type": "code",
   "execution_count": 96,
   "id": "521928e9",
   "metadata": {},
   "outputs": [
    {
     "data": {
      "image/png": "[encoded data removed]",
      "text/plain": [
       "<Figure size 432x288 with 1 Axes>"
      ]
     },
     "metadata": {
      "needs_background": "light"
     },
     "output_type": "display_data"
    }
   ],
   "source": [
    "plt.scatter(y_test,y_pred,color='r')\n",
    "plt.xlabel='actual salary'\n",
    "plt.ylabel='Predicted salary'\n",
    "plt.title='Actual vs model predicted '\n",
    "plt.show()"
   ]
  },
  {
   "cell_type": "code",
   "execution_count": 97,
   "id": "3b676349",
   "metadata": {},
   "outputs": [],
   "source": [
    "from sklearn.metrics import mean_squared_error,mean_absolute_error"
   ]
  },
  {
   "cell_type": "code",
   "execution_count": 98,
   "id": "6afdbcd7",
   "metadata": {},
   "outputs": [
    {
     "data": {
      "text/plain": [
       "1.3997404528615582"
      ]
     },
     "execution_count": 98,
     "metadata": {},
     "output_type": "execute_result"
    }
   ],
   "source": [
    " mean_squared_error(y_test,y_pred)"
   ]
  },
  {
   "cell_type": "code",
   "execution_count": 99,
   "id": "59d241c3",
   "metadata": {},
   "outputs": [
    {
     "data": {
      "text/plain": [
       "0.9447865127960526"
      ]
     },
     "execution_count": 99,
     "metadata": {},
     "output_type": "execute_result"
    }
   ],
   "source": [
    "mean_absolute_error(y_test,y_pred)"
   ]
  },
  {
   "cell_type": "code",
   "execution_count": 100,
   "id": "5749c130",
   "metadata": {},
   "outputs": [
    {
     "data": {
      "text/plain": [
       "1.1831062728519186"
      ]
     },
     "execution_count": 100,
     "metadata": {},
     "output_type": "execute_result"
    }
   ],
   "source": [
    "np.sqrt(mean_squared_error(y_test,y_pred))"
   ]
  },
  {
   "cell_type": "code",
   "execution_count": 101,
   "id": "81fd10c0",
   "metadata": {},
   "outputs": [],
   "source": [
    "#regularization to chk whether model is overfitting or not\n",
    "\n",
    "from sklearn.linear_model import Ridge,Lasso,RidgeCV,LassoCV"
   ]
  },
  {
   "cell_type": "code",
   "execution_count": 102,
   "id": "c7c3fcd5",
   "metadata": {},
   "outputs": [
    {
     "data": {
      "text/plain": [
       "LassoCV(max_iter=100, normalize=True)"
      ]
     },
     "execution_count": 102,
     "metadata": {},
     "output_type": "execute_result"
    }
   ],
   "source": [
    "lasscv = LassoCV(alphas=None,max_iter=100,normalize=True)\n",
    "lasscv.fit(x_train,y_train)"
   ]
  },
  {
   "cell_type": "code",
   "execution_count": 103,
   "id": "16840b0d",
   "metadata": {},
   "outputs": [
    {
     "data": {
      "text/plain": [
       "0.005855336049237517"
      ]
     },
     "execution_count": 103,
     "metadata": {},
     "output_type": "execute_result"
    }
   ],
   "source": [
    "alpha =lasscv.alpha_\n",
    "alpha"
   ]
  },
  {
   "cell_type": "code",
   "execution_count": 104,
   "id": "3caf0fa6",
   "metadata": {},
   "outputs": [
    {
     "data": {
      "text/plain": [
       "Lasso(alpha=0.005855336049237517)"
      ]
     },
     "execution_count": 104,
     "metadata": {},
     "output_type": "execute_result"
    }
   ],
   "source": [
    "lasso_reg = Lasso(alpha)\n",
    "lasso_reg.fit(x_train,y_train)"
   ]
  },
  {
   "cell_type": "code",
   "execution_count": 105,
   "id": "f92a879a",
   "metadata": {},
   "outputs": [
    {
     "data": {
      "text/plain": [
       "0.9458312978306809"
      ]
     },
     "execution_count": 105,
     "metadata": {},
     "output_type": "execute_result"
    }
   ],
   "source": [
    "lasso_reg.score(x_test,y_test)"
   ]
  },
  {
   "cell_type": "code",
   "execution_count": 106,
   "id": "21de886a",
   "metadata": {},
   "outputs": [
    {
     "data": {
      "text/plain": [
       "RidgeCV(alphas=array([0.001, 0.011, 0.021, 0.031, 0.041, 0.051, 0.061, 0.071, 0.081,\n",
       "       0.091]),\n",
       "        normalize=True)"
      ]
     },
     "execution_count": 106,
     "metadata": {},
     "output_type": "execute_result"
    }
   ],
   "source": [
    "#RidgeCV\n",
    "ridgecv =RidgeCV(alphas=np.arange(0.001,0.1,0.01),normalize=True)\n",
    "ridgecv.fit(x_train,y_train)\n"
   ]
  },
  {
   "cell_type": "code",
   "execution_count": 107,
   "id": "57b5d334",
   "metadata": {},
   "outputs": [
    {
     "data": {
      "text/plain": [
       "0.001"
      ]
     },
     "execution_count": 107,
     "metadata": {},
     "output_type": "execute_result"
    }
   ],
   "source": [
    "\n",
    "ridgecv.alpha_"
   ]
  },
  {
   "cell_type": "code",
   "execution_count": 108,
   "id": "d8a3176c",
   "metadata": {},
   "outputs": [
    {
     "data": {
      "text/plain": [
       "Ridge(alpha=0.001)"
      ]
     },
     "execution_count": 108,
     "metadata": {},
     "output_type": "execute_result"
    }
   ],
   "source": [
    "ridge_model = Ridge(alpha=ridgecv.alpha_)\n",
    "ridge_model.fit(x_train,y_train)"
   ]
  },
  {
   "cell_type": "code",
   "execution_count": 109,
   "id": "f82039ab",
   "metadata": {},
   "outputs": [
    {
     "data": {
      "text/plain": [
       "0.945602818863763"
      ]
     },
     "execution_count": 109,
     "metadata": {},
     "output_type": "execute_result"
    }
   ],
   "source": [
    "ridge_model.score(x_test,y_test)"
   ]
  },
  {
   "cell_type": "code",
   "execution_count": 110,
   "id": "8b4fd1b5",
   "metadata": {},
   "outputs": [
    {
     "name": "stdout",
     "output_type": "stream",
     "text": [
      "cross validation score of linear regression model: 0.8853605762229637\n"
     ]
    }
   ],
   "source": [
    "from sklearn.model_selection import cross_val_score\n",
    "\n",
    "scr1=cross_val_score(ridge_model,X,y,cv=5)\n",
    "print(\"cross validation score of linear regression model:\",scr1.mean())"
   ]
  },
  {
   "cell_type": "code",
   "execution_count": 111,
   "id": "a0de6da0",
   "metadata": {},
   "outputs": [
    {
     "data": {
      "text/plain": [
       "array([0.87988273, 0.9176965 , 0.92510819, 0.80845814, 0.89565732])"
      ]
     },
     "execution_count": 111,
     "metadata": {},
     "output_type": "execute_result"
    }
   ],
   "source": [
    "scr1"
   ]
  },
  {
   "cell_type": "code",
   "execution_count": 112,
   "id": "bcc59257",
   "metadata": {},
   "outputs": [
    {
     "name": "stdout",
     "output_type": "stream",
     "text": [
      "cross validation score of ridge model: 0.8853605762229637\n"
     ]
    }
   ],
   "source": [
    "from sklearn.model_selection import cross_val_score\n",
    "\n",
    "scr2=cross_val_score(ridge_model,X,y,cv=5)\n",
    "print(\"cross validation score of ridge model:\",scr2.mean())"
   ]
  },
  {
   "cell_type": "code",
   "execution_count": 113,
   "id": "790e14c4",
   "metadata": {},
   "outputs": [
    {
     "name": "stdout",
     "output_type": "stream",
     "text": [
      "cross validation score of lasso model: 0.8853705439500825\n"
     ]
    }
   ],
   "source": [
    "from sklearn.model_selection import cross_val_score\n",
    "\n",
    "scr3=cross_val_score(lasso_reg,X,y,cv=5)\n",
    "print(\"cross validation score of lasso model:\",scr3.mean())"
   ]
  },
  {
   "cell_type": "code",
   "execution_count": 114,
   "id": "c8ea89ca",
   "metadata": {},
   "outputs": [
    {
     "name": "stdout",
     "output_type": "stream",
     "text": [
      "{'criterion': 'mae', 'max_features': 'auto'}\n"
     ]
    }
   ],
   "source": [
    "from sklearn.model_selection import GridSearchCV\n",
    "from sklearn.ensemble import RandomForestRegressor\n",
    "parameters ={'criterion':['mse','mae'],'max_features':[\"auto\",\"sqrt\",\"log2\"]}\n",
    "rf=RandomForestRegressor()\n",
    "abc=GridSearchCV(rf,parameters)\n",
    "abc.fit(x_train,y_train)\n",
    "print(abc.best_params_)"
   ]
  },
  {
   "cell_type": "code",
   "execution_count": 115,
   "id": "c2114573",
   "metadata": {},
   "outputs": [
    {
     "name": "stdout",
     "output_type": "stream",
     "text": [
      "R2 score: 98.14787649204692\n",
      "cross val score: 97.6075221199585\n"
     ]
    }
   ],
   "source": [
    "rf=RandomForestRegressor(criterion= 'mae',max_features='auto')\n",
    "rf.fit(x_train,y_train)\n",
    "rf.score(x_train,y_train)\n",
    "y_pred=rf.predict(x_test)\n",
    "rfs=r2_score(y_test,y_pred)\n",
    "print('R2 score:',rfs*100)\n",
    "\n",
    "rfscore=cross_val_score(rf,X,y,cv=5)\n",
    "rfc=rfscore.mean()\n",
    "print('cross val score:',rfc*100)"
   ]
  },
  {
   "cell_type": "code",
   "execution_count": 116,
   "id": "517e44c4",
   "metadata": {},
   "outputs": [
    {
     "name": "stdout",
     "output_type": "stream",
     "text": [
      "{'criterion': 'mae', 'max_features': 'auto'}\n"
     ]
    }
   ],
   "source": [
    "from sklearn.tree import DecisionTreeRegressor\n",
    "parameters ={'criterion':['mse','mae'],'max_features':[\"auto\",\"sqrt\",\"log2\"]}\n",
    "dt=DecisionTreeRegressor()\n",
    "abc=GridSearchCV(rf,parameters)\n",
    "abc.fit(x_train,y_train)\n",
    "print(abc.best_params_)"
   ]
  },
  {
   "cell_type": "code",
   "execution_count": 117,
   "id": "33d51096",
   "metadata": {},
   "outputs": [
    {
     "name": "stdout",
     "output_type": "stream",
     "text": [
      "R2 score: 97.14263437743118\n",
      "cross val score: 94.44188663561958\n"
     ]
    }
   ],
   "source": [
    "dt=DecisionTreeRegressor(criterion= 'mae',max_features='auto')\n",
    "dt.fit(x_train,y_train)\n",
    "dt.score(x_train,y_train)\n",
    "y_pred=dt.predict(x_test)\n",
    "dtr=r2_score(y_test,y_pred)\n",
    "print('R2 score:',dtr*100)\n",
    "\n",
    "dtscore=cross_val_score(dt,X,y,cv=5)\n",
    "dtr=dtscore.mean()\n",
    "print('cross val score:',dtr*100)"
   ]
  },
  {
   "cell_type": "code",
   "execution_count": 118,
   "id": "5e05bcfd",
   "metadata": {},
   "outputs": [
    {
     "name": "stdout",
     "output_type": "stream",
     "text": [
      "Requirement already satisfied: xgboost in e:\\anaconda\\lib\\site-packages (1.6.1)\n",
      "Requirement already satisfied: scipy in e:\\anaconda\\lib\\site-packages (from xgboost) (1.7.1)\n",
      "Requirement already satisfied: numpy in e:\\anaconda\\lib\\site-packages (from xgboost) (1.20.3)\n"
     ]
    }
   ],
   "source": [
    "!pip install xgboost"
   ]
  },
  {
   "cell_type": "code",
   "execution_count": 119,
   "id": "5ffea491",
   "metadata": {},
   "outputs": [
    {
     "name": "stdout",
     "output_type": "stream",
     "text": [
      "{'colsample_bytree': 0.7, 'gamma': 0, 'learning_rate': 0.3, 'max_depth': 2, 'n_estimators': 150, 'subsample': 0.4}\n"
     ]
    }
   ],
   "source": [
    "import xgboost as xgb\n",
    "from xgboost import XGBRegressor\n",
    "from sklearn.metrics import mean_squared_error\n",
    "parameters={\"colsample_bytree\": [0.7, 0.3],\n",
    "    \"gamma\": [0, 0.5],\n",
    "    \"learning_rate\": [0.03, 0.3], \n",
    "    \"max_depth\": [2, 6],\n",
    "    \"n_estimators\": [100, 150],\n",
    "    \"subsample\": [0.6, 0.4]}\n",
    "xg=XGBRegressor()\n",
    "abc=GridSearchCV(xg,parameters)\n",
    "abc.fit(x_train,y_train)\n",
    "print(abc.best_params_)"
   ]
  },
  {
   "cell_type": "code",
   "execution_count": 123,
   "id": "c3cde07f",
   "metadata": {},
   "outputs": [
    {
     "name": "stdout",
     "output_type": "stream",
     "text": [
      "R2 score: 98.75559250842711\n",
      "cross val score: 96.90907247774507\n"
     ]
    }
   ],
   "source": [
    "model=XGBRegressor(colsample_bytree=0.7, gamma =0, learning_rate=0.3, max_depth=2, n_estimators=150, subsample=0.4)\n",
    "model.fit(x_train,y_train)\n",
    "model.score(x_train,y_train)\n",
    "y_pred=model.predict(x_test)\n",
    "model_score=r2_score(y_test,y_pred)\n",
    "print('R2 score:',model_score*100)\n",
    "\n",
    "modelscore=cross_val_score(xg,X,y,cv=5)\n",
    "xgr=modelscore.mean()\n",
    "print('cross val score:',xgr*100)"
   ]
  },
  {
   "cell_type": "code",
   "execution_count": null,
   "id": "5f3eaea3",
   "metadata": {},
   "outputs": [],
   "source": [
    "#so as we can see xgboost regressor is giving best accuracy....so we will select this model"
   ]
  },
  {
   "cell_type": "code",
   "execution_count": 125,
   "id": "19fbe954",
   "metadata": {},
   "outputs": [],
   "source": [
    "#saving the model to local file system\n",
    "filename='salesprediction.pickle'\n",
    "pickle.dump(regression,open(filename,'wb'))\n"
   ]
  },
  {
   "cell_type": "code",
   "execution_count": null,
   "id": "46bc7a98",
   "metadata": {},
   "outputs": [],
   "source": [
    ".....#..........................................................THANKS......................................................................."
   ]
  }
 ],
 "metadata": {
  "kernelspec": {
   "display_name": "Python 3 (ipykernel)",
   "language": "python",
   "name": "python3"
  },
  "language_info": {
   "codemirror_mode": {
    "name": "ipython",
    "version": 3
   },
   "file_extension": ".py",
   "mimetype": "text/x-python",
   "name": "python",
   "nbconvert_exporter": "python",
   "pygments_lexer": "ipython3",
   "version": "3.9.7"
  }
 },
 "nbformat": 4,
 "nbformat_minor": 5
}
