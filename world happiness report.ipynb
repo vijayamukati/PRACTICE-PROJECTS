{
 "cells": [
  {
   "cell_type": "code",
   "execution_count": 46,
   "id": "8499b37d",
   "metadata": {},
   "outputs": [],
   "source": [
    "import pandas as pd\n",
    "import numpy as np\n",
    "from sklearn.preprocessing import StandardScaler\n",
    "from sklearn.linear_model import LinearRegression\n",
    "from sklearn.preprocessing import OrdinalEncoder\n",
    "from sklearn.model_selection import train_test_split\n",
    "from statsmodels.stats.outliers_influence import variance_inflation_factor\n",
    "import matplotlib.pyplot as plt\n",
    "import seaborn as sns\n",
    "import pickle\n",
    "import warnings\n",
    "warnings.filterwarnings('ignore')\n"
   ]
  },
  {
   "cell_type": "code",
   "execution_count": 77,
   "id": "6fe70fcf",
   "metadata": {},
   "outputs": [
    {
     "data": {
      "text/html": [
       "<div>\n",
       "<style scoped>\n",
       "    .dataframe tbody tr th:only-of-type {\n",
       "        vertical-align: middle;\n",
       "    }\n",
       "\n",
       "    .dataframe tbody tr th {\n",
       "        vertical-align: top;\n",
       "    }\n",
       "\n",
       "    .dataframe thead th {\n",
       "        text-align: right;\n",
       "    }\n",
       "</style>\n",
       "<table border=\"1\" class=\"dataframe\">\n",
       "  <thead>\n",
       "    <tr style=\"text-align: right;\">\n",
       "      <th></th>\n",
       "      <th>Country</th>\n",
       "      <th>Region</th>\n",
       "      <th>Happiness Rank</th>\n",
       "      <th>Happiness Score</th>\n",
       "      <th>SE</th>\n",
       "      <th>Economy (GDP per Capita)</th>\n",
       "      <th>Family</th>\n",
       "      <th>Health</th>\n",
       "      <th>Freedom</th>\n",
       "      <th>Trust</th>\n",
       "      <th>Generosity</th>\n",
       "      <th>Dystopia</th>\n",
       "    </tr>\n",
       "  </thead>\n",
       "  <tbody>\n",
       "    <tr>\n",
       "      <th>0</th>\n",
       "      <td>Switzerland</td>\n",
       "      <td>Western Europe</td>\n",
       "      <td>1</td>\n",
       "      <td>7.587</td>\n",
       "      <td>0.03411</td>\n",
       "      <td>1.39651</td>\n",
       "      <td>1.34951</td>\n",
       "      <td>0.94143</td>\n",
       "      <td>0.66557</td>\n",
       "      <td>0.41978</td>\n",
       "      <td>0.29678</td>\n",
       "      <td>2.51738</td>\n",
       "    </tr>\n",
       "    <tr>\n",
       "      <th>1</th>\n",
       "      <td>Iceland</td>\n",
       "      <td>Western Europe</td>\n",
       "      <td>2</td>\n",
       "      <td>7.561</td>\n",
       "      <td>0.04884</td>\n",
       "      <td>1.30232</td>\n",
       "      <td>1.40223</td>\n",
       "      <td>0.94784</td>\n",
       "      <td>0.62877</td>\n",
       "      <td>0.14145</td>\n",
       "      <td>0.43630</td>\n",
       "      <td>2.70201</td>\n",
       "    </tr>\n",
       "    <tr>\n",
       "      <th>2</th>\n",
       "      <td>Denmark</td>\n",
       "      <td>Western Europe</td>\n",
       "      <td>3</td>\n",
       "      <td>7.527</td>\n",
       "      <td>0.03328</td>\n",
       "      <td>1.32548</td>\n",
       "      <td>1.36058</td>\n",
       "      <td>0.87464</td>\n",
       "      <td>0.64938</td>\n",
       "      <td>0.48357</td>\n",
       "      <td>0.34139</td>\n",
       "      <td>2.49204</td>\n",
       "    </tr>\n",
       "    <tr>\n",
       "      <th>3</th>\n",
       "      <td>Norway</td>\n",
       "      <td>Western Europe</td>\n",
       "      <td>4</td>\n",
       "      <td>7.522</td>\n",
       "      <td>0.03880</td>\n",
       "      <td>1.45900</td>\n",
       "      <td>1.33095</td>\n",
       "      <td>0.88521</td>\n",
       "      <td>0.66973</td>\n",
       "      <td>0.36503</td>\n",
       "      <td>0.34699</td>\n",
       "      <td>2.46531</td>\n",
       "    </tr>\n",
       "    <tr>\n",
       "      <th>4</th>\n",
       "      <td>Canada</td>\n",
       "      <td>North America</td>\n",
       "      <td>5</td>\n",
       "      <td>7.427</td>\n",
       "      <td>0.03553</td>\n",
       "      <td>1.32629</td>\n",
       "      <td>1.32261</td>\n",
       "      <td>0.90563</td>\n",
       "      <td>0.63297</td>\n",
       "      <td>0.32957</td>\n",
       "      <td>0.45811</td>\n",
       "      <td>2.45176</td>\n",
       "    </tr>\n",
       "  </tbody>\n",
       "</table>\n",
       "</div>"
      ],
      "text/plain": [
       "       Country          Region  Happiness Rank  Happiness Score       SE  \\\n",
       "0  Switzerland  Western Europe               1            7.587  0.03411   \n",
       "1      Iceland  Western Europe               2            7.561  0.04884   \n",
       "2      Denmark  Western Europe               3            7.527  0.03328   \n",
       "3       Norway  Western Europe               4            7.522  0.03880   \n",
       "4       Canada   North America               5            7.427  0.03553   \n",
       "\n",
       "   Economy (GDP per Capita)   Family   Health  Freedom    Trust  Generosity  \\\n",
       "0                   1.39651  1.34951  0.94143  0.66557  0.41978     0.29678   \n",
       "1                   1.30232  1.40223  0.94784  0.62877  0.14145     0.43630   \n",
       "2                   1.32548  1.36058  0.87464  0.64938  0.48357     0.34139   \n",
       "3                   1.45900  1.33095  0.88521  0.66973  0.36503     0.34699   \n",
       "4                   1.32629  1.32261  0.90563  0.63297  0.32957     0.45811   \n",
       "\n",
       "   Dystopia  \n",
       "0   2.51738  \n",
       "1   2.70201  \n",
       "2   2.49204  \n",
       "3   2.46531  \n",
       "4   2.45176  "
      ]
     },
     "execution_count": 77,
     "metadata": {},
     "output_type": "execute_result"
    }
   ],
   "source": [
    "df=pd.read_csv('https://raw.githubusercontent.com/dsrscientist/DSData/master/happiness_score_dataset.csv')\n",
    "df.rename(columns={'Trust (Government Corruption)':'Trust','Health (Life Expectancy)':'Health','Dystopia Residual':'Dystopia','Standard Error':'SE'},inplace=True)\n",
    "df.head()"
   ]
  },
  {
   "cell_type": "code",
   "execution_count": 78,
   "id": "62627f5b",
   "metadata": {},
   "outputs": [
    {
     "data": {
      "text/plain": [
       "(158, 12)"
      ]
     },
     "execution_count": 78,
     "metadata": {},
     "output_type": "execute_result"
    }
   ],
   "source": [
    "df.shape"
   ]
  },
  {
   "cell_type": "code",
   "execution_count": 79,
   "id": "5fa0c5ca",
   "metadata": {},
   "outputs": [
    {
     "data": {
      "text/plain": [
       "Index(['Country', 'Region', 'Happiness Rank', 'Happiness Score', 'SE',\n",
       "       'Economy (GDP per Capita)', 'Family', 'Health', 'Freedom', 'Trust',\n",
       "       'Generosity', 'Dystopia'],\n",
       "      dtype='object')"
      ]
     },
     "execution_count": 79,
     "metadata": {},
     "output_type": "execute_result"
    }
   ],
   "source": [
    "df.columns"
   ]
  },
  {
   "cell_type": "code",
   "execution_count": 80,
   "id": "4a0bf2a8",
   "metadata": {},
   "outputs": [
    {
     "data": {
      "text/plain": [
       "0"
      ]
     },
     "execution_count": 80,
     "metadata": {},
     "output_type": "execute_result"
    }
   ],
   "source": [
    "df.isnull().sum().sum()"
   ]
  },
  {
   "cell_type": "code",
   "execution_count": 81,
   "id": "b5f9ed53",
   "metadata": {},
   "outputs": [
    {
     "data": {
      "image/png": "[encoded data removed]",
      "text/plain": [
       "<Figure size 1440x576 with 2 Axes>"
      ]
     },
     "metadata": {
      "needs_background": "light"
     },
     "output_type": "display_data"
    }
   ],
   "source": [
    "plt.figure(figsize=(20, 8))\n",
    "sns.heatmap(df.corr(), annot = True)\n",
    "plt.title('Correlations between factors',fontsize=20)\n",
    "plt.savefig('correlation_between _factors.jpg')\n",
    "plt.show()"
   ]
  },
  {
   "cell_type": "code",
   "execution_count": 82,
   "id": "98d309b1",
   "metadata": {},
   "outputs": [],
   "source": [
    "#Observation\n",
    "\n",
    "#1.The high correlation between Economy(GDP per capita) and Happiness score\n",
    "#2.The high correlation between Health and Family\n",
    "#3.Weak correlation between Happiness score and Generosity\n"
   ]
  },
  {
   "cell_type": "code",
   "execution_count": 83,
   "id": "855602ca",
   "metadata": {
    "scrolled": true
   },
   "outputs": [
    {
     "data": {
      "text/html": [
       "<div>\n",
       "<style scoped>\n",
       "    .dataframe tbody tr th:only-of-type {\n",
       "        vertical-align: middle;\n",
       "    }\n",
       "\n",
       "    .dataframe tbody tr th {\n",
       "        vertical-align: top;\n",
       "    }\n",
       "\n",
       "    .dataframe thead th {\n",
       "        text-align: right;\n",
       "    }\n",
       "</style>\n",
       "<table border=\"1\" class=\"dataframe\">\n",
       "  <thead>\n",
       "    <tr style=\"text-align: right;\">\n",
       "      <th></th>\n",
       "      <th>Happiness Rank</th>\n",
       "      <th>Happiness Score</th>\n",
       "      <th>SE</th>\n",
       "      <th>Economy (GDP per Capita)</th>\n",
       "      <th>Family</th>\n",
       "      <th>Health</th>\n",
       "      <th>Freedom</th>\n",
       "      <th>Trust</th>\n",
       "      <th>Generosity</th>\n",
       "      <th>Dystopia</th>\n",
       "    </tr>\n",
       "  </thead>\n",
       "  <tbody>\n",
       "    <tr>\n",
       "      <th>count</th>\n",
       "      <td>158.000000</td>\n",
       "      <td>158.000000</td>\n",
       "      <td>158.000000</td>\n",
       "      <td>158.000000</td>\n",
       "      <td>158.000000</td>\n",
       "      <td>158.000000</td>\n",
       "      <td>158.000000</td>\n",
       "      <td>158.000000</td>\n",
       "      <td>158.000000</td>\n",
       "      <td>158.000000</td>\n",
       "    </tr>\n",
       "    <tr>\n",
       "      <th>mean</th>\n",
       "      <td>79.493671</td>\n",
       "      <td>5.375734</td>\n",
       "      <td>0.047885</td>\n",
       "      <td>0.846137</td>\n",
       "      <td>0.991046</td>\n",
       "      <td>0.630259</td>\n",
       "      <td>0.428615</td>\n",
       "      <td>0.143422</td>\n",
       "      <td>0.237296</td>\n",
       "      <td>2.098977</td>\n",
       "    </tr>\n",
       "    <tr>\n",
       "      <th>std</th>\n",
       "      <td>45.754363</td>\n",
       "      <td>1.145010</td>\n",
       "      <td>0.017146</td>\n",
       "      <td>0.403121</td>\n",
       "      <td>0.272369</td>\n",
       "      <td>0.247078</td>\n",
       "      <td>0.150693</td>\n",
       "      <td>0.120034</td>\n",
       "      <td>0.126685</td>\n",
       "      <td>0.553550</td>\n",
       "    </tr>\n",
       "    <tr>\n",
       "      <th>min</th>\n",
       "      <td>1.000000</td>\n",
       "      <td>2.839000</td>\n",
       "      <td>0.018480</td>\n",
       "      <td>0.000000</td>\n",
       "      <td>0.000000</td>\n",
       "      <td>0.000000</td>\n",
       "      <td>0.000000</td>\n",
       "      <td>0.000000</td>\n",
       "      <td>0.000000</td>\n",
       "      <td>0.328580</td>\n",
       "    </tr>\n",
       "    <tr>\n",
       "      <th>25%</th>\n",
       "      <td>40.250000</td>\n",
       "      <td>4.526000</td>\n",
       "      <td>0.037268</td>\n",
       "      <td>0.545808</td>\n",
       "      <td>0.856823</td>\n",
       "      <td>0.439185</td>\n",
       "      <td>0.328330</td>\n",
       "      <td>0.061675</td>\n",
       "      <td>0.150553</td>\n",
       "      <td>1.759410</td>\n",
       "    </tr>\n",
       "    <tr>\n",
       "      <th>50%</th>\n",
       "      <td>79.500000</td>\n",
       "      <td>5.232500</td>\n",
       "      <td>0.043940</td>\n",
       "      <td>0.910245</td>\n",
       "      <td>1.029510</td>\n",
       "      <td>0.696705</td>\n",
       "      <td>0.435515</td>\n",
       "      <td>0.107220</td>\n",
       "      <td>0.216130</td>\n",
       "      <td>2.095415</td>\n",
       "    </tr>\n",
       "    <tr>\n",
       "      <th>75%</th>\n",
       "      <td>118.750000</td>\n",
       "      <td>6.243750</td>\n",
       "      <td>0.052300</td>\n",
       "      <td>1.158448</td>\n",
       "      <td>1.214405</td>\n",
       "      <td>0.811013</td>\n",
       "      <td>0.549092</td>\n",
       "      <td>0.180255</td>\n",
       "      <td>0.309883</td>\n",
       "      <td>2.462415</td>\n",
       "    </tr>\n",
       "    <tr>\n",
       "      <th>max</th>\n",
       "      <td>158.000000</td>\n",
       "      <td>7.587000</td>\n",
       "      <td>0.136930</td>\n",
       "      <td>1.690420</td>\n",
       "      <td>1.402230</td>\n",
       "      <td>1.025250</td>\n",
       "      <td>0.669730</td>\n",
       "      <td>0.551910</td>\n",
       "      <td>0.795880</td>\n",
       "      <td>3.602140</td>\n",
       "    </tr>\n",
       "  </tbody>\n",
       "</table>\n",
       "</div>"
      ],
      "text/plain": [
       "       Happiness Rank  Happiness Score          SE  Economy (GDP per Capita)  \\\n",
       "count      158.000000       158.000000  158.000000                158.000000   \n",
       "mean        79.493671         5.375734    0.047885                  0.846137   \n",
       "std         45.754363         1.145010    0.017146                  0.403121   \n",
       "min          1.000000         2.839000    0.018480                  0.000000   \n",
       "25%         40.250000         4.526000    0.037268                  0.545808   \n",
       "50%         79.500000         5.232500    0.043940                  0.910245   \n",
       "75%        118.750000         6.243750    0.052300                  1.158448   \n",
       "max        158.000000         7.587000    0.136930                  1.690420   \n",
       "\n",
       "           Family      Health     Freedom       Trust  Generosity    Dystopia  \n",
       "count  158.000000  158.000000  158.000000  158.000000  158.000000  158.000000  \n",
       "mean     0.991046    0.630259    0.428615    0.143422    0.237296    2.098977  \n",
       "std      0.272369    0.247078    0.150693    0.120034    0.126685    0.553550  \n",
       "min      0.000000    0.000000    0.000000    0.000000    0.000000    0.328580  \n",
       "25%      0.856823    0.439185    0.328330    0.061675    0.150553    1.759410  \n",
       "50%      1.029510    0.696705    0.435515    0.107220    0.216130    2.095415  \n",
       "75%      1.214405    0.811013    0.549092    0.180255    0.309883    2.462415  \n",
       "max      1.402230    1.025250    0.669730    0.551910    0.795880    3.602140  "
      ]
     },
     "execution_count": 83,
     "metadata": {},
     "output_type": "execute_result"
    }
   ],
   "source": [
    "df.describe()"
   ]
  },
  {
   "cell_type": "code",
   "execution_count": 84,
   "id": "f0b33292",
   "metadata": {},
   "outputs": [
    {
     "data": {
      "text/plain": [
       "Country                      object\n",
       "Region                       object\n",
       "Happiness Rank                int64\n",
       "Happiness Score             float64\n",
       "SE                          float64\n",
       "Economy (GDP per Capita)    float64\n",
       "Family                      float64\n",
       "Health                      float64\n",
       "Freedom                     float64\n",
       "Trust                       float64\n",
       "Generosity                  float64\n",
       "Dystopia                    float64\n",
       "dtype: object"
      ]
     },
     "execution_count": 84,
     "metadata": {},
     "output_type": "execute_result"
    }
   ],
   "source": [
    "df.dtypes"
   ]
  },
  {
   "cell_type": "code",
   "execution_count": 85,
   "id": "f12ca02f",
   "metadata": {},
   "outputs": [
    {
     "data": {
      "text/html": [
       "<div>\n",
       "<style scoped>\n",
       "    .dataframe tbody tr th:only-of-type {\n",
       "        vertical-align: middle;\n",
       "    }\n",
       "\n",
       "    .dataframe tbody tr th {\n",
       "        vertical-align: top;\n",
       "    }\n",
       "\n",
       "    .dataframe thead th {\n",
       "        text-align: right;\n",
       "    }\n",
       "</style>\n",
       "<table border=\"1\" class=\"dataframe\">\n",
       "  <thead>\n",
       "    <tr style=\"text-align: right;\">\n",
       "      <th></th>\n",
       "      <th>Country</th>\n",
       "      <th>Region</th>\n",
       "      <th>Happiness Rank</th>\n",
       "      <th>Happiness Score</th>\n",
       "      <th>SE</th>\n",
       "      <th>Economy (GDP per Capita)</th>\n",
       "      <th>Family</th>\n",
       "      <th>Health</th>\n",
       "      <th>Freedom</th>\n",
       "      <th>Trust</th>\n",
       "      <th>Generosity</th>\n",
       "      <th>Dystopia</th>\n",
       "    </tr>\n",
       "  </thead>\n",
       "  <tbody>\n",
       "    <tr>\n",
       "      <th>0</th>\n",
       "      <td>135.0</td>\n",
       "      <td>9.0</td>\n",
       "      <td>1</td>\n",
       "      <td>7.587</td>\n",
       "      <td>0.03411</td>\n",
       "      <td>1.39651</td>\n",
       "      <td>1.34951</td>\n",
       "      <td>0.94143</td>\n",
       "      <td>0.66557</td>\n",
       "      <td>0.41978</td>\n",
       "      <td>0.29678</td>\n",
       "      <td>2.51738</td>\n",
       "    </tr>\n",
       "    <tr>\n",
       "      <th>1</th>\n",
       "      <td>58.0</td>\n",
       "      <td>9.0</td>\n",
       "      <td>2</td>\n",
       "      <td>7.561</td>\n",
       "      <td>0.04884</td>\n",
       "      <td>1.30232</td>\n",
       "      <td>1.40223</td>\n",
       "      <td>0.94784</td>\n",
       "      <td>0.62877</td>\n",
       "      <td>0.14145</td>\n",
       "      <td>0.43630</td>\n",
       "      <td>2.70201</td>\n",
       "    </tr>\n",
       "    <tr>\n",
       "      <th>2</th>\n",
       "      <td>37.0</td>\n",
       "      <td>9.0</td>\n",
       "      <td>3</td>\n",
       "      <td>7.527</td>\n",
       "      <td>0.03328</td>\n",
       "      <td>1.32548</td>\n",
       "      <td>1.36058</td>\n",
       "      <td>0.87464</td>\n",
       "      <td>0.64938</td>\n",
       "      <td>0.48357</td>\n",
       "      <td>0.34139</td>\n",
       "      <td>2.49204</td>\n",
       "    </tr>\n",
       "    <tr>\n",
       "      <th>3</th>\n",
       "      <td>105.0</td>\n",
       "      <td>9.0</td>\n",
       "      <td>4</td>\n",
       "      <td>7.522</td>\n",
       "      <td>0.03880</td>\n",
       "      <td>1.45900</td>\n",
       "      <td>1.33095</td>\n",
       "      <td>0.88521</td>\n",
       "      <td>0.66973</td>\n",
       "      <td>0.36503</td>\n",
       "      <td>0.34699</td>\n",
       "      <td>2.46531</td>\n",
       "    </tr>\n",
       "    <tr>\n",
       "      <th>4</th>\n",
       "      <td>24.0</td>\n",
       "      <td>5.0</td>\n",
       "      <td>5</td>\n",
       "      <td>7.427</td>\n",
       "      <td>0.03553</td>\n",
       "      <td>1.32629</td>\n",
       "      <td>1.32261</td>\n",
       "      <td>0.90563</td>\n",
       "      <td>0.63297</td>\n",
       "      <td>0.32957</td>\n",
       "      <td>0.45811</td>\n",
       "      <td>2.45176</td>\n",
       "    </tr>\n",
       "    <tr>\n",
       "      <th>...</th>\n",
       "      <td>...</td>\n",
       "      <td>...</td>\n",
       "      <td>...</td>\n",
       "      <td>...</td>\n",
       "      <td>...</td>\n",
       "      <td>...</td>\n",
       "      <td>...</td>\n",
       "      <td>...</td>\n",
       "      <td>...</td>\n",
       "      <td>...</td>\n",
       "      <td>...</td>\n",
       "      <td>...</td>\n",
       "    </tr>\n",
       "    <tr>\n",
       "      <th>153</th>\n",
       "      <td>118.0</td>\n",
       "      <td>8.0</td>\n",
       "      <td>154</td>\n",
       "      <td>3.465</td>\n",
       "      <td>0.03464</td>\n",
       "      <td>0.22208</td>\n",
       "      <td>0.77370</td>\n",
       "      <td>0.42864</td>\n",
       "      <td>0.59201</td>\n",
       "      <td>0.55191</td>\n",
       "      <td>0.22628</td>\n",
       "      <td>0.67042</td>\n",
       "    </tr>\n",
       "    <tr>\n",
       "      <th>154</th>\n",
       "      <td>13.0</td>\n",
       "      <td>8.0</td>\n",
       "      <td>155</td>\n",
       "      <td>3.340</td>\n",
       "      <td>0.03656</td>\n",
       "      <td>0.28665</td>\n",
       "      <td>0.35386</td>\n",
       "      <td>0.31910</td>\n",
       "      <td>0.48450</td>\n",
       "      <td>0.08010</td>\n",
       "      <td>0.18260</td>\n",
       "      <td>1.63328</td>\n",
       "    </tr>\n",
       "    <tr>\n",
       "      <th>155</th>\n",
       "      <td>136.0</td>\n",
       "      <td>4.0</td>\n",
       "      <td>156</td>\n",
       "      <td>3.006</td>\n",
       "      <td>0.05015</td>\n",
       "      <td>0.66320</td>\n",
       "      <td>0.47489</td>\n",
       "      <td>0.72193</td>\n",
       "      <td>0.15684</td>\n",
       "      <td>0.18906</td>\n",
       "      <td>0.47179</td>\n",
       "      <td>0.32858</td>\n",
       "    </tr>\n",
       "    <tr>\n",
       "      <th>156</th>\n",
       "      <td>21.0</td>\n",
       "      <td>8.0</td>\n",
       "      <td>157</td>\n",
       "      <td>2.905</td>\n",
       "      <td>0.08658</td>\n",
       "      <td>0.01530</td>\n",
       "      <td>0.41587</td>\n",
       "      <td>0.22396</td>\n",
       "      <td>0.11850</td>\n",
       "      <td>0.10062</td>\n",
       "      <td>0.19727</td>\n",
       "      <td>1.83302</td>\n",
       "    </tr>\n",
       "    <tr>\n",
       "      <th>157</th>\n",
       "      <td>141.0</td>\n",
       "      <td>8.0</td>\n",
       "      <td>158</td>\n",
       "      <td>2.839</td>\n",
       "      <td>0.06727</td>\n",
       "      <td>0.20868</td>\n",
       "      <td>0.13995</td>\n",
       "      <td>0.28443</td>\n",
       "      <td>0.36453</td>\n",
       "      <td>0.10731</td>\n",
       "      <td>0.16681</td>\n",
       "      <td>1.56726</td>\n",
       "    </tr>\n",
       "  </tbody>\n",
       "</table>\n",
       "<p>158 rows × 12 columns</p>\n",
       "</div>"
      ],
      "text/plain": [
       "     Country  Region  Happiness Rank  Happiness Score       SE  \\\n",
       "0      135.0     9.0               1            7.587  0.03411   \n",
       "1       58.0     9.0               2            7.561  0.04884   \n",
       "2       37.0     9.0               3            7.527  0.03328   \n",
       "3      105.0     9.0               4            7.522  0.03880   \n",
       "4       24.0     5.0               5            7.427  0.03553   \n",
       "..       ...     ...             ...              ...      ...   \n",
       "153    118.0     8.0             154            3.465  0.03464   \n",
       "154     13.0     8.0             155            3.340  0.03656   \n",
       "155    136.0     4.0             156            3.006  0.05015   \n",
       "156     21.0     8.0             157            2.905  0.08658   \n",
       "157    141.0     8.0             158            2.839  0.06727   \n",
       "\n",
       "     Economy (GDP per Capita)   Family   Health  Freedom    Trust  Generosity  \\\n",
       "0                     1.39651  1.34951  0.94143  0.66557  0.41978     0.29678   \n",
       "1                     1.30232  1.40223  0.94784  0.62877  0.14145     0.43630   \n",
       "2                     1.32548  1.36058  0.87464  0.64938  0.48357     0.34139   \n",
       "3                     1.45900  1.33095  0.88521  0.66973  0.36503     0.34699   \n",
       "4                     1.32629  1.32261  0.90563  0.63297  0.32957     0.45811   \n",
       "..                        ...      ...      ...      ...      ...         ...   \n",
       "153                   0.22208  0.77370  0.42864  0.59201  0.55191     0.22628   \n",
       "154                   0.28665  0.35386  0.31910  0.48450  0.08010     0.18260   \n",
       "155                   0.66320  0.47489  0.72193  0.15684  0.18906     0.47179   \n",
       "156                   0.01530  0.41587  0.22396  0.11850  0.10062     0.19727   \n",
       "157                   0.20868  0.13995  0.28443  0.36453  0.10731     0.16681   \n",
       "\n",
       "     Dystopia  \n",
       "0     2.51738  \n",
       "1     2.70201  \n",
       "2     2.49204  \n",
       "3     2.46531  \n",
       "4     2.45176  \n",
       "..        ...  \n",
       "153   0.67042  \n",
       "154   1.63328  \n",
       "155   0.32858  \n",
       "156   1.83302  \n",
       "157   1.56726  \n",
       "\n",
       "[158 rows x 12 columns]"
      ]
     },
     "execution_count": 85,
     "metadata": {},
     "output_type": "execute_result"
    }
   ],
   "source": [
    "enc=OrdinalEncoder()\n",
    "for i in df.columns:\n",
    "    if df[i].dtypes==\"object\":\n",
    "        df[i]=enc.fit_transform(df[i].values.reshape(-1,1))\n",
    "df"
   ]
  },
  {
   "cell_type": "code",
   "execution_count": 86,
   "id": "f5da3fd2",
   "metadata": {},
   "outputs": [],
   "source": [
    "y = df['Happiness Score']\n",
    "X = df.drop(columns=['Happiness Score'])"
   ]
  },
  {
   "cell_type": "code",
   "execution_count": 87,
   "id": "91370d9e",
   "metadata": {},
   "outputs": [
    {
     "data": {
      "text/plain": [
       "0      7.587\n",
       "1      7.561\n",
       "2      7.527\n",
       "3      7.522\n",
       "4      7.427\n",
       "       ...  \n",
       "153    3.465\n",
       "154    3.340\n",
       "155    3.006\n",
       "156    2.905\n",
       "157    2.839\n",
       "Name: Happiness Score, Length: 158, dtype: float64"
      ]
     },
     "execution_count": 87,
     "metadata": {},
     "output_type": "execute_result"
    }
   ],
   "source": [
    "y"
   ]
  },
  {
   "cell_type": "code",
   "execution_count": 88,
   "id": "bd946bb1",
   "metadata": {},
   "outputs": [
    {
     "data": {
      "text/html": [
       "<div>\n",
       "<style scoped>\n",
       "    .dataframe tbody tr th:only-of-type {\n",
       "        vertical-align: middle;\n",
       "    }\n",
       "\n",
       "    .dataframe tbody tr th {\n",
       "        vertical-align: top;\n",
       "    }\n",
       "\n",
       "    .dataframe thead th {\n",
       "        text-align: right;\n",
       "    }\n",
       "</style>\n",
       "<table border=\"1\" class=\"dataframe\">\n",
       "  <thead>\n",
       "    <tr style=\"text-align: right;\">\n",
       "      <th></th>\n",
       "      <th>Country</th>\n",
       "      <th>Region</th>\n",
       "      <th>Happiness Rank</th>\n",
       "      <th>SE</th>\n",
       "      <th>Economy (GDP per Capita)</th>\n",
       "      <th>Family</th>\n",
       "      <th>Health</th>\n",
       "      <th>Freedom</th>\n",
       "      <th>Trust</th>\n",
       "      <th>Generosity</th>\n",
       "      <th>Dystopia</th>\n",
       "    </tr>\n",
       "  </thead>\n",
       "  <tbody>\n",
       "    <tr>\n",
       "      <th>0</th>\n",
       "      <td>135.0</td>\n",
       "      <td>9.0</td>\n",
       "      <td>1</td>\n",
       "      <td>0.03411</td>\n",
       "      <td>1.39651</td>\n",
       "      <td>1.34951</td>\n",
       "      <td>0.94143</td>\n",
       "      <td>0.66557</td>\n",
       "      <td>0.41978</td>\n",
       "      <td>0.29678</td>\n",
       "      <td>2.51738</td>\n",
       "    </tr>\n",
       "    <tr>\n",
       "      <th>1</th>\n",
       "      <td>58.0</td>\n",
       "      <td>9.0</td>\n",
       "      <td>2</td>\n",
       "      <td>0.04884</td>\n",
       "      <td>1.30232</td>\n",
       "      <td>1.40223</td>\n",
       "      <td>0.94784</td>\n",
       "      <td>0.62877</td>\n",
       "      <td>0.14145</td>\n",
       "      <td>0.43630</td>\n",
       "      <td>2.70201</td>\n",
       "    </tr>\n",
       "    <tr>\n",
       "      <th>2</th>\n",
       "      <td>37.0</td>\n",
       "      <td>9.0</td>\n",
       "      <td>3</td>\n",
       "      <td>0.03328</td>\n",
       "      <td>1.32548</td>\n",
       "      <td>1.36058</td>\n",
       "      <td>0.87464</td>\n",
       "      <td>0.64938</td>\n",
       "      <td>0.48357</td>\n",
       "      <td>0.34139</td>\n",
       "      <td>2.49204</td>\n",
       "    </tr>\n",
       "    <tr>\n",
       "      <th>3</th>\n",
       "      <td>105.0</td>\n",
       "      <td>9.0</td>\n",
       "      <td>4</td>\n",
       "      <td>0.03880</td>\n",
       "      <td>1.45900</td>\n",
       "      <td>1.33095</td>\n",
       "      <td>0.88521</td>\n",
       "      <td>0.66973</td>\n",
       "      <td>0.36503</td>\n",
       "      <td>0.34699</td>\n",
       "      <td>2.46531</td>\n",
       "    </tr>\n",
       "    <tr>\n",
       "      <th>4</th>\n",
       "      <td>24.0</td>\n",
       "      <td>5.0</td>\n",
       "      <td>5</td>\n",
       "      <td>0.03553</td>\n",
       "      <td>1.32629</td>\n",
       "      <td>1.32261</td>\n",
       "      <td>0.90563</td>\n",
       "      <td>0.63297</td>\n",
       "      <td>0.32957</td>\n",
       "      <td>0.45811</td>\n",
       "      <td>2.45176</td>\n",
       "    </tr>\n",
       "    <tr>\n",
       "      <th>...</th>\n",
       "      <td>...</td>\n",
       "      <td>...</td>\n",
       "      <td>...</td>\n",
       "      <td>...</td>\n",
       "      <td>...</td>\n",
       "      <td>...</td>\n",
       "      <td>...</td>\n",
       "      <td>...</td>\n",
       "      <td>...</td>\n",
       "      <td>...</td>\n",
       "      <td>...</td>\n",
       "    </tr>\n",
       "    <tr>\n",
       "      <th>153</th>\n",
       "      <td>118.0</td>\n",
       "      <td>8.0</td>\n",
       "      <td>154</td>\n",
       "      <td>0.03464</td>\n",
       "      <td>0.22208</td>\n",
       "      <td>0.77370</td>\n",
       "      <td>0.42864</td>\n",
       "      <td>0.59201</td>\n",
       "      <td>0.55191</td>\n",
       "      <td>0.22628</td>\n",
       "      <td>0.67042</td>\n",
       "    </tr>\n",
       "    <tr>\n",
       "      <th>154</th>\n",
       "      <td>13.0</td>\n",
       "      <td>8.0</td>\n",
       "      <td>155</td>\n",
       "      <td>0.03656</td>\n",
       "      <td>0.28665</td>\n",
       "      <td>0.35386</td>\n",
       "      <td>0.31910</td>\n",
       "      <td>0.48450</td>\n",
       "      <td>0.08010</td>\n",
       "      <td>0.18260</td>\n",
       "      <td>1.63328</td>\n",
       "    </tr>\n",
       "    <tr>\n",
       "      <th>155</th>\n",
       "      <td>136.0</td>\n",
       "      <td>4.0</td>\n",
       "      <td>156</td>\n",
       "      <td>0.05015</td>\n",
       "      <td>0.66320</td>\n",
       "      <td>0.47489</td>\n",
       "      <td>0.72193</td>\n",
       "      <td>0.15684</td>\n",
       "      <td>0.18906</td>\n",
       "      <td>0.47179</td>\n",
       "      <td>0.32858</td>\n",
       "    </tr>\n",
       "    <tr>\n",
       "      <th>156</th>\n",
       "      <td>21.0</td>\n",
       "      <td>8.0</td>\n",
       "      <td>157</td>\n",
       "      <td>0.08658</td>\n",
       "      <td>0.01530</td>\n",
       "      <td>0.41587</td>\n",
       "      <td>0.22396</td>\n",
       "      <td>0.11850</td>\n",
       "      <td>0.10062</td>\n",
       "      <td>0.19727</td>\n",
       "      <td>1.83302</td>\n",
       "    </tr>\n",
       "    <tr>\n",
       "      <th>157</th>\n",
       "      <td>141.0</td>\n",
       "      <td>8.0</td>\n",
       "      <td>158</td>\n",
       "      <td>0.06727</td>\n",
       "      <td>0.20868</td>\n",
       "      <td>0.13995</td>\n",
       "      <td>0.28443</td>\n",
       "      <td>0.36453</td>\n",
       "      <td>0.10731</td>\n",
       "      <td>0.16681</td>\n",
       "      <td>1.56726</td>\n",
       "    </tr>\n",
       "  </tbody>\n",
       "</table>\n",
       "<p>158 rows × 11 columns</p>\n",
       "</div>"
      ],
      "text/plain": [
       "     Country  Region  Happiness Rank       SE  Economy (GDP per Capita)  \\\n",
       "0      135.0     9.0               1  0.03411                   1.39651   \n",
       "1       58.0     9.0               2  0.04884                   1.30232   \n",
       "2       37.0     9.0               3  0.03328                   1.32548   \n",
       "3      105.0     9.0               4  0.03880                   1.45900   \n",
       "4       24.0     5.0               5  0.03553                   1.32629   \n",
       "..       ...     ...             ...      ...                       ...   \n",
       "153    118.0     8.0             154  0.03464                   0.22208   \n",
       "154     13.0     8.0             155  0.03656                   0.28665   \n",
       "155    136.0     4.0             156  0.05015                   0.66320   \n",
       "156     21.0     8.0             157  0.08658                   0.01530   \n",
       "157    141.0     8.0             158  0.06727                   0.20868   \n",
       "\n",
       "      Family   Health  Freedom    Trust  Generosity  Dystopia  \n",
       "0    1.34951  0.94143  0.66557  0.41978     0.29678   2.51738  \n",
       "1    1.40223  0.94784  0.62877  0.14145     0.43630   2.70201  \n",
       "2    1.36058  0.87464  0.64938  0.48357     0.34139   2.49204  \n",
       "3    1.33095  0.88521  0.66973  0.36503     0.34699   2.46531  \n",
       "4    1.32261  0.90563  0.63297  0.32957     0.45811   2.45176  \n",
       "..       ...      ...      ...      ...         ...       ...  \n",
       "153  0.77370  0.42864  0.59201  0.55191     0.22628   0.67042  \n",
       "154  0.35386  0.31910  0.48450  0.08010     0.18260   1.63328  \n",
       "155  0.47489  0.72193  0.15684  0.18906     0.47179   0.32858  \n",
       "156  0.41587  0.22396  0.11850  0.10062     0.19727   1.83302  \n",
       "157  0.13995  0.28443  0.36453  0.10731     0.16681   1.56726  \n",
       "\n",
       "[158 rows x 11 columns]"
      ]
     },
     "execution_count": 88,
     "metadata": {},
     "output_type": "execute_result"
    }
   ],
   "source": [
    "X"
   ]
  },
  {
   "cell_type": "code",
   "execution_count": 89,
   "id": "bd23ce90",
   "metadata": {},
   "outputs": [
    {
     "data": {
      "text/plain": [
       "Text(0.5, 0, 'Happiness score')"
      ]
     },
     "execution_count": 89,
     "metadata": {},
     "output_type": "execute_result"
    },
    {
     "data": {
      "image/png": "[encoded data removed]",
      "text/plain": [
       "<Figure size 576x576 with 1 Axes>"
      ]
     },
     "metadata": {},
     "output_type": "display_data"
    }
   ],
   "source": [
    "#lets visualize and see relationship btw economy of countries and happiness scorre\n",
    "\n",
    "plt.figure(figsize=(8,8),facecolor='yellow')\n",
    "\n",
    "plt.scatter(X['Economy (GDP per Capita)'],y)\n",
    "plt.xlabel('Economy (GDP per Capita)',fontsize=20)\n",
    "plt.xlabel('Happiness score',fontsize=20)"
   ]
  },
  {
   "cell_type": "code",
   "execution_count": 90,
   "id": "11eb538d",
   "metadata": {},
   "outputs": [
    {
     "data": {
      "text/plain": [
       "Text(0.5, 0, 'Happiness score')"
      ]
     },
     "execution_count": 90,
     "metadata": {},
     "output_type": "execute_result"
    },
    {
     "data": {
      "image/png": "[encoded data removed]",
      "text/plain": [
       "<Figure size 576x576 with 1 Axes>"
      ]
     },
     "metadata": {},
     "output_type": "display_data"
    }
   ],
   "source": [
    "#lets visualize relation ship between family and happiness score\n",
    "\n",
    "plt.figure(figsize=(8,8),facecolor='yellow')\n",
    "\n",
    "plt.scatter(X['Family'],y)\n",
    "plt.xlabel('Family',fontsize=20)\n",
    "plt.xlabel('Happiness score',fontsize=20)"
   ]
  },
  {
   "cell_type": "code",
   "execution_count": 91,
   "id": "507a1a61",
   "metadata": {},
   "outputs": [
    {
     "data": {
      "text/plain": [
       "Text(0.5, 0, 'Happiness score')"
      ]
     },
     "execution_count": 91,
     "metadata": {},
     "output_type": "execute_result"
    },
    {
     "data": {
      "image/png": "[encoded data removed]",
      "text/plain": [
       "<Figure size 576x576 with 1 Axes>"
      ]
     },
     "metadata": {},
     "output_type": "display_data"
    }
   ],
   "source": [
    "#lets visualize relationship btw generosity of countries and happiness score\n",
    "\n",
    "plt.figure(figsize=(8,8),facecolor='yellow')\n",
    "\n",
    "plt.scatter(X['Generosity'],y)\n",
    "plt.xlabel('Generosity',fontsize=20)\n",
    "plt.xlabel('Happiness score',fontsize=20)"
   ]
  },
  {
   "cell_type": "code",
   "execution_count": 92,
   "id": "4c17311a",
   "metadata": {},
   "outputs": [
    {
     "data": {
      "text/plain": [
       "Text(0.5, 0, 'Happiness score')"
      ]
     },
     "execution_count": 92,
     "metadata": {},
     "output_type": "execute_result"
    },
    {
     "data": {
      "image/png": "[encoded data removed]",
      "text/plain": [
       "<Figure size 576x576 with 1 Axes>"
      ]
     },
     "metadata": {},
     "output_type": "display_data"
    }
   ],
   "source": [
    "#lets visualize relationship between Trust on government and happiness score\n",
    "\n",
    "plt.figure(figsize=(8,8),facecolor='yellow')\n",
    "\n",
    "plt.scatter(X['Trust'],y)\n",
    "plt.xlabel('Trust',fontsize=20)\n",
    "plt.xlabel('Happiness score',fontsize=20)"
   ]
  },
  {
   "cell_type": "code",
   "execution_count": 93,
   "id": "86eb3c12",
   "metadata": {},
   "outputs": [
    {
     "data": {
      "text/plain": [
       "Text(0.5, 0, 'Happiness score')"
      ]
     },
     "execution_count": 93,
     "metadata": {},
     "output_type": "execute_result"
    },
    {
     "data": {
      "image/png": "[encoded data removed]",
      "text/plain": [
       "<Figure size 576x576 with 1 Axes>"
      ]
     },
     "metadata": {},
     "output_type": "display_data"
    }
   ],
   "source": [
    "#lets visualize and analyse the relationship btw Health of people of countries and happiness score\n",
    "\n",
    "plt.figure(figsize=(8,8),facecolor='yellow')\n",
    "\n",
    "plt.scatter(X['Health'],y)\n",
    "plt.xlabel('Health',fontsize=20)\n",
    "plt.xlabel('Happiness score',fontsize=20)"
   ]
  },
  {
   "cell_type": "code",
   "execution_count": 94,
   "id": "61a652bc",
   "metadata": {},
   "outputs": [
    {
     "data": {
      "text/plain": [
       "Text(0.5, 0, 'Happiness score')"
      ]
     },
     "execution_count": 94,
     "metadata": {},
     "output_type": "execute_result"
    },
    {
     "data": {
      "image/png": "[encoded data removed]",
      "text/plain": [
       "<Figure size 576x576 with 1 Axes>"
      ]
     },
     "metadata": {},
     "output_type": "display_data"
    }
   ],
   "source": [
    "#lets visualize and analyse the relationship btw freedom of taking decisions and happiness score\n",
    "\n",
    "plt.figure(figsize=(8,8),facecolor='yellow')\n",
    "\n",
    "plt.scatter(X['Freedom'],y)\n",
    "plt.xlabel('Freedom',fontsize=20)\n",
    "plt.xlabel('Happiness score',fontsize=20)"
   ]
  },
  {
   "cell_type": "code",
   "execution_count": 95,
   "id": "e3346886",
   "metadata": {},
   "outputs": [
    {
     "data": {
      "text/plain": [
       "0      7.587\n",
       "1      7.561\n",
       "2      7.527\n",
       "3      7.522\n",
       "4      7.427\n",
       "       ...  \n",
       "153    3.465\n",
       "154    3.340\n",
       "155    3.006\n",
       "156    2.905\n",
       "157    2.839\n",
       "Name: Happiness Score, Length: 158, dtype: float64"
      ]
     },
     "execution_count": 95,
     "metadata": {},
     "output_type": "execute_result"
    }
   ],
   "source": [
    "y"
   ]
  },
  {
   "cell_type": "code",
   "execution_count": 96,
   "id": "d44614a4",
   "metadata": {},
   "outputs": [
    {
     "data": {
      "text/html": [
       "<div>\n",
       "<style scoped>\n",
       "    .dataframe tbody tr th:only-of-type {\n",
       "        vertical-align: middle;\n",
       "    }\n",
       "\n",
       "    .dataframe tbody tr th {\n",
       "        vertical-align: top;\n",
       "    }\n",
       "\n",
       "    .dataframe thead th {\n",
       "        text-align: right;\n",
       "    }\n",
       "</style>\n",
       "<table border=\"1\" class=\"dataframe\">\n",
       "  <thead>\n",
       "    <tr style=\"text-align: right;\">\n",
       "      <th></th>\n",
       "      <th>Country</th>\n",
       "      <th>Region</th>\n",
       "      <th>Happiness Rank</th>\n",
       "      <th>SE</th>\n",
       "      <th>Economy (GDP per Capita)</th>\n",
       "      <th>Family</th>\n",
       "      <th>Health</th>\n",
       "      <th>Freedom</th>\n",
       "      <th>Trust</th>\n",
       "      <th>Generosity</th>\n",
       "      <th>Dystopia</th>\n",
       "    </tr>\n",
       "  </thead>\n",
       "  <tbody>\n",
       "    <tr>\n",
       "      <th>0</th>\n",
       "      <td>135.0</td>\n",
       "      <td>9.0</td>\n",
       "      <td>1</td>\n",
       "      <td>0.03411</td>\n",
       "      <td>1.39651</td>\n",
       "      <td>1.34951</td>\n",
       "      <td>0.94143</td>\n",
       "      <td>0.66557</td>\n",
       "      <td>0.41978</td>\n",
       "      <td>0.29678</td>\n",
       "      <td>2.51738</td>\n",
       "    </tr>\n",
       "    <tr>\n",
       "      <th>1</th>\n",
       "      <td>58.0</td>\n",
       "      <td>9.0</td>\n",
       "      <td>2</td>\n",
       "      <td>0.04884</td>\n",
       "      <td>1.30232</td>\n",
       "      <td>1.40223</td>\n",
       "      <td>0.94784</td>\n",
       "      <td>0.62877</td>\n",
       "      <td>0.14145</td>\n",
       "      <td>0.43630</td>\n",
       "      <td>2.70201</td>\n",
       "    </tr>\n",
       "    <tr>\n",
       "      <th>2</th>\n",
       "      <td>37.0</td>\n",
       "      <td>9.0</td>\n",
       "      <td>3</td>\n",
       "      <td>0.03328</td>\n",
       "      <td>1.32548</td>\n",
       "      <td>1.36058</td>\n",
       "      <td>0.87464</td>\n",
       "      <td>0.64938</td>\n",
       "      <td>0.48357</td>\n",
       "      <td>0.34139</td>\n",
       "      <td>2.49204</td>\n",
       "    </tr>\n",
       "    <tr>\n",
       "      <th>3</th>\n",
       "      <td>105.0</td>\n",
       "      <td>9.0</td>\n",
       "      <td>4</td>\n",
       "      <td>0.03880</td>\n",
       "      <td>1.45900</td>\n",
       "      <td>1.33095</td>\n",
       "      <td>0.88521</td>\n",
       "      <td>0.66973</td>\n",
       "      <td>0.36503</td>\n",
       "      <td>0.34699</td>\n",
       "      <td>2.46531</td>\n",
       "    </tr>\n",
       "    <tr>\n",
       "      <th>4</th>\n",
       "      <td>24.0</td>\n",
       "      <td>5.0</td>\n",
       "      <td>5</td>\n",
       "      <td>0.03553</td>\n",
       "      <td>1.32629</td>\n",
       "      <td>1.32261</td>\n",
       "      <td>0.90563</td>\n",
       "      <td>0.63297</td>\n",
       "      <td>0.32957</td>\n",
       "      <td>0.45811</td>\n",
       "      <td>2.45176</td>\n",
       "    </tr>\n",
       "    <tr>\n",
       "      <th>...</th>\n",
       "      <td>...</td>\n",
       "      <td>...</td>\n",
       "      <td>...</td>\n",
       "      <td>...</td>\n",
       "      <td>...</td>\n",
       "      <td>...</td>\n",
       "      <td>...</td>\n",
       "      <td>...</td>\n",
       "      <td>...</td>\n",
       "      <td>...</td>\n",
       "      <td>...</td>\n",
       "    </tr>\n",
       "    <tr>\n",
       "      <th>153</th>\n",
       "      <td>118.0</td>\n",
       "      <td>8.0</td>\n",
       "      <td>154</td>\n",
       "      <td>0.03464</td>\n",
       "      <td>0.22208</td>\n",
       "      <td>0.77370</td>\n",
       "      <td>0.42864</td>\n",
       "      <td>0.59201</td>\n",
       "      <td>0.55191</td>\n",
       "      <td>0.22628</td>\n",
       "      <td>0.67042</td>\n",
       "    </tr>\n",
       "    <tr>\n",
       "      <th>154</th>\n",
       "      <td>13.0</td>\n",
       "      <td>8.0</td>\n",
       "      <td>155</td>\n",
       "      <td>0.03656</td>\n",
       "      <td>0.28665</td>\n",
       "      <td>0.35386</td>\n",
       "      <td>0.31910</td>\n",
       "      <td>0.48450</td>\n",
       "      <td>0.08010</td>\n",
       "      <td>0.18260</td>\n",
       "      <td>1.63328</td>\n",
       "    </tr>\n",
       "    <tr>\n",
       "      <th>155</th>\n",
       "      <td>136.0</td>\n",
       "      <td>4.0</td>\n",
       "      <td>156</td>\n",
       "      <td>0.05015</td>\n",
       "      <td>0.66320</td>\n",
       "      <td>0.47489</td>\n",
       "      <td>0.72193</td>\n",
       "      <td>0.15684</td>\n",
       "      <td>0.18906</td>\n",
       "      <td>0.47179</td>\n",
       "      <td>0.32858</td>\n",
       "    </tr>\n",
       "    <tr>\n",
       "      <th>156</th>\n",
       "      <td>21.0</td>\n",
       "      <td>8.0</td>\n",
       "      <td>157</td>\n",
       "      <td>0.08658</td>\n",
       "      <td>0.01530</td>\n",
       "      <td>0.41587</td>\n",
       "      <td>0.22396</td>\n",
       "      <td>0.11850</td>\n",
       "      <td>0.10062</td>\n",
       "      <td>0.19727</td>\n",
       "      <td>1.83302</td>\n",
       "    </tr>\n",
       "    <tr>\n",
       "      <th>157</th>\n",
       "      <td>141.0</td>\n",
       "      <td>8.0</td>\n",
       "      <td>158</td>\n",
       "      <td>0.06727</td>\n",
       "      <td>0.20868</td>\n",
       "      <td>0.13995</td>\n",
       "      <td>0.28443</td>\n",
       "      <td>0.36453</td>\n",
       "      <td>0.10731</td>\n",
       "      <td>0.16681</td>\n",
       "      <td>1.56726</td>\n",
       "    </tr>\n",
       "  </tbody>\n",
       "</table>\n",
       "<p>158 rows × 11 columns</p>\n",
       "</div>"
      ],
      "text/plain": [
       "     Country  Region  Happiness Rank       SE  Economy (GDP per Capita)  \\\n",
       "0      135.0     9.0               1  0.03411                   1.39651   \n",
       "1       58.0     9.0               2  0.04884                   1.30232   \n",
       "2       37.0     9.0               3  0.03328                   1.32548   \n",
       "3      105.0     9.0               4  0.03880                   1.45900   \n",
       "4       24.0     5.0               5  0.03553                   1.32629   \n",
       "..       ...     ...             ...      ...                       ...   \n",
       "153    118.0     8.0             154  0.03464                   0.22208   \n",
       "154     13.0     8.0             155  0.03656                   0.28665   \n",
       "155    136.0     4.0             156  0.05015                   0.66320   \n",
       "156     21.0     8.0             157  0.08658                   0.01530   \n",
       "157    141.0     8.0             158  0.06727                   0.20868   \n",
       "\n",
       "      Family   Health  Freedom    Trust  Generosity  Dystopia  \n",
       "0    1.34951  0.94143  0.66557  0.41978     0.29678   2.51738  \n",
       "1    1.40223  0.94784  0.62877  0.14145     0.43630   2.70201  \n",
       "2    1.36058  0.87464  0.64938  0.48357     0.34139   2.49204  \n",
       "3    1.33095  0.88521  0.66973  0.36503     0.34699   2.46531  \n",
       "4    1.32261  0.90563  0.63297  0.32957     0.45811   2.45176  \n",
       "..       ...      ...      ...      ...         ...       ...  \n",
       "153  0.77370  0.42864  0.59201  0.55191     0.22628   0.67042  \n",
       "154  0.35386  0.31910  0.48450  0.08010     0.18260   1.63328  \n",
       "155  0.47489  0.72193  0.15684  0.18906     0.47179   0.32858  \n",
       "156  0.41587  0.22396  0.11850  0.10062     0.19727   1.83302  \n",
       "157  0.13995  0.28443  0.36453  0.10731     0.16681   1.56726  \n",
       "\n",
       "[158 rows x 11 columns]"
      ]
     },
     "execution_count": 96,
     "metadata": {},
     "output_type": "execute_result"
    }
   ],
   "source": [
    "X"
   ]
  },
  {
   "cell_type": "code",
   "execution_count": 97,
   "id": "1852f49c",
   "metadata": {},
   "outputs": [
    {
     "data": {
      "image/png": "[encoded data removed]",
      "text/plain": [
       "<Figure size 720x1080 with 12 Axes>"
      ]
     },
     "metadata": {},
     "output_type": "display_data"
    }
   ],
   "source": [
    "#lets visualize and analyse the data\n",
    "\n",
    "plt.figure(figsize=(10,15),facecolor='blue')\n",
    "plotnumber=1\n",
    "\n",
    "for column in df:\n",
    "    if plotnumber<=12:\n",
    "        ax = plt.subplot(4,4,plotnumber)\n",
    "        sns.boxplot(df[column],orient='v')\n",
    "        plt.xlabel(column,fontsize=10)\n",
    "    plotnumber+=1\n",
    "plt.show()"
   ]
  },
  {
   "cell_type": "code",
   "execution_count": 98,
   "id": "0926a702",
   "metadata": {},
   "outputs": [],
   "source": [
    "q1=df.quantile(0.25)"
   ]
  },
  {
   "cell_type": "code",
   "execution_count": 99,
   "id": "3f096144",
   "metadata": {},
   "outputs": [],
   "source": [
    "q3=df.quantile(0.75)"
   ]
  },
  {
   "cell_type": "code",
   "execution_count": 100,
   "id": "47cb022a",
   "metadata": {},
   "outputs": [],
   "source": [
    "iqr=q3-q1"
   ]
  },
  {
   "cell_type": "code",
   "execution_count": 101,
   "id": "4681cd4b",
   "metadata": {},
   "outputs": [
    {
     "data": {
      "text/plain": [
       "0.32044875000000017"
      ]
     },
     "execution_count": 101,
     "metadata": {},
     "output_type": "execute_result"
    }
   ],
   "source": [
    "fam_low=(q1.Family -(1.5 * iqr.Family))\n",
    "fam_low"
   ]
  },
  {
   "cell_type": "code",
   "execution_count": 102,
   "id": "d1a86466",
   "metadata": {},
   "outputs": [
    {
     "data": {
      "text/plain": [
       "(array([147, 152, 157], dtype=int64),)"
      ]
     },
     "execution_count": 102,
     "metadata": {},
     "output_type": "execute_result"
    }
   ],
   "source": [
    "index = np.where(df['Family'] <fam_low)\n",
    "index"
   ]
  },
  {
   "cell_type": "code",
   "execution_count": 103,
   "id": "1915b101",
   "metadata": {
    "scrolled": true
   },
   "outputs": [
    {
     "data": {
      "text/plain": [
       "(155, 12)"
      ]
     },
     "execution_count": 103,
     "metadata": {},
     "output_type": "execute_result"
    }
   ],
   "source": [
    "df =df.drop(df.index[index])\n",
    "df.shape"
   ]
  },
  {
   "cell_type": "code",
   "execution_count": 104,
   "id": "a629775a",
   "metadata": {
    "scrolled": true
   },
   "outputs": [
    {
     "data": {
      "text/html": [
       "<div>\n",
       "<style scoped>\n",
       "    .dataframe tbody tr th:only-of-type {\n",
       "        vertical-align: middle;\n",
       "    }\n",
       "\n",
       "    .dataframe tbody tr th {\n",
       "        vertical-align: top;\n",
       "    }\n",
       "\n",
       "    .dataframe thead th {\n",
       "        text-align: right;\n",
       "    }\n",
       "</style>\n",
       "<table border=\"1\" class=\"dataframe\">\n",
       "  <thead>\n",
       "    <tr style=\"text-align: right;\">\n",
       "      <th></th>\n",
       "      <th>index</th>\n",
       "      <th>Country</th>\n",
       "      <th>Region</th>\n",
       "      <th>Happiness Rank</th>\n",
       "      <th>Happiness Score</th>\n",
       "      <th>SE</th>\n",
       "      <th>Economy (GDP per Capita)</th>\n",
       "      <th>Family</th>\n",
       "      <th>Health</th>\n",
       "      <th>Freedom</th>\n",
       "      <th>Trust</th>\n",
       "      <th>Generosity</th>\n",
       "      <th>Dystopia</th>\n",
       "    </tr>\n",
       "  </thead>\n",
       "  <tbody>\n",
       "    <tr>\n",
       "      <th>0</th>\n",
       "      <td>0</td>\n",
       "      <td>135.0</td>\n",
       "      <td>9.0</td>\n",
       "      <td>1</td>\n",
       "      <td>7.587</td>\n",
       "      <td>0.03411</td>\n",
       "      <td>1.39651</td>\n",
       "      <td>1.34951</td>\n",
       "      <td>0.94143</td>\n",
       "      <td>0.66557</td>\n",
       "      <td>0.41978</td>\n",
       "      <td>0.29678</td>\n",
       "      <td>2.51738</td>\n",
       "    </tr>\n",
       "    <tr>\n",
       "      <th>1</th>\n",
       "      <td>1</td>\n",
       "      <td>58.0</td>\n",
       "      <td>9.0</td>\n",
       "      <td>2</td>\n",
       "      <td>7.561</td>\n",
       "      <td>0.04884</td>\n",
       "      <td>1.30232</td>\n",
       "      <td>1.40223</td>\n",
       "      <td>0.94784</td>\n",
       "      <td>0.62877</td>\n",
       "      <td>0.14145</td>\n",
       "      <td>0.43630</td>\n",
       "      <td>2.70201</td>\n",
       "    </tr>\n",
       "    <tr>\n",
       "      <th>2</th>\n",
       "      <td>2</td>\n",
       "      <td>37.0</td>\n",
       "      <td>9.0</td>\n",
       "      <td>3</td>\n",
       "      <td>7.527</td>\n",
       "      <td>0.03328</td>\n",
       "      <td>1.32548</td>\n",
       "      <td>1.36058</td>\n",
       "      <td>0.87464</td>\n",
       "      <td>0.64938</td>\n",
       "      <td>0.48357</td>\n",
       "      <td>0.34139</td>\n",
       "      <td>2.49204</td>\n",
       "    </tr>\n",
       "    <tr>\n",
       "      <th>3</th>\n",
       "      <td>3</td>\n",
       "      <td>105.0</td>\n",
       "      <td>9.0</td>\n",
       "      <td>4</td>\n",
       "      <td>7.522</td>\n",
       "      <td>0.03880</td>\n",
       "      <td>1.45900</td>\n",
       "      <td>1.33095</td>\n",
       "      <td>0.88521</td>\n",
       "      <td>0.66973</td>\n",
       "      <td>0.36503</td>\n",
       "      <td>0.34699</td>\n",
       "      <td>2.46531</td>\n",
       "    </tr>\n",
       "    <tr>\n",
       "      <th>4</th>\n",
       "      <td>4</td>\n",
       "      <td>24.0</td>\n",
       "      <td>5.0</td>\n",
       "      <td>5</td>\n",
       "      <td>7.427</td>\n",
       "      <td>0.03553</td>\n",
       "      <td>1.32629</td>\n",
       "      <td>1.32261</td>\n",
       "      <td>0.90563</td>\n",
       "      <td>0.63297</td>\n",
       "      <td>0.32957</td>\n",
       "      <td>0.45811</td>\n",
       "      <td>2.45176</td>\n",
       "    </tr>\n",
       "    <tr>\n",
       "      <th>...</th>\n",
       "      <td>...</td>\n",
       "      <td>...</td>\n",
       "      <td>...</td>\n",
       "      <td>...</td>\n",
       "      <td>...</td>\n",
       "      <td>...</td>\n",
       "      <td>...</td>\n",
       "      <td>...</td>\n",
       "      <td>...</td>\n",
       "      <td>...</td>\n",
       "      <td>...</td>\n",
       "      <td>...</td>\n",
       "      <td>...</td>\n",
       "    </tr>\n",
       "    <tr>\n",
       "      <th>150</th>\n",
       "      <td>151</td>\n",
       "      <td>20.0</td>\n",
       "      <td>8.0</td>\n",
       "      <td>152</td>\n",
       "      <td>3.587</td>\n",
       "      <td>0.04324</td>\n",
       "      <td>0.25812</td>\n",
       "      <td>0.85188</td>\n",
       "      <td>0.27125</td>\n",
       "      <td>0.39493</td>\n",
       "      <td>0.12832</td>\n",
       "      <td>0.21747</td>\n",
       "      <td>1.46494</td>\n",
       "    </tr>\n",
       "    <tr>\n",
       "      <th>151</th>\n",
       "      <td>153</td>\n",
       "      <td>118.0</td>\n",
       "      <td>8.0</td>\n",
       "      <td>154</td>\n",
       "      <td>3.465</td>\n",
       "      <td>0.03464</td>\n",
       "      <td>0.22208</td>\n",
       "      <td>0.77370</td>\n",
       "      <td>0.42864</td>\n",
       "      <td>0.59201</td>\n",
       "      <td>0.55191</td>\n",
       "      <td>0.22628</td>\n",
       "      <td>0.67042</td>\n",
       "    </tr>\n",
       "    <tr>\n",
       "      <th>152</th>\n",
       "      <td>154</td>\n",
       "      <td>13.0</td>\n",
       "      <td>8.0</td>\n",
       "      <td>155</td>\n",
       "      <td>3.340</td>\n",
       "      <td>0.03656</td>\n",
       "      <td>0.28665</td>\n",
       "      <td>0.35386</td>\n",
       "      <td>0.31910</td>\n",
       "      <td>0.48450</td>\n",
       "      <td>0.08010</td>\n",
       "      <td>0.18260</td>\n",
       "      <td>1.63328</td>\n",
       "    </tr>\n",
       "    <tr>\n",
       "      <th>153</th>\n",
       "      <td>155</td>\n",
       "      <td>136.0</td>\n",
       "      <td>4.0</td>\n",
       "      <td>156</td>\n",
       "      <td>3.006</td>\n",
       "      <td>0.05015</td>\n",
       "      <td>0.66320</td>\n",
       "      <td>0.47489</td>\n",
       "      <td>0.72193</td>\n",
       "      <td>0.15684</td>\n",
       "      <td>0.18906</td>\n",
       "      <td>0.47179</td>\n",
       "      <td>0.32858</td>\n",
       "    </tr>\n",
       "    <tr>\n",
       "      <th>154</th>\n",
       "      <td>156</td>\n",
       "      <td>21.0</td>\n",
       "      <td>8.0</td>\n",
       "      <td>157</td>\n",
       "      <td>2.905</td>\n",
       "      <td>0.08658</td>\n",
       "      <td>0.01530</td>\n",
       "      <td>0.41587</td>\n",
       "      <td>0.22396</td>\n",
       "      <td>0.11850</td>\n",
       "      <td>0.10062</td>\n",
       "      <td>0.19727</td>\n",
       "      <td>1.83302</td>\n",
       "    </tr>\n",
       "  </tbody>\n",
       "</table>\n",
       "<p>155 rows × 13 columns</p>\n",
       "</div>"
      ],
      "text/plain": [
       "     index  Country  Region  Happiness Rank  Happiness Score       SE  \\\n",
       "0        0    135.0     9.0               1            7.587  0.03411   \n",
       "1        1     58.0     9.0               2            7.561  0.04884   \n",
       "2        2     37.0     9.0               3            7.527  0.03328   \n",
       "3        3    105.0     9.0               4            7.522  0.03880   \n",
       "4        4     24.0     5.0               5            7.427  0.03553   \n",
       "..     ...      ...     ...             ...              ...      ...   \n",
       "150    151     20.0     8.0             152            3.587  0.04324   \n",
       "151    153    118.0     8.0             154            3.465  0.03464   \n",
       "152    154     13.0     8.0             155            3.340  0.03656   \n",
       "153    155    136.0     4.0             156            3.006  0.05015   \n",
       "154    156     21.0     8.0             157            2.905  0.08658   \n",
       "\n",
       "     Economy (GDP per Capita)   Family   Health  Freedom    Trust  Generosity  \\\n",
       "0                     1.39651  1.34951  0.94143  0.66557  0.41978     0.29678   \n",
       "1                     1.30232  1.40223  0.94784  0.62877  0.14145     0.43630   \n",
       "2                     1.32548  1.36058  0.87464  0.64938  0.48357     0.34139   \n",
       "3                     1.45900  1.33095  0.88521  0.66973  0.36503     0.34699   \n",
       "4                     1.32629  1.32261  0.90563  0.63297  0.32957     0.45811   \n",
       "..                        ...      ...      ...      ...      ...         ...   \n",
       "150                   0.25812  0.85188  0.27125  0.39493  0.12832     0.21747   \n",
       "151                   0.22208  0.77370  0.42864  0.59201  0.55191     0.22628   \n",
       "152                   0.28665  0.35386  0.31910  0.48450  0.08010     0.18260   \n",
       "153                   0.66320  0.47489  0.72193  0.15684  0.18906     0.47179   \n",
       "154                   0.01530  0.41587  0.22396  0.11850  0.10062     0.19727   \n",
       "\n",
       "     Dystopia  \n",
       "0     2.51738  \n",
       "1     2.70201  \n",
       "2     2.49204  \n",
       "3     2.46531  \n",
       "4     2.45176  \n",
       "..        ...  \n",
       "150   1.46494  \n",
       "151   0.67042  \n",
       "152   1.63328  \n",
       "153   0.32858  \n",
       "154   1.83302  \n",
       "\n",
       "[155 rows x 13 columns]"
      ]
     },
     "execution_count": 104,
     "metadata": {},
     "output_type": "execute_result"
    }
   ],
   "source": [
    "df.reset_index()"
   ]
  },
  {
   "cell_type": "code",
   "execution_count": 105,
   "id": "fb0d2d2f",
   "metadata": {},
   "outputs": [],
   "source": [
    "trt_high=(q3.Trust + (1.5 * iqr.Trust))"
   ]
  },
  {
   "cell_type": "code",
   "execution_count": 106,
   "id": "33af337d",
   "metadata": {},
   "outputs": [
    {
     "data": {
      "text/plain": [
       "(array([  0,   2,   3,   5,   7,   8,  16,  19,  23,  27,  71,  90, 129,\n",
       "        151], dtype=int64),)"
      ]
     },
     "execution_count": 106,
     "metadata": {},
     "output_type": "execute_result"
    }
   ],
   "source": [
    "index = np.where(df['Trust'] >trt_high)\n",
    "index"
   ]
  },
  {
   "cell_type": "code",
   "execution_count": 107,
   "id": "7c4bfb21",
   "metadata": {},
   "outputs": [
    {
     "data": {
      "text/plain": [
       "(141, 12)"
      ]
     },
     "execution_count": 107,
     "metadata": {},
     "output_type": "execute_result"
    }
   ],
   "source": [
    "df = df.drop(df.index[index])\n",
    "df.shape"
   ]
  },
  {
   "cell_type": "code",
   "execution_count": 108,
   "id": "d0b3c7f9",
   "metadata": {},
   "outputs": [
    {
     "data": {
      "text/html": [
       "<div>\n",
       "<style scoped>\n",
       "    .dataframe tbody tr th:only-of-type {\n",
       "        vertical-align: middle;\n",
       "    }\n",
       "\n",
       "    .dataframe tbody tr th {\n",
       "        vertical-align: top;\n",
       "    }\n",
       "\n",
       "    .dataframe thead th {\n",
       "        text-align: right;\n",
       "    }\n",
       "</style>\n",
       "<table border=\"1\" class=\"dataframe\">\n",
       "  <thead>\n",
       "    <tr style=\"text-align: right;\">\n",
       "      <th></th>\n",
       "      <th>index</th>\n",
       "      <th>Country</th>\n",
       "      <th>Region</th>\n",
       "      <th>Happiness Rank</th>\n",
       "      <th>Happiness Score</th>\n",
       "      <th>SE</th>\n",
       "      <th>Economy (GDP per Capita)</th>\n",
       "      <th>Family</th>\n",
       "      <th>Health</th>\n",
       "      <th>Freedom</th>\n",
       "      <th>Trust</th>\n",
       "      <th>Generosity</th>\n",
       "      <th>Dystopia</th>\n",
       "    </tr>\n",
       "  </thead>\n",
       "  <tbody>\n",
       "    <tr>\n",
       "      <th>0</th>\n",
       "      <td>1</td>\n",
       "      <td>58.0</td>\n",
       "      <td>9.0</td>\n",
       "      <td>2</td>\n",
       "      <td>7.561</td>\n",
       "      <td>0.04884</td>\n",
       "      <td>1.30232</td>\n",
       "      <td>1.40223</td>\n",
       "      <td>0.94784</td>\n",
       "      <td>0.62877</td>\n",
       "      <td>0.14145</td>\n",
       "      <td>0.43630</td>\n",
       "      <td>2.70201</td>\n",
       "    </tr>\n",
       "    <tr>\n",
       "      <th>1</th>\n",
       "      <td>4</td>\n",
       "      <td>24.0</td>\n",
       "      <td>5.0</td>\n",
       "      <td>5</td>\n",
       "      <td>7.427</td>\n",
       "      <td>0.03553</td>\n",
       "      <td>1.32629</td>\n",
       "      <td>1.32261</td>\n",
       "      <td>0.90563</td>\n",
       "      <td>0.63297</td>\n",
       "      <td>0.32957</td>\n",
       "      <td>0.45811</td>\n",
       "      <td>2.45176</td>\n",
       "    </tr>\n",
       "    <tr>\n",
       "      <th>2</th>\n",
       "      <td>6</td>\n",
       "      <td>99.0</td>\n",
       "      <td>9.0</td>\n",
       "      <td>7</td>\n",
       "      <td>7.378</td>\n",
       "      <td>0.02799</td>\n",
       "      <td>1.32944</td>\n",
       "      <td>1.28017</td>\n",
       "      <td>0.89284</td>\n",
       "      <td>0.61576</td>\n",
       "      <td>0.31814</td>\n",
       "      <td>0.47610</td>\n",
       "      <td>2.46570</td>\n",
       "    </tr>\n",
       "    <tr>\n",
       "      <th>3</th>\n",
       "      <td>9</td>\n",
       "      <td>6.0</td>\n",
       "      <td>0.0</td>\n",
       "      <td>10</td>\n",
       "      <td>7.284</td>\n",
       "      <td>0.04083</td>\n",
       "      <td>1.33358</td>\n",
       "      <td>1.30923</td>\n",
       "      <td>0.93156</td>\n",
       "      <td>0.65124</td>\n",
       "      <td>0.35637</td>\n",
       "      <td>0.43562</td>\n",
       "      <td>2.26646</td>\n",
       "    </tr>\n",
       "    <tr>\n",
       "      <th>4</th>\n",
       "      <td>10</td>\n",
       "      <td>64.0</td>\n",
       "      <td>4.0</td>\n",
       "      <td>11</td>\n",
       "      <td>7.278</td>\n",
       "      <td>0.03470</td>\n",
       "      <td>1.22857</td>\n",
       "      <td>1.22393</td>\n",
       "      <td>0.91387</td>\n",
       "      <td>0.41319</td>\n",
       "      <td>0.07785</td>\n",
       "      <td>0.33172</td>\n",
       "      <td>3.08854</td>\n",
       "    </tr>\n",
       "    <tr>\n",
       "      <th>...</th>\n",
       "      <td>...</td>\n",
       "      <td>...</td>\n",
       "      <td>...</td>\n",
       "      <td>...</td>\n",
       "      <td>...</td>\n",
       "      <td>...</td>\n",
       "      <td>...</td>\n",
       "      <td>...</td>\n",
       "      <td>...</td>\n",
       "      <td>...</td>\n",
       "      <td>...</td>\n",
       "      <td>...</td>\n",
       "      <td>...</td>\n",
       "    </tr>\n",
       "    <tr>\n",
       "      <th>136</th>\n",
       "      <td>150</td>\n",
       "      <td>66.0</td>\n",
       "      <td>8.0</td>\n",
       "      <td>151</td>\n",
       "      <td>3.655</td>\n",
       "      <td>0.05141</td>\n",
       "      <td>0.46534</td>\n",
       "      <td>0.77115</td>\n",
       "      <td>0.15185</td>\n",
       "      <td>0.46866</td>\n",
       "      <td>0.17922</td>\n",
       "      <td>0.20165</td>\n",
       "      <td>1.41723</td>\n",
       "    </tr>\n",
       "    <tr>\n",
       "      <th>137</th>\n",
       "      <td>151</td>\n",
       "      <td>20.0</td>\n",
       "      <td>8.0</td>\n",
       "      <td>152</td>\n",
       "      <td>3.587</td>\n",
       "      <td>0.04324</td>\n",
       "      <td>0.25812</td>\n",
       "      <td>0.85188</td>\n",
       "      <td>0.27125</td>\n",
       "      <td>0.39493</td>\n",
       "      <td>0.12832</td>\n",
       "      <td>0.21747</td>\n",
       "      <td>1.46494</td>\n",
       "    </tr>\n",
       "    <tr>\n",
       "      <th>138</th>\n",
       "      <td>154</td>\n",
       "      <td>13.0</td>\n",
       "      <td>8.0</td>\n",
       "      <td>155</td>\n",
       "      <td>3.340</td>\n",
       "      <td>0.03656</td>\n",
       "      <td>0.28665</td>\n",
       "      <td>0.35386</td>\n",
       "      <td>0.31910</td>\n",
       "      <td>0.48450</td>\n",
       "      <td>0.08010</td>\n",
       "      <td>0.18260</td>\n",
       "      <td>1.63328</td>\n",
       "    </tr>\n",
       "    <tr>\n",
       "      <th>139</th>\n",
       "      <td>155</td>\n",
       "      <td>136.0</td>\n",
       "      <td>4.0</td>\n",
       "      <td>156</td>\n",
       "      <td>3.006</td>\n",
       "      <td>0.05015</td>\n",
       "      <td>0.66320</td>\n",
       "      <td>0.47489</td>\n",
       "      <td>0.72193</td>\n",
       "      <td>0.15684</td>\n",
       "      <td>0.18906</td>\n",
       "      <td>0.47179</td>\n",
       "      <td>0.32858</td>\n",
       "    </tr>\n",
       "    <tr>\n",
       "      <th>140</th>\n",
       "      <td>156</td>\n",
       "      <td>21.0</td>\n",
       "      <td>8.0</td>\n",
       "      <td>157</td>\n",
       "      <td>2.905</td>\n",
       "      <td>0.08658</td>\n",
       "      <td>0.01530</td>\n",
       "      <td>0.41587</td>\n",
       "      <td>0.22396</td>\n",
       "      <td>0.11850</td>\n",
       "      <td>0.10062</td>\n",
       "      <td>0.19727</td>\n",
       "      <td>1.83302</td>\n",
       "    </tr>\n",
       "  </tbody>\n",
       "</table>\n",
       "<p>141 rows × 13 columns</p>\n",
       "</div>"
      ],
      "text/plain": [
       "     index  Country  Region  Happiness Rank  Happiness Score       SE  \\\n",
       "0        1     58.0     9.0               2            7.561  0.04884   \n",
       "1        4     24.0     5.0               5            7.427  0.03553   \n",
       "2        6     99.0     9.0               7            7.378  0.02799   \n",
       "3        9      6.0     0.0              10            7.284  0.04083   \n",
       "4       10     64.0     4.0              11            7.278  0.03470   \n",
       "..     ...      ...     ...             ...              ...      ...   \n",
       "136    150     66.0     8.0             151            3.655  0.05141   \n",
       "137    151     20.0     8.0             152            3.587  0.04324   \n",
       "138    154     13.0     8.0             155            3.340  0.03656   \n",
       "139    155    136.0     4.0             156            3.006  0.05015   \n",
       "140    156     21.0     8.0             157            2.905  0.08658   \n",
       "\n",
       "     Economy (GDP per Capita)   Family   Health  Freedom    Trust  Generosity  \\\n",
       "0                     1.30232  1.40223  0.94784  0.62877  0.14145     0.43630   \n",
       "1                     1.32629  1.32261  0.90563  0.63297  0.32957     0.45811   \n",
       "2                     1.32944  1.28017  0.89284  0.61576  0.31814     0.47610   \n",
       "3                     1.33358  1.30923  0.93156  0.65124  0.35637     0.43562   \n",
       "4                     1.22857  1.22393  0.91387  0.41319  0.07785     0.33172   \n",
       "..                        ...      ...      ...      ...      ...         ...   \n",
       "136                   0.46534  0.77115  0.15185  0.46866  0.17922     0.20165   \n",
       "137                   0.25812  0.85188  0.27125  0.39493  0.12832     0.21747   \n",
       "138                   0.28665  0.35386  0.31910  0.48450  0.08010     0.18260   \n",
       "139                   0.66320  0.47489  0.72193  0.15684  0.18906     0.47179   \n",
       "140                   0.01530  0.41587  0.22396  0.11850  0.10062     0.19727   \n",
       "\n",
       "     Dystopia  \n",
       "0     2.70201  \n",
       "1     2.45176  \n",
       "2     2.46570  \n",
       "3     2.26646  \n",
       "4     3.08854  \n",
       "..        ...  \n",
       "136   1.41723  \n",
       "137   1.46494  \n",
       "138   1.63328  \n",
       "139   0.32858  \n",
       "140   1.83302  \n",
       "\n",
       "[141 rows x 13 columns]"
      ]
     },
     "execution_count": 108,
     "metadata": {},
     "output_type": "execute_result"
    }
   ],
   "source": [
    "df.reset_index()"
   ]
  },
  {
   "cell_type": "code",
   "execution_count": 109,
   "id": "563f636b",
   "metadata": {},
   "outputs": [],
   "source": [
    "genr_high=(q3.Generosity + (1.5 * iqr.Generosity))"
   ]
  },
  {
   "cell_type": "code",
   "execution_count": 110,
   "id": "4be183cc",
   "metadata": {},
   "outputs": [
    {
     "data": {
      "text/plain": [
       "(array([ 23, 116], dtype=int64),)"
      ]
     },
     "execution_count": 110,
     "metadata": {},
     "output_type": "execute_result"
    }
   ],
   "source": [
    "index = np.where(df['Generosity'] >genr_high)\n",
    "index"
   ]
  },
  {
   "cell_type": "code",
   "execution_count": 111,
   "id": "65ca51d5",
   "metadata": {},
   "outputs": [
    {
     "data": {
      "text/plain": [
       "(139, 12)"
      ]
     },
     "execution_count": 111,
     "metadata": {},
     "output_type": "execute_result"
    }
   ],
   "source": [
    "df = df.drop(df.index[index])\n",
    "df.shape"
   ]
  },
  {
   "cell_type": "code",
   "execution_count": 112,
   "id": "0ffd0781",
   "metadata": {},
   "outputs": [
    {
     "data": {
      "text/html": [
       "<div>\n",
       "<style scoped>\n",
       "    .dataframe tbody tr th:only-of-type {\n",
       "        vertical-align: middle;\n",
       "    }\n",
       "\n",
       "    .dataframe tbody tr th {\n",
       "        vertical-align: top;\n",
       "    }\n",
       "\n",
       "    .dataframe thead th {\n",
       "        text-align: right;\n",
       "    }\n",
       "</style>\n",
       "<table border=\"1\" class=\"dataframe\">\n",
       "  <thead>\n",
       "    <tr style=\"text-align: right;\">\n",
       "      <th></th>\n",
       "      <th>index</th>\n",
       "      <th>Country</th>\n",
       "      <th>Region</th>\n",
       "      <th>Happiness Rank</th>\n",
       "      <th>Happiness Score</th>\n",
       "      <th>SE</th>\n",
       "      <th>Economy (GDP per Capita)</th>\n",
       "      <th>Family</th>\n",
       "      <th>Health</th>\n",
       "      <th>Freedom</th>\n",
       "      <th>Trust</th>\n",
       "      <th>Generosity</th>\n",
       "      <th>Dystopia</th>\n",
       "    </tr>\n",
       "  </thead>\n",
       "  <tbody>\n",
       "    <tr>\n",
       "      <th>0</th>\n",
       "      <td>1</td>\n",
       "      <td>58.0</td>\n",
       "      <td>9.0</td>\n",
       "      <td>2</td>\n",
       "      <td>7.561</td>\n",
       "      <td>0.04884</td>\n",
       "      <td>1.30232</td>\n",
       "      <td>1.40223</td>\n",
       "      <td>0.94784</td>\n",
       "      <td>0.62877</td>\n",
       "      <td>0.14145</td>\n",
       "      <td>0.43630</td>\n",
       "      <td>2.70201</td>\n",
       "    </tr>\n",
       "    <tr>\n",
       "      <th>1</th>\n",
       "      <td>4</td>\n",
       "      <td>24.0</td>\n",
       "      <td>5.0</td>\n",
       "      <td>5</td>\n",
       "      <td>7.427</td>\n",
       "      <td>0.03553</td>\n",
       "      <td>1.32629</td>\n",
       "      <td>1.32261</td>\n",
       "      <td>0.90563</td>\n",
       "      <td>0.63297</td>\n",
       "      <td>0.32957</td>\n",
       "      <td>0.45811</td>\n",
       "      <td>2.45176</td>\n",
       "    </tr>\n",
       "    <tr>\n",
       "      <th>2</th>\n",
       "      <td>6</td>\n",
       "      <td>99.0</td>\n",
       "      <td>9.0</td>\n",
       "      <td>7</td>\n",
       "      <td>7.378</td>\n",
       "      <td>0.02799</td>\n",
       "      <td>1.32944</td>\n",
       "      <td>1.28017</td>\n",
       "      <td>0.89284</td>\n",
       "      <td>0.61576</td>\n",
       "      <td>0.31814</td>\n",
       "      <td>0.47610</td>\n",
       "      <td>2.46570</td>\n",
       "    </tr>\n",
       "    <tr>\n",
       "      <th>3</th>\n",
       "      <td>9</td>\n",
       "      <td>6.0</td>\n",
       "      <td>0.0</td>\n",
       "      <td>10</td>\n",
       "      <td>7.284</td>\n",
       "      <td>0.04083</td>\n",
       "      <td>1.33358</td>\n",
       "      <td>1.30923</td>\n",
       "      <td>0.93156</td>\n",
       "      <td>0.65124</td>\n",
       "      <td>0.35637</td>\n",
       "      <td>0.43562</td>\n",
       "      <td>2.26646</td>\n",
       "    </tr>\n",
       "    <tr>\n",
       "      <th>4</th>\n",
       "      <td>10</td>\n",
       "      <td>64.0</td>\n",
       "      <td>4.0</td>\n",
       "      <td>11</td>\n",
       "      <td>7.278</td>\n",
       "      <td>0.03470</td>\n",
       "      <td>1.22857</td>\n",
       "      <td>1.22393</td>\n",
       "      <td>0.91387</td>\n",
       "      <td>0.41319</td>\n",
       "      <td>0.07785</td>\n",
       "      <td>0.33172</td>\n",
       "      <td>3.08854</td>\n",
       "    </tr>\n",
       "    <tr>\n",
       "      <th>...</th>\n",
       "      <td>...</td>\n",
       "      <td>...</td>\n",
       "      <td>...</td>\n",
       "      <td>...</td>\n",
       "      <td>...</td>\n",
       "      <td>...</td>\n",
       "      <td>...</td>\n",
       "      <td>...</td>\n",
       "      <td>...</td>\n",
       "      <td>...</td>\n",
       "      <td>...</td>\n",
       "      <td>...</td>\n",
       "      <td>...</td>\n",
       "    </tr>\n",
       "    <tr>\n",
       "      <th>134</th>\n",
       "      <td>150</td>\n",
       "      <td>66.0</td>\n",
       "      <td>8.0</td>\n",
       "      <td>151</td>\n",
       "      <td>3.655</td>\n",
       "      <td>0.05141</td>\n",
       "      <td>0.46534</td>\n",
       "      <td>0.77115</td>\n",
       "      <td>0.15185</td>\n",
       "      <td>0.46866</td>\n",
       "      <td>0.17922</td>\n",
       "      <td>0.20165</td>\n",
       "      <td>1.41723</td>\n",
       "    </tr>\n",
       "    <tr>\n",
       "      <th>135</th>\n",
       "      <td>151</td>\n",
       "      <td>20.0</td>\n",
       "      <td>8.0</td>\n",
       "      <td>152</td>\n",
       "      <td>3.587</td>\n",
       "      <td>0.04324</td>\n",
       "      <td>0.25812</td>\n",
       "      <td>0.85188</td>\n",
       "      <td>0.27125</td>\n",
       "      <td>0.39493</td>\n",
       "      <td>0.12832</td>\n",
       "      <td>0.21747</td>\n",
       "      <td>1.46494</td>\n",
       "    </tr>\n",
       "    <tr>\n",
       "      <th>136</th>\n",
       "      <td>154</td>\n",
       "      <td>13.0</td>\n",
       "      <td>8.0</td>\n",
       "      <td>155</td>\n",
       "      <td>3.340</td>\n",
       "      <td>0.03656</td>\n",
       "      <td>0.28665</td>\n",
       "      <td>0.35386</td>\n",
       "      <td>0.31910</td>\n",
       "      <td>0.48450</td>\n",
       "      <td>0.08010</td>\n",
       "      <td>0.18260</td>\n",
       "      <td>1.63328</td>\n",
       "    </tr>\n",
       "    <tr>\n",
       "      <th>137</th>\n",
       "      <td>155</td>\n",
       "      <td>136.0</td>\n",
       "      <td>4.0</td>\n",
       "      <td>156</td>\n",
       "      <td>3.006</td>\n",
       "      <td>0.05015</td>\n",
       "      <td>0.66320</td>\n",
       "      <td>0.47489</td>\n",
       "      <td>0.72193</td>\n",
       "      <td>0.15684</td>\n",
       "      <td>0.18906</td>\n",
       "      <td>0.47179</td>\n",
       "      <td>0.32858</td>\n",
       "    </tr>\n",
       "    <tr>\n",
       "      <th>138</th>\n",
       "      <td>156</td>\n",
       "      <td>21.0</td>\n",
       "      <td>8.0</td>\n",
       "      <td>157</td>\n",
       "      <td>2.905</td>\n",
       "      <td>0.08658</td>\n",
       "      <td>0.01530</td>\n",
       "      <td>0.41587</td>\n",
       "      <td>0.22396</td>\n",
       "      <td>0.11850</td>\n",
       "      <td>0.10062</td>\n",
       "      <td>0.19727</td>\n",
       "      <td>1.83302</td>\n",
       "    </tr>\n",
       "  </tbody>\n",
       "</table>\n",
       "<p>139 rows × 13 columns</p>\n",
       "</div>"
      ],
      "text/plain": [
       "     index  Country  Region  Happiness Rank  Happiness Score       SE  \\\n",
       "0        1     58.0     9.0               2            7.561  0.04884   \n",
       "1        4     24.0     5.0               5            7.427  0.03553   \n",
       "2        6     99.0     9.0               7            7.378  0.02799   \n",
       "3        9      6.0     0.0              10            7.284  0.04083   \n",
       "4       10     64.0     4.0              11            7.278  0.03470   \n",
       "..     ...      ...     ...             ...              ...      ...   \n",
       "134    150     66.0     8.0             151            3.655  0.05141   \n",
       "135    151     20.0     8.0             152            3.587  0.04324   \n",
       "136    154     13.0     8.0             155            3.340  0.03656   \n",
       "137    155    136.0     4.0             156            3.006  0.05015   \n",
       "138    156     21.0     8.0             157            2.905  0.08658   \n",
       "\n",
       "     Economy (GDP per Capita)   Family   Health  Freedom    Trust  Generosity  \\\n",
       "0                     1.30232  1.40223  0.94784  0.62877  0.14145     0.43630   \n",
       "1                     1.32629  1.32261  0.90563  0.63297  0.32957     0.45811   \n",
       "2                     1.32944  1.28017  0.89284  0.61576  0.31814     0.47610   \n",
       "3                     1.33358  1.30923  0.93156  0.65124  0.35637     0.43562   \n",
       "4                     1.22857  1.22393  0.91387  0.41319  0.07785     0.33172   \n",
       "..                        ...      ...      ...      ...      ...         ...   \n",
       "134                   0.46534  0.77115  0.15185  0.46866  0.17922     0.20165   \n",
       "135                   0.25812  0.85188  0.27125  0.39493  0.12832     0.21747   \n",
       "136                   0.28665  0.35386  0.31910  0.48450  0.08010     0.18260   \n",
       "137                   0.66320  0.47489  0.72193  0.15684  0.18906     0.47179   \n",
       "138                   0.01530  0.41587  0.22396  0.11850  0.10062     0.19727   \n",
       "\n",
       "     Dystopia  \n",
       "0     2.70201  \n",
       "1     2.45176  \n",
       "2     2.46570  \n",
       "3     2.26646  \n",
       "4     3.08854  \n",
       "..        ...  \n",
       "134   1.41723  \n",
       "135   1.46494  \n",
       "136   1.63328  \n",
       "137   0.32858  \n",
       "138   1.83302  \n",
       "\n",
       "[139 rows x 13 columns]"
      ]
     },
     "execution_count": 112,
     "metadata": {},
     "output_type": "execute_result"
    }
   ],
   "source": [
    "df.reset_index()"
   ]
  },
  {
   "cell_type": "code",
   "execution_count": 113,
   "id": "9472cfda",
   "metadata": {},
   "outputs": [
    {
     "data": {
      "text/plain": [
       "0.7049024999999998"
      ]
     },
     "execution_count": 113,
     "metadata": {},
     "output_type": "execute_result"
    }
   ],
   "source": [
    "dys_low=(q1.Dystopia -(1.5 * iqr.Dystopia))\n",
    "dys_low"
   ]
  },
  {
   "cell_type": "code",
   "execution_count": 114,
   "id": "d9a3f154",
   "metadata": {},
   "outputs": [
    {
     "data": {
      "text/plain": [
       "(array([116, 137], dtype=int64),)"
      ]
     },
     "execution_count": 114,
     "metadata": {},
     "output_type": "execute_result"
    }
   ],
   "source": [
    "index = np.where(df['Dystopia']< dys_low)\n",
    "index"
   ]
  },
  {
   "cell_type": "code",
   "execution_count": 115,
   "id": "e7b11e46",
   "metadata": {},
   "outputs": [
    {
     "data": {
      "text/plain": [
       "(137, 12)"
      ]
     },
     "execution_count": 115,
     "metadata": {},
     "output_type": "execute_result"
    }
   ],
   "source": [
    "df =df.drop(df.index[index])\n",
    "df.shape"
   ]
  },
  {
   "cell_type": "code",
   "execution_count": 116,
   "id": "d372a1fe",
   "metadata": {},
   "outputs": [
    {
     "data": {
      "text/html": [
       "<div>\n",
       "<style scoped>\n",
       "    .dataframe tbody tr th:only-of-type {\n",
       "        vertical-align: middle;\n",
       "    }\n",
       "\n",
       "    .dataframe tbody tr th {\n",
       "        vertical-align: top;\n",
       "    }\n",
       "\n",
       "    .dataframe thead th {\n",
       "        text-align: right;\n",
       "    }\n",
       "</style>\n",
       "<table border=\"1\" class=\"dataframe\">\n",
       "  <thead>\n",
       "    <tr style=\"text-align: right;\">\n",
       "      <th></th>\n",
       "      <th>index</th>\n",
       "      <th>Country</th>\n",
       "      <th>Region</th>\n",
       "      <th>Happiness Rank</th>\n",
       "      <th>Happiness Score</th>\n",
       "      <th>SE</th>\n",
       "      <th>Economy (GDP per Capita)</th>\n",
       "      <th>Family</th>\n",
       "      <th>Health</th>\n",
       "      <th>Freedom</th>\n",
       "      <th>Trust</th>\n",
       "      <th>Generosity</th>\n",
       "      <th>Dystopia</th>\n",
       "    </tr>\n",
       "  </thead>\n",
       "  <tbody>\n",
       "    <tr>\n",
       "      <th>0</th>\n",
       "      <td>1</td>\n",
       "      <td>58.0</td>\n",
       "      <td>9.0</td>\n",
       "      <td>2</td>\n",
       "      <td>7.561</td>\n",
       "      <td>0.04884</td>\n",
       "      <td>1.30232</td>\n",
       "      <td>1.40223</td>\n",
       "      <td>0.94784</td>\n",
       "      <td>0.62877</td>\n",
       "      <td>0.14145</td>\n",
       "      <td>0.43630</td>\n",
       "      <td>2.70201</td>\n",
       "    </tr>\n",
       "    <tr>\n",
       "      <th>1</th>\n",
       "      <td>4</td>\n",
       "      <td>24.0</td>\n",
       "      <td>5.0</td>\n",
       "      <td>5</td>\n",
       "      <td>7.427</td>\n",
       "      <td>0.03553</td>\n",
       "      <td>1.32629</td>\n",
       "      <td>1.32261</td>\n",
       "      <td>0.90563</td>\n",
       "      <td>0.63297</td>\n",
       "      <td>0.32957</td>\n",
       "      <td>0.45811</td>\n",
       "      <td>2.45176</td>\n",
       "    </tr>\n",
       "    <tr>\n",
       "      <th>2</th>\n",
       "      <td>6</td>\n",
       "      <td>99.0</td>\n",
       "      <td>9.0</td>\n",
       "      <td>7</td>\n",
       "      <td>7.378</td>\n",
       "      <td>0.02799</td>\n",
       "      <td>1.32944</td>\n",
       "      <td>1.28017</td>\n",
       "      <td>0.89284</td>\n",
       "      <td>0.61576</td>\n",
       "      <td>0.31814</td>\n",
       "      <td>0.47610</td>\n",
       "      <td>2.46570</td>\n",
       "    </tr>\n",
       "    <tr>\n",
       "      <th>3</th>\n",
       "      <td>9</td>\n",
       "      <td>6.0</td>\n",
       "      <td>0.0</td>\n",
       "      <td>10</td>\n",
       "      <td>7.284</td>\n",
       "      <td>0.04083</td>\n",
       "      <td>1.33358</td>\n",
       "      <td>1.30923</td>\n",
       "      <td>0.93156</td>\n",
       "      <td>0.65124</td>\n",
       "      <td>0.35637</td>\n",
       "      <td>0.43562</td>\n",
       "      <td>2.26646</td>\n",
       "    </tr>\n",
       "    <tr>\n",
       "      <th>4</th>\n",
       "      <td>10</td>\n",
       "      <td>64.0</td>\n",
       "      <td>4.0</td>\n",
       "      <td>11</td>\n",
       "      <td>7.278</td>\n",
       "      <td>0.03470</td>\n",
       "      <td>1.22857</td>\n",
       "      <td>1.22393</td>\n",
       "      <td>0.91387</td>\n",
       "      <td>0.41319</td>\n",
       "      <td>0.07785</td>\n",
       "      <td>0.33172</td>\n",
       "      <td>3.08854</td>\n",
       "    </tr>\n",
       "    <tr>\n",
       "      <th>...</th>\n",
       "      <td>...</td>\n",
       "      <td>...</td>\n",
       "      <td>...</td>\n",
       "      <td>...</td>\n",
       "      <td>...</td>\n",
       "      <td>...</td>\n",
       "      <td>...</td>\n",
       "      <td>...</td>\n",
       "      <td>...</td>\n",
       "      <td>...</td>\n",
       "      <td>...</td>\n",
       "      <td>...</td>\n",
       "      <td>...</td>\n",
       "    </tr>\n",
       "    <tr>\n",
       "      <th>132</th>\n",
       "      <td>149</td>\n",
       "      <td>53.0</td>\n",
       "      <td>8.0</td>\n",
       "      <td>150</td>\n",
       "      <td>3.656</td>\n",
       "      <td>0.03590</td>\n",
       "      <td>0.17417</td>\n",
       "      <td>0.46475</td>\n",
       "      <td>0.24009</td>\n",
       "      <td>0.37725</td>\n",
       "      <td>0.12139</td>\n",
       "      <td>0.28657</td>\n",
       "      <td>1.99172</td>\n",
       "    </tr>\n",
       "    <tr>\n",
       "      <th>133</th>\n",
       "      <td>150</td>\n",
       "      <td>66.0</td>\n",
       "      <td>8.0</td>\n",
       "      <td>151</td>\n",
       "      <td>3.655</td>\n",
       "      <td>0.05141</td>\n",
       "      <td>0.46534</td>\n",
       "      <td>0.77115</td>\n",
       "      <td>0.15185</td>\n",
       "      <td>0.46866</td>\n",
       "      <td>0.17922</td>\n",
       "      <td>0.20165</td>\n",
       "      <td>1.41723</td>\n",
       "    </tr>\n",
       "    <tr>\n",
       "      <th>134</th>\n",
       "      <td>151</td>\n",
       "      <td>20.0</td>\n",
       "      <td>8.0</td>\n",
       "      <td>152</td>\n",
       "      <td>3.587</td>\n",
       "      <td>0.04324</td>\n",
       "      <td>0.25812</td>\n",
       "      <td>0.85188</td>\n",
       "      <td>0.27125</td>\n",
       "      <td>0.39493</td>\n",
       "      <td>0.12832</td>\n",
       "      <td>0.21747</td>\n",
       "      <td>1.46494</td>\n",
       "    </tr>\n",
       "    <tr>\n",
       "      <th>135</th>\n",
       "      <td>154</td>\n",
       "      <td>13.0</td>\n",
       "      <td>8.0</td>\n",
       "      <td>155</td>\n",
       "      <td>3.340</td>\n",
       "      <td>0.03656</td>\n",
       "      <td>0.28665</td>\n",
       "      <td>0.35386</td>\n",
       "      <td>0.31910</td>\n",
       "      <td>0.48450</td>\n",
       "      <td>0.08010</td>\n",
       "      <td>0.18260</td>\n",
       "      <td>1.63328</td>\n",
       "    </tr>\n",
       "    <tr>\n",
       "      <th>136</th>\n",
       "      <td>156</td>\n",
       "      <td>21.0</td>\n",
       "      <td>8.0</td>\n",
       "      <td>157</td>\n",
       "      <td>2.905</td>\n",
       "      <td>0.08658</td>\n",
       "      <td>0.01530</td>\n",
       "      <td>0.41587</td>\n",
       "      <td>0.22396</td>\n",
       "      <td>0.11850</td>\n",
       "      <td>0.10062</td>\n",
       "      <td>0.19727</td>\n",
       "      <td>1.83302</td>\n",
       "    </tr>\n",
       "  </tbody>\n",
       "</table>\n",
       "<p>137 rows × 13 columns</p>\n",
       "</div>"
      ],
      "text/plain": [
       "     index  Country  Region  Happiness Rank  Happiness Score       SE  \\\n",
       "0        1     58.0     9.0               2            7.561  0.04884   \n",
       "1        4     24.0     5.0               5            7.427  0.03553   \n",
       "2        6     99.0     9.0               7            7.378  0.02799   \n",
       "3        9      6.0     0.0              10            7.284  0.04083   \n",
       "4       10     64.0     4.0              11            7.278  0.03470   \n",
       "..     ...      ...     ...             ...              ...      ...   \n",
       "132    149     53.0     8.0             150            3.656  0.03590   \n",
       "133    150     66.0     8.0             151            3.655  0.05141   \n",
       "134    151     20.0     8.0             152            3.587  0.04324   \n",
       "135    154     13.0     8.0             155            3.340  0.03656   \n",
       "136    156     21.0     8.0             157            2.905  0.08658   \n",
       "\n",
       "     Economy (GDP per Capita)   Family   Health  Freedom    Trust  Generosity  \\\n",
       "0                     1.30232  1.40223  0.94784  0.62877  0.14145     0.43630   \n",
       "1                     1.32629  1.32261  0.90563  0.63297  0.32957     0.45811   \n",
       "2                     1.32944  1.28017  0.89284  0.61576  0.31814     0.47610   \n",
       "3                     1.33358  1.30923  0.93156  0.65124  0.35637     0.43562   \n",
       "4                     1.22857  1.22393  0.91387  0.41319  0.07785     0.33172   \n",
       "..                        ...      ...      ...      ...      ...         ...   \n",
       "132                   0.17417  0.46475  0.24009  0.37725  0.12139     0.28657   \n",
       "133                   0.46534  0.77115  0.15185  0.46866  0.17922     0.20165   \n",
       "134                   0.25812  0.85188  0.27125  0.39493  0.12832     0.21747   \n",
       "135                   0.28665  0.35386  0.31910  0.48450  0.08010     0.18260   \n",
       "136                   0.01530  0.41587  0.22396  0.11850  0.10062     0.19727   \n",
       "\n",
       "     Dystopia  \n",
       "0     2.70201  \n",
       "1     2.45176  \n",
       "2     2.46570  \n",
       "3     2.26646  \n",
       "4     3.08854  \n",
       "..        ...  \n",
       "132   1.99172  \n",
       "133   1.41723  \n",
       "134   1.46494  \n",
       "135   1.63328  \n",
       "136   1.83302  \n",
       "\n",
       "[137 rows x 13 columns]"
      ]
     },
     "execution_count": 116,
     "metadata": {},
     "output_type": "execute_result"
    }
   ],
   "source": [
    "df.reset_index()"
   ]
  },
  {
   "cell_type": "code",
   "execution_count": 117,
   "id": "4115c1ea",
   "metadata": {},
   "outputs": [
    {
     "data": {
      "text/plain": [
       "3.5169225"
      ]
     },
     "execution_count": 117,
     "metadata": {},
     "output_type": "execute_result"
    }
   ],
   "source": [
    "dys_high=(q3.Dystopia +(1.5 * iqr.Dystopia))\n",
    "dys_high"
   ]
  },
  {
   "cell_type": "code",
   "execution_count": 127,
   "id": "9b2a9184",
   "metadata": {},
   "outputs": [
    {
     "data": {
      "text/plain": [
       "(array([], dtype=int64),)"
      ]
     },
     "execution_count": 127,
     "metadata": {},
     "output_type": "execute_result"
    }
   ],
   "source": [
    "index = np.where(df['Dystopia'] >dys_high)\n",
    "index"
   ]
  },
  {
   "cell_type": "code",
   "execution_count": 128,
   "id": "def50a38",
   "metadata": {},
   "outputs": [
    {
     "data": {
      "text/plain": [
       "(0, 12)"
      ]
     },
     "execution_count": 128,
     "metadata": {},
     "output_type": "execute_result"
    }
   ],
   "source": [
    "df =df.drop(df.index[index])\n",
    "df.shape"
   ]
  },
  {
   "cell_type": "code",
   "execution_count": 129,
   "id": "cebaa1ff",
   "metadata": {},
   "outputs": [
    {
     "data": {
      "text/html": [
       "<div>\n",
       "<style scoped>\n",
       "    .dataframe tbody tr th:only-of-type {\n",
       "        vertical-align: middle;\n",
       "    }\n",
       "\n",
       "    .dataframe tbody tr th {\n",
       "        vertical-align: top;\n",
       "    }\n",
       "\n",
       "    .dataframe thead th {\n",
       "        text-align: right;\n",
       "    }\n",
       "</style>\n",
       "<table border=\"1\" class=\"dataframe\">\n",
       "  <thead>\n",
       "    <tr style=\"text-align: right;\">\n",
       "      <th></th>\n",
       "      <th>index</th>\n",
       "      <th>Country</th>\n",
       "      <th>Region</th>\n",
       "      <th>Happiness Rank</th>\n",
       "      <th>Happiness Score</th>\n",
       "      <th>SE</th>\n",
       "      <th>Economy (GDP per Capita)</th>\n",
       "      <th>Family</th>\n",
       "      <th>Health</th>\n",
       "      <th>Freedom</th>\n",
       "      <th>Trust</th>\n",
       "      <th>Generosity</th>\n",
       "      <th>Dystopia</th>\n",
       "    </tr>\n",
       "  </thead>\n",
       "  <tbody>\n",
       "  </tbody>\n",
       "</table>\n",
       "</div>"
      ],
      "text/plain": [
       "Empty DataFrame\n",
       "Columns: [index, Country, Region, Happiness Rank, Happiness Score, SE, Economy (GDP per Capita), Family, Health, Freedom, Trust, Generosity, Dystopia]\n",
       "Index: []"
      ]
     },
     "execution_count": 129,
     "metadata": {},
     "output_type": "execute_result"
    }
   ],
   "source": [
    "df.reset_index()"
   ]
  },
  {
   "cell_type": "code",
   "execution_count": 130,
   "id": "89d12cef",
   "metadata": {},
   "outputs": [
    {
     "data": {
      "text/plain": [
       "0.07484874999999999"
      ]
     },
     "execution_count": 130,
     "metadata": {},
     "output_type": "execute_result"
    }
   ],
   "source": [
    "SE_high=(q3.SE+(1.5 * iqr.SE))\n",
    "SE_high"
   ]
  },
  {
   "cell_type": "code",
   "execution_count": 131,
   "id": "4b72ed3c",
   "metadata": {},
   "outputs": [
    {
     "data": {
      "text/plain": [
       "(array([], dtype=int64),)"
      ]
     },
     "execution_count": 131,
     "metadata": {},
     "output_type": "execute_result"
    }
   ],
   "source": [
    "index = np.where(df['SE'] >dys_high)\n",
    "index"
   ]
  },
  {
   "cell_type": "code",
   "execution_count": 132,
   "id": "0055788d",
   "metadata": {},
   "outputs": [
    {
     "data": {
      "text/plain": [
       "(0, 12)"
      ]
     },
     "execution_count": 132,
     "metadata": {},
     "output_type": "execute_result"
    }
   ],
   "source": [
    "df =df.drop(df.index[index])\n",
    "df.shape"
   ]
  },
  {
   "cell_type": "code",
   "execution_count": 133,
   "id": "bfcf40a8",
   "metadata": {},
   "outputs": [
    {
     "data": {
      "text/html": [
       "<div>\n",
       "<style scoped>\n",
       "    .dataframe tbody tr th:only-of-type {\n",
       "        vertical-align: middle;\n",
       "    }\n",
       "\n",
       "    .dataframe tbody tr th {\n",
       "        vertical-align: top;\n",
       "    }\n",
       "\n",
       "    .dataframe thead th {\n",
       "        text-align: right;\n",
       "    }\n",
       "</style>\n",
       "<table border=\"1\" class=\"dataframe\">\n",
       "  <thead>\n",
       "    <tr style=\"text-align: right;\">\n",
       "      <th></th>\n",
       "      <th>index</th>\n",
       "      <th>Country</th>\n",
       "      <th>Region</th>\n",
       "      <th>Happiness Rank</th>\n",
       "      <th>Happiness Score</th>\n",
       "      <th>SE</th>\n",
       "      <th>Economy (GDP per Capita)</th>\n",
       "      <th>Family</th>\n",
       "      <th>Health</th>\n",
       "      <th>Freedom</th>\n",
       "      <th>Trust</th>\n",
       "      <th>Generosity</th>\n",
       "      <th>Dystopia</th>\n",
       "    </tr>\n",
       "  </thead>\n",
       "  <tbody>\n",
       "  </tbody>\n",
       "</table>\n",
       "</div>"
      ],
      "text/plain": [
       "Empty DataFrame\n",
       "Columns: [index, Country, Region, Happiness Rank, Happiness Score, SE, Economy (GDP per Capita), Family, Health, Freedom, Trust, Generosity, Dystopia]\n",
       "Index: []"
      ]
     },
     "execution_count": 133,
     "metadata": {},
     "output_type": "execute_result"
    }
   ],
   "source": [
    "df.reset_index()"
   ]
  },
  {
   "cell_type": "code",
   "execution_count": null,
   "id": "65d71335",
   "metadata": {},
   "outputs": [],
   "source": []
  },
  {
   "cell_type": "code",
   "execution_count": 134,
   "id": "e5dc3e0f",
   "metadata": {},
   "outputs": [],
   "source": [
    "#Data scaling Z=(X-mean)/std\n",
    "\n",
    "scaler=StandardScaler()\n",
    "X_scaled=scaler.fit_transform(X)"
   ]
  },
  {
   "cell_type": "code",
   "execution_count": 146,
   "id": "d3d0615b",
   "metadata": {},
   "outputs": [
    {
     "data": {
      "text/plain": [
       "11"
      ]
     },
     "execution_count": 146,
     "metadata": {},
     "output_type": "execute_result"
    }
   ],
   "source": [
    "X_scaled.shape[1]"
   ]
  },
  {
   "cell_type": "code",
   "execution_count": 147,
   "id": "5cb7a7b0",
   "metadata": {},
   "outputs": [
    {
     "data": {
      "text/html": [
       "<div>\n",
       "<style scoped>\n",
       "    .dataframe tbody tr th:only-of-type {\n",
       "        vertical-align: middle;\n",
       "    }\n",
       "\n",
       "    .dataframe tbody tr th {\n",
       "        vertical-align: top;\n",
       "    }\n",
       "\n",
       "    .dataframe thead th {\n",
       "        text-align: right;\n",
       "    }\n",
       "</style>\n",
       "<table border=\"1\" class=\"dataframe\">\n",
       "  <thead>\n",
       "    <tr style=\"text-align: right;\">\n",
       "      <th></th>\n",
       "      <th>vif</th>\n",
       "      <th>Features</th>\n",
       "    </tr>\n",
       "  </thead>\n",
       "  <tbody>\n",
       "    <tr>\n",
       "      <th>0</th>\n",
       "      <td>1.082092</td>\n",
       "      <td>Country</td>\n",
       "    </tr>\n",
       "    <tr>\n",
       "      <th>1</th>\n",
       "      <td>1.455402</td>\n",
       "      <td>Region</td>\n",
       "    </tr>\n",
       "    <tr>\n",
       "      <th>2</th>\n",
       "      <td>76.549524</td>\n",
       "      <td>Happiness Rank</td>\n",
       "    </tr>\n",
       "    <tr>\n",
       "      <th>3</th>\n",
       "      <td>1.188841</td>\n",
       "      <td>SE</td>\n",
       "    </tr>\n",
       "    <tr>\n",
       "      <th>4</th>\n",
       "      <td>13.586284</td>\n",
       "      <td>Economy (GDP per Capita)</td>\n",
       "    </tr>\n",
       "    <tr>\n",
       "      <th>5</th>\n",
       "      <td>5.636951</td>\n",
       "      <td>Family</td>\n",
       "    </tr>\n",
       "    <tr>\n",
       "      <th>6</th>\n",
       "      <td>8.136093</td>\n",
       "      <td>Health</td>\n",
       "    </tr>\n",
       "    <tr>\n",
       "      <th>7</th>\n",
       "      <td>3.258351</td>\n",
       "      <td>Freedom</td>\n",
       "    </tr>\n",
       "    <tr>\n",
       "      <th>8</th>\n",
       "      <td>2.044527</td>\n",
       "      <td>Trust</td>\n",
       "    </tr>\n",
       "    <tr>\n",
       "      <th>9</th>\n",
       "      <td>2.124602</td>\n",
       "      <td>Generosity</td>\n",
       "    </tr>\n",
       "    <tr>\n",
       "      <th>10</th>\n",
       "      <td>18.139857</td>\n",
       "      <td>Dystopia</td>\n",
       "    </tr>\n",
       "  </tbody>\n",
       "</table>\n",
       "</div>"
      ],
      "text/plain": [
       "          vif                  Features\n",
       "0    1.082092                   Country\n",
       "1    1.455402                    Region\n",
       "2   76.549524            Happiness Rank\n",
       "3    1.188841                        SE\n",
       "4   13.586284  Economy (GDP per Capita)\n",
       "5    5.636951                    Family\n",
       "6    8.136093                    Health\n",
       "7    3.258351                   Freedom\n",
       "8    2.044527                     Trust\n",
       "9    2.124602                Generosity\n",
       "10  18.139857                  Dystopia"
      ]
     },
     "execution_count": 147,
     "metadata": {},
     "output_type": "execute_result"
    }
   ],
   "source": [
    "vif=pd.DataFrame()\n",
    "vif[\"vif\"]=[variance_inflation_factor(X_scaled,i) for i in range(X_scaled.shape[1])]\n",
    "vif[\"Features\"]=X.columns\n",
    "vif"
   ]
  },
  {
   "cell_type": "code",
   "execution_count": 178,
   "id": "200b8ce1",
   "metadata": {},
   "outputs": [
    {
     "data": {
      "text/html": [
       "<div>\n",
       "<style scoped>\n",
       "    .dataframe tbody tr th:only-of-type {\n",
       "        vertical-align: middle;\n",
       "    }\n",
       "\n",
       "    .dataframe tbody tr th {\n",
       "        vertical-align: top;\n",
       "    }\n",
       "\n",
       "    .dataframe thead th {\n",
       "        text-align: right;\n",
       "    }\n",
       "</style>\n",
       "<table border=\"1\" class=\"dataframe\">\n",
       "  <thead>\n",
       "    <tr style=\"text-align: right;\">\n",
       "      <th></th>\n",
       "      <th>Country</th>\n",
       "      <th>Region</th>\n",
       "      <th>SE</th>\n",
       "      <th>Economy (GDP per Capita)</th>\n",
       "      <th>Family</th>\n",
       "      <th>Health</th>\n",
       "      <th>Freedom</th>\n",
       "      <th>Trust</th>\n",
       "      <th>Generosity</th>\n",
       "    </tr>\n",
       "  </thead>\n",
       "  <tbody>\n",
       "    <tr>\n",
       "      <th>0</th>\n",
       "      <td>135.0</td>\n",
       "      <td>9.0</td>\n",
       "      <td>0.03411</td>\n",
       "      <td>1.39651</td>\n",
       "      <td>1.34951</td>\n",
       "      <td>0.94143</td>\n",
       "      <td>0.66557</td>\n",
       "      <td>0.41978</td>\n",
       "      <td>0.29678</td>\n",
       "    </tr>\n",
       "    <tr>\n",
       "      <th>1</th>\n",
       "      <td>58.0</td>\n",
       "      <td>9.0</td>\n",
       "      <td>0.04884</td>\n",
       "      <td>1.30232</td>\n",
       "      <td>1.40223</td>\n",
       "      <td>0.94784</td>\n",
       "      <td>0.62877</td>\n",
       "      <td>0.14145</td>\n",
       "      <td>0.43630</td>\n",
       "    </tr>\n",
       "    <tr>\n",
       "      <th>2</th>\n",
       "      <td>37.0</td>\n",
       "      <td>9.0</td>\n",
       "      <td>0.03328</td>\n",
       "      <td>1.32548</td>\n",
       "      <td>1.36058</td>\n",
       "      <td>0.87464</td>\n",
       "      <td>0.64938</td>\n",
       "      <td>0.48357</td>\n",
       "      <td>0.34139</td>\n",
       "    </tr>\n",
       "    <tr>\n",
       "      <th>3</th>\n",
       "      <td>105.0</td>\n",
       "      <td>9.0</td>\n",
       "      <td>0.03880</td>\n",
       "      <td>1.45900</td>\n",
       "      <td>1.33095</td>\n",
       "      <td>0.88521</td>\n",
       "      <td>0.66973</td>\n",
       "      <td>0.36503</td>\n",
       "      <td>0.34699</td>\n",
       "    </tr>\n",
       "    <tr>\n",
       "      <th>4</th>\n",
       "      <td>24.0</td>\n",
       "      <td>5.0</td>\n",
       "      <td>0.03553</td>\n",
       "      <td>1.32629</td>\n",
       "      <td>1.32261</td>\n",
       "      <td>0.90563</td>\n",
       "      <td>0.63297</td>\n",
       "      <td>0.32957</td>\n",
       "      <td>0.45811</td>\n",
       "    </tr>\n",
       "    <tr>\n",
       "      <th>...</th>\n",
       "      <td>...</td>\n",
       "      <td>...</td>\n",
       "      <td>...</td>\n",
       "      <td>...</td>\n",
       "      <td>...</td>\n",
       "      <td>...</td>\n",
       "      <td>...</td>\n",
       "      <td>...</td>\n",
       "      <td>...</td>\n",
       "    </tr>\n",
       "    <tr>\n",
       "      <th>153</th>\n",
       "      <td>118.0</td>\n",
       "      <td>8.0</td>\n",
       "      <td>0.03464</td>\n",
       "      <td>0.22208</td>\n",
       "      <td>0.77370</td>\n",
       "      <td>0.42864</td>\n",
       "      <td>0.59201</td>\n",
       "      <td>0.55191</td>\n",
       "      <td>0.22628</td>\n",
       "    </tr>\n",
       "    <tr>\n",
       "      <th>154</th>\n",
       "      <td>13.0</td>\n",
       "      <td>8.0</td>\n",
       "      <td>0.03656</td>\n",
       "      <td>0.28665</td>\n",
       "      <td>0.35386</td>\n",
       "      <td>0.31910</td>\n",
       "      <td>0.48450</td>\n",
       "      <td>0.08010</td>\n",
       "      <td>0.18260</td>\n",
       "    </tr>\n",
       "    <tr>\n",
       "      <th>155</th>\n",
       "      <td>136.0</td>\n",
       "      <td>4.0</td>\n",
       "      <td>0.05015</td>\n",
       "      <td>0.66320</td>\n",
       "      <td>0.47489</td>\n",
       "      <td>0.72193</td>\n",
       "      <td>0.15684</td>\n",
       "      <td>0.18906</td>\n",
       "      <td>0.47179</td>\n",
       "    </tr>\n",
       "    <tr>\n",
       "      <th>156</th>\n",
       "      <td>21.0</td>\n",
       "      <td>8.0</td>\n",
       "      <td>0.08658</td>\n",
       "      <td>0.01530</td>\n",
       "      <td>0.41587</td>\n",
       "      <td>0.22396</td>\n",
       "      <td>0.11850</td>\n",
       "      <td>0.10062</td>\n",
       "      <td>0.19727</td>\n",
       "    </tr>\n",
       "    <tr>\n",
       "      <th>157</th>\n",
       "      <td>141.0</td>\n",
       "      <td>8.0</td>\n",
       "      <td>0.06727</td>\n",
       "      <td>0.20868</td>\n",
       "      <td>0.13995</td>\n",
       "      <td>0.28443</td>\n",
       "      <td>0.36453</td>\n",
       "      <td>0.10731</td>\n",
       "      <td>0.16681</td>\n",
       "    </tr>\n",
       "  </tbody>\n",
       "</table>\n",
       "<p>158 rows × 9 columns</p>\n",
       "</div>"
      ],
      "text/plain": [
       "     Country  Region       SE  Economy (GDP per Capita)   Family   Health  \\\n",
       "0      135.0     9.0  0.03411                   1.39651  1.34951  0.94143   \n",
       "1       58.0     9.0  0.04884                   1.30232  1.40223  0.94784   \n",
       "2       37.0     9.0  0.03328                   1.32548  1.36058  0.87464   \n",
       "3      105.0     9.0  0.03880                   1.45900  1.33095  0.88521   \n",
       "4       24.0     5.0  0.03553                   1.32629  1.32261  0.90563   \n",
       "..       ...     ...      ...                       ...      ...      ...   \n",
       "153    118.0     8.0  0.03464                   0.22208  0.77370  0.42864   \n",
       "154     13.0     8.0  0.03656                   0.28665  0.35386  0.31910   \n",
       "155    136.0     4.0  0.05015                   0.66320  0.47489  0.72193   \n",
       "156     21.0     8.0  0.08658                   0.01530  0.41587  0.22396   \n",
       "157    141.0     8.0  0.06727                   0.20868  0.13995  0.28443   \n",
       "\n",
       "     Freedom    Trust  Generosity  \n",
       "0    0.66557  0.41978     0.29678  \n",
       "1    0.62877  0.14145     0.43630  \n",
       "2    0.64938  0.48357     0.34139  \n",
       "3    0.66973  0.36503     0.34699  \n",
       "4    0.63297  0.32957     0.45811  \n",
       "..       ...      ...         ...  \n",
       "153  0.59201  0.55191     0.22628  \n",
       "154  0.48450  0.08010     0.18260  \n",
       "155  0.15684  0.18906     0.47179  \n",
       "156  0.11850  0.10062     0.19727  \n",
       "157  0.36453  0.10731     0.16681  \n",
       "\n",
       "[158 rows x 9 columns]"
      ]
     },
     "execution_count": 178,
     "metadata": {},
     "output_type": "execute_result"
    }
   ],
   "source": [
    "X.drop(columns=['Happiness Rank','Dystopia'],inplace=True)\n",
    "X"
   ]
  },
  {
   "cell_type": "code",
   "execution_count": 179,
   "id": "2a362a96",
   "metadata": {},
   "outputs": [],
   "source": [
    "\n",
    "scaler=StandardScaler()\n",
    "X_scaled=scaler.fit_transform(X)"
   ]
  },
  {
   "cell_type": "code",
   "execution_count": 180,
   "id": "ce57f56f",
   "metadata": {},
   "outputs": [
    {
     "data": {
      "text/plain": [
       "9"
      ]
     },
     "execution_count": 180,
     "metadata": {},
     "output_type": "execute_result"
    }
   ],
   "source": [
    "X_scaled.shape[1]"
   ]
  },
  {
   "cell_type": "code",
   "execution_count": 137,
   "id": "4eb3ec1d",
   "metadata": {},
   "outputs": [],
   "source": [
    "#so,as we can see all values are less than 5 ..their is no multi collinearity.so,we can go ahead with fitting our data to model.before that let's split our data in test and training set. "
   ]
  },
  {
   "cell_type": "code",
   "execution_count": 153,
   "id": "6f643863",
   "metadata": {},
   "outputs": [],
   "source": [
    "from sklearn.metrics import r2_score\n",
    "regression=LinearRegression()"
   ]
  },
  {
   "cell_type": "code",
   "execution_count": 181,
   "id": "a0694399",
   "metadata": {},
   "outputs": [
    {
     "name": "stdout",
     "output_type": "stream",
     "text": [
      "At random state0,the training accuracy is:-0.8053885199031978\n",
      "At random state0,the testing accuracy is:-0.6504783013273122\n",
      "\n",
      "\n",
      "At random state1,the training accuracy is:-0.7669380642504929\n",
      "At random state1,the testing accuracy is:-0.8140595219084998\n",
      "\n",
      "\n",
      "At random state2,the training accuracy is:-0.7827031150491528\n",
      "At random state2,the testing accuracy is:-0.7511270956387673\n",
      "\n",
      "\n",
      "At random state3,the training accuracy is:-0.7595753363892712\n",
      "At random state3,the testing accuracy is:-0.7946696895183286\n",
      "\n",
      "\n",
      "At random state4,the training accuracy is:-0.7588751992413045\n",
      "At random state4,the testing accuracy is:-0.7854019231516789\n",
      "\n",
      "\n",
      "At random state5,the training accuracy is:-0.793892582627317\n",
      "At random state5,the testing accuracy is:-0.6887498237604485\n",
      "\n",
      "\n",
      "At random state6,the training accuracy is:-0.7703386385498107\n",
      "At random state6,the testing accuracy is:-0.7849512916151345\n",
      "\n",
      "\n",
      "At random state7,the training accuracy is:-0.7945372658908816\n",
      "At random state7,the testing accuracy is:-0.7030302542244216\n",
      "\n",
      "\n",
      "At random state8,the training accuracy is:-0.7722416908316864\n",
      "At random state8,the testing accuracy is:-0.7849536964360084\n",
      "\n",
      "\n",
      "At random state9,the training accuracy is:-0.7852939183228136\n",
      "At random state9,the testing accuracy is:-0.7071235962823049\n",
      "\n",
      "\n",
      "At random state10,the training accuracy is:-0.7694850441377071\n",
      "At random state10,the testing accuracy is:-0.799830451765233\n",
      "\n",
      "\n",
      "At random state11,the training accuracy is:-0.775928087746419\n",
      "At random state11,the testing accuracy is:-0.7627193868056945\n",
      "\n",
      "\n",
      "At random state12,the training accuracy is:-0.8054241569593906\n",
      "At random state12,the testing accuracy is:-0.6872369945516761\n",
      "\n",
      "\n",
      "At random state13,the training accuracy is:-0.8046172409002357\n",
      "At random state13,the testing accuracy is:-0.6679667119326985\n",
      "\n",
      "\n",
      "At random state14,the training accuracy is:-0.7531300431337846\n",
      "At random state14,the testing accuracy is:-0.8262289263351967\n",
      "\n",
      "\n",
      "At random state15,the training accuracy is:-0.761266224084678\n",
      "At random state15,the testing accuracy is:-0.8168166327768678\n",
      "\n",
      "\n",
      "At random state16,the training accuracy is:-0.7926220705394583\n",
      "At random state16,the testing accuracy is:-0.6882294551574848\n",
      "\n",
      "\n",
      "At random state17,the training accuracy is:-0.7754134924924422\n",
      "At random state17,the testing accuracy is:-0.7690486318681008\n",
      "\n",
      "\n",
      "At random state18,the training accuracy is:-0.7886723642496621\n",
      "At random state18,the testing accuracy is:-0.7056080028404774\n",
      "\n",
      "\n",
      "At random state19,the training accuracy is:-0.7879669036028548\n",
      "At random state19,the testing accuracy is:-0.7473150089545663\n",
      "\n",
      "\n",
      "At random state20,the training accuracy is:-0.808471502529649\n",
      "At random state20,the testing accuracy is:-0.6597496874636212\n",
      "\n",
      "\n",
      "At random state21,the training accuracy is:-0.807768248096004\n",
      "At random state21,the testing accuracy is:-0.6781998507781722\n",
      "\n",
      "\n",
      "At random state22,the training accuracy is:-0.8252366202494003\n",
      "At random state22,the testing accuracy is:-0.6016162954863993\n",
      "\n",
      "\n",
      "At random state23,the training accuracy is:-0.7743968936308789\n",
      "At random state23,the testing accuracy is:-0.7813700459049364\n",
      "\n",
      "\n",
      "At random state24,the training accuracy is:-0.7643820099577768\n",
      "At random state24,the testing accuracy is:-0.8117847440791616\n",
      "\n",
      "\n",
      "At random state25,the training accuracy is:-0.7850967030165492\n",
      "At random state25,the testing accuracy is:-0.7349841118467182\n",
      "\n",
      "\n",
      "At random state26,the training accuracy is:-0.7916094457642311\n",
      "At random state26,the testing accuracy is:-0.7131221187714293\n",
      "\n",
      "\n",
      "At random state27,the training accuracy is:-0.7854270429488013\n",
      "At random state27,the testing accuracy is:-0.7370188276227418\n",
      "\n",
      "\n",
      "At random state28,the training accuracy is:-0.790747795149948\n",
      "At random state28,the testing accuracy is:-0.697420195230561\n",
      "\n",
      "\n",
      "At random state29,the training accuracy is:-0.7877571482356442\n",
      "At random state29,the testing accuracy is:-0.7220781574617002\n",
      "\n",
      "\n",
      "At random state30,the training accuracy is:-0.7686561867445006\n",
      "At random state30,the testing accuracy is:-0.7837742355895242\n",
      "\n",
      "\n",
      "At random state31,the training accuracy is:-0.7916252375803403\n",
      "At random state31,the testing accuracy is:-0.7147724309314571\n",
      "\n",
      "\n",
      "At random state32,the training accuracy is:-0.7987484288763682\n",
      "At random state32,the testing accuracy is:-0.7106208350692955\n",
      "\n",
      "\n",
      "At random state33,the training accuracy is:-0.7918195228963589\n",
      "At random state33,the testing accuracy is:-0.6930748592064688\n",
      "\n",
      "\n",
      "At random state34,the training accuracy is:-0.7872226386213981\n",
      "At random state34,the testing accuracy is:-0.6721570925177506\n",
      "\n",
      "\n",
      "At random state35,the training accuracy is:-0.8204335955830022\n",
      "At random state35,the testing accuracy is:-0.6056193133068464\n",
      "\n",
      "\n",
      "At random state36,the training accuracy is:-0.7927987810187934\n",
      "At random state36,the testing accuracy is:-0.6958437703966048\n",
      "\n",
      "\n",
      "At random state37,the training accuracy is:-0.7616811598271729\n",
      "At random state37,the testing accuracy is:-0.8124102040401405\n",
      "\n",
      "\n",
      "At random state38,the training accuracy is:-0.8183439157290701\n",
      "At random state38,the testing accuracy is:-0.5520749856688165\n",
      "\n",
      "\n",
      "At random state39,the training accuracy is:-0.7795659434382121\n",
      "At random state39,the testing accuracy is:-0.7674086292096034\n",
      "\n",
      "\n",
      "At random state40,the training accuracy is:-0.7944818197169166\n",
      "At random state40,the testing accuracy is:-0.70816283861339\n",
      "\n",
      "\n",
      "At random state41,the training accuracy is:-0.8132616231709177\n",
      "At random state41,the testing accuracy is:-0.6641684265687811\n",
      "\n",
      "\n",
      "At random state42,the training accuracy is:-0.7547156902225524\n",
      "At random state42,the testing accuracy is:-0.827258393666305\n",
      "\n",
      "\n",
      "At random state43,the training accuracy is:-0.7829949393580764\n",
      "At random state43,the testing accuracy is:-0.7494526075835302\n",
      "\n",
      "\n",
      "At random state44,the training accuracy is:-0.7718181201162644\n",
      "At random state44,the testing accuracy is:-0.7767995239921043\n",
      "\n",
      "\n",
      "At random state45,the training accuracy is:-0.8275986642921792\n",
      "At random state45,the testing accuracy is:-0.5782265484603188\n",
      "\n",
      "\n",
      "At random state46,the training accuracy is:-0.8248073127404232\n",
      "At random state46,the testing accuracy is:-0.6080627637349614\n",
      "\n",
      "\n",
      "At random state47,the training accuracy is:-0.7668515768517523\n",
      "At random state47,the testing accuracy is:-0.7820154013192834\n",
      "\n",
      "\n",
      "At random state48,the training accuracy is:-0.8262345270732774\n",
      "At random state48,the testing accuracy is:-0.6047852570594121\n",
      "\n",
      "\n",
      "At random state49,the training accuracy is:-0.7725681975554859\n",
      "At random state49,the testing accuracy is:-0.7892520408044945\n",
      "\n",
      "\n",
      "At random state50,the training accuracy is:-0.7513437995436174\n",
      "At random state50,the testing accuracy is:-0.8196627337319629\n",
      "\n",
      "\n",
      "At random state51,the training accuracy is:-0.7967174747405303\n",
      "At random state51,the testing accuracy is:-0.6757412007410573\n",
      "\n",
      "\n",
      "At random state52,the training accuracy is:-0.7513038939827852\n",
      "At random state52,the testing accuracy is:-0.8636840702435503\n",
      "\n",
      "\n",
      "At random state53,the training accuracy is:-0.8248168495108328\n",
      "At random state53,the testing accuracy is:-0.5820897012546925\n",
      "\n",
      "\n",
      "At random state54,the training accuracy is:-0.7603877921956202\n",
      "At random state54,the testing accuracy is:-0.7940112887842561\n",
      "\n",
      "\n",
      "At random state55,the training accuracy is:-0.7941469866942716\n",
      "At random state55,the testing accuracy is:-0.7154715507978839\n",
      "\n",
      "\n",
      "At random state56,the training accuracy is:-0.7602766818443405\n",
      "At random state56,the testing accuracy is:-0.820988873775543\n",
      "\n",
      "\n",
      "At random state57,the training accuracy is:-0.7823268381379312\n",
      "At random state57,the testing accuracy is:-0.7569053571405867\n",
      "\n",
      "\n",
      "At random state58,the training accuracy is:-0.8012187092728006\n",
      "At random state58,the testing accuracy is:-0.6743304014087328\n",
      "\n",
      "\n",
      "At random state59,the training accuracy is:-0.7930154067703776\n",
      "At random state59,the testing accuracy is:-0.6537251614319792\n",
      "\n",
      "\n",
      "At random state60,the training accuracy is:-0.7824951434034533\n",
      "At random state60,the testing accuracy is:-0.7468208397656804\n",
      "\n",
      "\n",
      "At random state61,the training accuracy is:-0.7459563121831317\n",
      "At random state61,the testing accuracy is:-0.8423312112465038\n",
      "\n",
      "\n",
      "At random state62,the training accuracy is:-0.7868471622082223\n",
      "At random state62,the testing accuracy is:-0.7184933597113365\n",
      "\n",
      "\n",
      "At random state63,the training accuracy is:-0.7951095244326908\n",
      "At random state63,the testing accuracy is:-0.655055465905408\n",
      "\n",
      "\n",
      "At random state64,the training accuracy is:-0.7793050382608825\n",
      "At random state64,the testing accuracy is:-0.7551354230329455\n",
      "\n",
      "\n",
      "At random state65,the training accuracy is:-0.7904024521698076\n",
      "At random state65,the testing accuracy is:-0.7241534195279669\n",
      "\n",
      "\n",
      "At random state66,the training accuracy is:-0.7827939671837698\n",
      "At random state66,the testing accuracy is:-0.7260534468809545\n",
      "\n",
      "\n",
      "At random state67,the training accuracy is:-0.7672724812839634\n",
      "At random state67,the testing accuracy is:-0.7869127320007121\n",
      "\n",
      "\n",
      "At random state68,the training accuracy is:-0.7843314580763328\n",
      "At random state68,the testing accuracy is:-0.7344512529764533\n",
      "\n",
      "\n",
      "At random state69,the training accuracy is:-0.7763138686601749\n",
      "At random state69,the testing accuracy is:-0.7655720872777196\n",
      "\n",
      "\n",
      "At random state70,the training accuracy is:-0.7885783731077803\n",
      "At random state70,the testing accuracy is:-0.71470629501505\n",
      "\n",
      "\n",
      "At random state71,the training accuracy is:-0.7776866039225405\n",
      "At random state71,the testing accuracy is:-0.7481574624141286\n",
      "\n",
      "\n",
      "At random state72,the training accuracy is:-0.717803108050985\n",
      "At random state72,the testing accuracy is:-0.8378482874105715\n",
      "\n",
      "\n",
      "At random state73,the training accuracy is:-0.7708439638280613\n",
      "At random state73,the testing accuracy is:-0.7817154625823053\n",
      "\n",
      "\n",
      "At random state74,the training accuracy is:-0.7864594900157389\n",
      "At random state74,the testing accuracy is:-0.730780799009386\n",
      "\n",
      "\n",
      "At random state75,the training accuracy is:-0.7923437915879582\n",
      "At random state75,the testing accuracy is:-0.701538228309355\n",
      "\n",
      "\n",
      "At random state76,the training accuracy is:-0.8110777329135804\n",
      "At random state76,the testing accuracy is:-0.5754309183790297\n",
      "\n",
      "\n",
      "At random state77,the training accuracy is:-0.8218785515986711\n",
      "At random state77,the testing accuracy is:-0.5781296581183704\n",
      "\n",
      "\n",
      "At random state78,the training accuracy is:-0.8146144658783361\n",
      "At random state78,the testing accuracy is:-0.5631251195580087\n",
      "\n",
      "\n",
      "At random state79,the training accuracy is:-0.8171413596949195\n",
      "At random state79,the testing accuracy is:-0.6376681065380287\n",
      "\n",
      "\n",
      "At random state80,the training accuracy is:-0.7657276580685822\n",
      "At random state80,the testing accuracy is:-0.7789607925164654\n",
      "\n",
      "\n",
      "At random state81,the training accuracy is:-0.7869771422818009\n",
      "At random state81,the testing accuracy is:-0.737439588141708\n",
      "\n",
      "\n",
      "At random state82,the training accuracy is:-0.7818006192065464\n",
      "At random state82,the testing accuracy is:-0.7657552794126541\n",
      "\n",
      "\n",
      "At random state83,the training accuracy is:-0.7976608102940121\n",
      "At random state83,the testing accuracy is:-0.6483438260445171\n",
      "\n",
      "\n",
      "At random state84,the training accuracy is:-0.754082869921212\n",
      "At random state84,the testing accuracy is:-0.8204429386887464\n",
      "\n",
      "\n",
      "At random state85,the training accuracy is:-0.8215254600659272\n",
      "At random state85,the testing accuracy is:-0.5773761402604127\n",
      "\n",
      "\n",
      "At random state86,the training accuracy is:-0.7782195965399294\n",
      "At random state86,the testing accuracy is:-0.7670440479412896\n",
      "\n",
      "\n",
      "At random state87,the training accuracy is:-0.7703477814333022\n",
      "At random state87,the testing accuracy is:-0.7726394369763643\n",
      "\n",
      "\n",
      "At random state88,the training accuracy is:-0.7903802633278922\n",
      "At random state88,the testing accuracy is:-0.7131761354230537\n",
      "\n",
      "\n",
      "At random state89,the training accuracy is:-0.8017424497331171\n",
      "At random state89,the testing accuracy is:-0.6619674842536265\n",
      "\n",
      "\n",
      "At random state90,the training accuracy is:-0.793386194692862\n",
      "At random state90,the testing accuracy is:-0.676543327647478\n",
      "\n",
      "\n",
      "At random state91,the training accuracy is:-0.7932140060395041\n",
      "At random state91,the testing accuracy is:-0.7057397209483588\n",
      "\n",
      "\n",
      "At random state92,the training accuracy is:-0.7948480032351224\n",
      "At random state92,the testing accuracy is:-0.698228770561387\n",
      "\n",
      "\n",
      "At random state93,the training accuracy is:-0.7614722127627875\n",
      "At random state93,the testing accuracy is:-0.8176099903270924\n",
      "\n",
      "\n",
      "At random state94,the training accuracy is:-0.7990507342685237\n",
      "At random state94,the testing accuracy is:-0.6751303292510487\n",
      "\n",
      "\n",
      "At random state95,the training accuracy is:-0.7999934249736851\n",
      "At random state95,the testing accuracy is:-0.6823807007082043\n",
      "\n",
      "\n",
      "At random state96,the training accuracy is:-0.7991015462908548\n",
      "At random state96,the testing accuracy is:-0.6871641696328916\n",
      "\n",
      "\n",
      "At random state97,the training accuracy is:-0.7803498796723227\n",
      "At random state97,the testing accuracy is:-0.7681685013609287\n",
      "\n",
      "\n",
      "At random state98,the training accuracy is:-0.8070530289116963\n",
      "At random state98,the testing accuracy is:-0.6480352144203126\n",
      "\n",
      "\n",
      "At random state99,the training accuracy is:-0.8007410714737131\n",
      "At random state99,the testing accuracy is:-0.7072025195110554\n",
      "\n",
      "\n"
     ]
    }
   ],
   "source": [
    "for i in range(0,100):\n",
    "    x_train,x_test,y_train,y_test =train_test_split(X_scaled,y,test_size=0.25,random_state=i)\n",
    "    regression.fit(x_train,y_train)\n",
    "    pred_train = regression.predict(x_train)\n",
    "    pred_test= regression.predict(x_test)\n",
    "    print(f\"At random state{i},the training accuracy is:-{r2_score(y_train,pred_train)}\")\n",
    "    print(f\"At random state{i},the testing accuracy is:-{r2_score(y_test,pred_test)}\")\n",
    "    print(\"\\n\")"
   ]
  },
  {
   "cell_type": "code",
   "execution_count": 182,
   "id": "cd259b6d",
   "metadata": {},
   "outputs": [],
   "source": [
    "x_train,x_test,y_train,y_test =train_test_split(X_scaled,y,test_size=0.25,random_state=52)\n"
   ]
  },
  {
   "cell_type": "code",
   "execution_count": 183,
   "id": "e0b56b67",
   "metadata": {},
   "outputs": [
    {
     "data": {
      "text/plain": [
       "(118, 9)"
      ]
     },
     "execution_count": 183,
     "metadata": {},
     "output_type": "execute_result"
    }
   ],
   "source": [
    "x_train.shape"
   ]
  },
  {
   "cell_type": "code",
   "execution_count": 184,
   "id": "98bce37a",
   "metadata": {},
   "outputs": [
    {
     "data": {
      "text/plain": [
       "(118,)"
      ]
     },
     "execution_count": 184,
     "metadata": {},
     "output_type": "execute_result"
    }
   ],
   "source": [
    "y_train.shape"
   ]
  },
  {
   "cell_type": "code",
   "execution_count": 185,
   "id": "2ab80822",
   "metadata": {},
   "outputs": [
    {
     "data": {
      "text/plain": [
       "(40, 9)"
      ]
     },
     "execution_count": 185,
     "metadata": {},
     "output_type": "execute_result"
    }
   ],
   "source": [
    "x_test.shape"
   ]
  },
  {
   "cell_type": "code",
   "execution_count": 186,
   "id": "d545b2f8",
   "metadata": {},
   "outputs": [
    {
     "data": {
      "text/plain": [
       "LinearRegression()"
      ]
     },
     "execution_count": 186,
     "metadata": {},
     "output_type": "execute_result"
    }
   ],
   "source": [
    "regression=LinearRegression()\n",
    "regression.fit(x_train,y_train)"
   ]
  },
  {
   "cell_type": "code",
   "execution_count": 187,
   "id": "25501451",
   "metadata": {},
   "outputs": [
    {
     "data": {
      "text/plain": [
       "51     5.889\n",
       "66     5.689\n",
       "79     5.212\n",
       "41     6.130\n",
       "150    3.655\n",
       "Name: Happiness Score, dtype: float64"
      ]
     },
     "execution_count": 187,
     "metadata": {},
     "output_type": "execute_result"
    }
   ],
   "source": [
    "y_pred=regression.predict(x_test)\n",
    "y_train.head()"
   ]
  },
  {
   "cell_type": "code",
   "execution_count": 188,
   "id": "7863902b",
   "metadata": {},
   "outputs": [
    {
     "data": {
      "text/html": [
       "<div>\n",
       "<style scoped>\n",
       "    .dataframe tbody tr th:only-of-type {\n",
       "        vertical-align: middle;\n",
       "    }\n",
       "\n",
       "    .dataframe tbody tr th {\n",
       "        vertical-align: top;\n",
       "    }\n",
       "\n",
       "    .dataframe thead th {\n",
       "        text-align: right;\n",
       "    }\n",
       "</style>\n",
       "<table border=\"1\" class=\"dataframe\">\n",
       "  <thead>\n",
       "    <tr style=\"text-align: right;\">\n",
       "      <th></th>\n",
       "      <th>Country</th>\n",
       "      <th>Region</th>\n",
       "      <th>SE</th>\n",
       "      <th>Economy (GDP per Capita)</th>\n",
       "      <th>Family</th>\n",
       "      <th>Health</th>\n",
       "      <th>Freedom</th>\n",
       "      <th>Trust</th>\n",
       "      <th>Generosity</th>\n",
       "    </tr>\n",
       "  </thead>\n",
       "  <tbody>\n",
       "    <tr>\n",
       "      <th>0</th>\n",
       "      <td>135.0</td>\n",
       "      <td>9.0</td>\n",
       "      <td>0.03411</td>\n",
       "      <td>1.39651</td>\n",
       "      <td>1.34951</td>\n",
       "      <td>0.94143</td>\n",
       "      <td>0.66557</td>\n",
       "      <td>0.41978</td>\n",
       "      <td>0.29678</td>\n",
       "    </tr>\n",
       "    <tr>\n",
       "      <th>1</th>\n",
       "      <td>58.0</td>\n",
       "      <td>9.0</td>\n",
       "      <td>0.04884</td>\n",
       "      <td>1.30232</td>\n",
       "      <td>1.40223</td>\n",
       "      <td>0.94784</td>\n",
       "      <td>0.62877</td>\n",
       "      <td>0.14145</td>\n",
       "      <td>0.43630</td>\n",
       "    </tr>\n",
       "    <tr>\n",
       "      <th>2</th>\n",
       "      <td>37.0</td>\n",
       "      <td>9.0</td>\n",
       "      <td>0.03328</td>\n",
       "      <td>1.32548</td>\n",
       "      <td>1.36058</td>\n",
       "      <td>0.87464</td>\n",
       "      <td>0.64938</td>\n",
       "      <td>0.48357</td>\n",
       "      <td>0.34139</td>\n",
       "    </tr>\n",
       "    <tr>\n",
       "      <th>3</th>\n",
       "      <td>105.0</td>\n",
       "      <td>9.0</td>\n",
       "      <td>0.03880</td>\n",
       "      <td>1.45900</td>\n",
       "      <td>1.33095</td>\n",
       "      <td>0.88521</td>\n",
       "      <td>0.66973</td>\n",
       "      <td>0.36503</td>\n",
       "      <td>0.34699</td>\n",
       "    </tr>\n",
       "    <tr>\n",
       "      <th>4</th>\n",
       "      <td>24.0</td>\n",
       "      <td>5.0</td>\n",
       "      <td>0.03553</td>\n",
       "      <td>1.32629</td>\n",
       "      <td>1.32261</td>\n",
       "      <td>0.90563</td>\n",
       "      <td>0.63297</td>\n",
       "      <td>0.32957</td>\n",
       "      <td>0.45811</td>\n",
       "    </tr>\n",
       "    <tr>\n",
       "      <th>...</th>\n",
       "      <td>...</td>\n",
       "      <td>...</td>\n",
       "      <td>...</td>\n",
       "      <td>...</td>\n",
       "      <td>...</td>\n",
       "      <td>...</td>\n",
       "      <td>...</td>\n",
       "      <td>...</td>\n",
       "      <td>...</td>\n",
       "    </tr>\n",
       "    <tr>\n",
       "      <th>153</th>\n",
       "      <td>118.0</td>\n",
       "      <td>8.0</td>\n",
       "      <td>0.03464</td>\n",
       "      <td>0.22208</td>\n",
       "      <td>0.77370</td>\n",
       "      <td>0.42864</td>\n",
       "      <td>0.59201</td>\n",
       "      <td>0.55191</td>\n",
       "      <td>0.22628</td>\n",
       "    </tr>\n",
       "    <tr>\n",
       "      <th>154</th>\n",
       "      <td>13.0</td>\n",
       "      <td>8.0</td>\n",
       "      <td>0.03656</td>\n",
       "      <td>0.28665</td>\n",
       "      <td>0.35386</td>\n",
       "      <td>0.31910</td>\n",
       "      <td>0.48450</td>\n",
       "      <td>0.08010</td>\n",
       "      <td>0.18260</td>\n",
       "    </tr>\n",
       "    <tr>\n",
       "      <th>155</th>\n",
       "      <td>136.0</td>\n",
       "      <td>4.0</td>\n",
       "      <td>0.05015</td>\n",
       "      <td>0.66320</td>\n",
       "      <td>0.47489</td>\n",
       "      <td>0.72193</td>\n",
       "      <td>0.15684</td>\n",
       "      <td>0.18906</td>\n",
       "      <td>0.47179</td>\n",
       "    </tr>\n",
       "    <tr>\n",
       "      <th>156</th>\n",
       "      <td>21.0</td>\n",
       "      <td>8.0</td>\n",
       "      <td>0.08658</td>\n",
       "      <td>0.01530</td>\n",
       "      <td>0.41587</td>\n",
       "      <td>0.22396</td>\n",
       "      <td>0.11850</td>\n",
       "      <td>0.10062</td>\n",
       "      <td>0.19727</td>\n",
       "    </tr>\n",
       "    <tr>\n",
       "      <th>157</th>\n",
       "      <td>141.0</td>\n",
       "      <td>8.0</td>\n",
       "      <td>0.06727</td>\n",
       "      <td>0.20868</td>\n",
       "      <td>0.13995</td>\n",
       "      <td>0.28443</td>\n",
       "      <td>0.36453</td>\n",
       "      <td>0.10731</td>\n",
       "      <td>0.16681</td>\n",
       "    </tr>\n",
       "  </tbody>\n",
       "</table>\n",
       "<p>158 rows × 9 columns</p>\n",
       "</div>"
      ],
      "text/plain": [
       "     Country  Region       SE  Economy (GDP per Capita)   Family   Health  \\\n",
       "0      135.0     9.0  0.03411                   1.39651  1.34951  0.94143   \n",
       "1       58.0     9.0  0.04884                   1.30232  1.40223  0.94784   \n",
       "2       37.0     9.0  0.03328                   1.32548  1.36058  0.87464   \n",
       "3      105.0     9.0  0.03880                   1.45900  1.33095  0.88521   \n",
       "4       24.0     5.0  0.03553                   1.32629  1.32261  0.90563   \n",
       "..       ...     ...      ...                       ...      ...      ...   \n",
       "153    118.0     8.0  0.03464                   0.22208  0.77370  0.42864   \n",
       "154     13.0     8.0  0.03656                   0.28665  0.35386  0.31910   \n",
       "155    136.0     4.0  0.05015                   0.66320  0.47489  0.72193   \n",
       "156     21.0     8.0  0.08658                   0.01530  0.41587  0.22396   \n",
       "157    141.0     8.0  0.06727                   0.20868  0.13995  0.28443   \n",
       "\n",
       "     Freedom    Trust  Generosity  \n",
       "0    0.66557  0.41978     0.29678  \n",
       "1    0.62877  0.14145     0.43630  \n",
       "2    0.64938  0.48357     0.34139  \n",
       "3    0.66973  0.36503     0.34699  \n",
       "4    0.63297  0.32957     0.45811  \n",
       "..       ...      ...         ...  \n",
       "153  0.59201  0.55191     0.22628  \n",
       "154  0.48450  0.08010     0.18260  \n",
       "155  0.15684  0.18906     0.47179  \n",
       "156  0.11850  0.10062     0.19727  \n",
       "157  0.36453  0.10731     0.16681  \n",
       "\n",
       "[158 rows x 9 columns]"
      ]
     },
     "execution_count": 188,
     "metadata": {},
     "output_type": "execute_result"
    }
   ],
   "source": [
    "X"
   ]
  },
  {
   "cell_type": "code",
   "execution_count": 189,
   "id": "d943b7c7",
   "metadata": {},
   "outputs": [
    {
     "name": "stdout",
     "output_type": "stream",
     "text": [
      "Happiness Score is: [3.03346887]\n"
     ]
    }
   ],
   "source": [
    "#since we already fit the data,now we can transform the data\n",
    "print('Happiness Score is:',regression.predict(scaler.transform([[141.0,8.0,0.06727,0.20868,0.13995,0.28443,0.36453,0.10731,0.16681]])))"
   ]
  },
  {
   "cell_type": "code",
   "execution_count": 190,
   "id": "1bdf2bd5",
   "metadata": {},
   "outputs": [
    {
     "data": {
      "text/plain": [
       "0.7513038939827852"
      ]
     },
     "execution_count": 190,
     "metadata": {},
     "output_type": "execute_result"
    }
   ],
   "source": [
    "#Adjusted R2 score\n",
    "regression.score(x_train,y_train)"
   ]
  },
  {
   "cell_type": "code",
   "execution_count": 191,
   "id": "5daddb2b",
   "metadata": {},
   "outputs": [
    {
     "data": {
      "text/plain": [
       "0.8636840702435503"
      ]
     },
     "execution_count": 191,
     "metadata": {},
     "output_type": "execute_result"
    }
   ],
   "source": [
    "regression.score(x_test,y_test)"
   ]
  },
  {
   "cell_type": "code",
   "execution_count": 192,
   "id": "78c14caf",
   "metadata": {},
   "outputs": [
    {
     "data": {
      "text/plain": [
       "array([4.21892635, 6.77373658, 4.02521687, 5.60978999, 6.0595048 ,\n",
       "       2.75318723, 7.07151682, 7.05732655, 5.87777363, 4.22686615,\n",
       "       5.94874208, 3.51828222, 4.57554766, 5.90347207, 7.12701766,\n",
       "       5.97320632, 5.88733716, 6.0982386 , 6.11544394, 4.42857397,\n",
       "       7.13284224, 5.6624277 , 6.17066679, 4.49229359, 6.85366183,\n",
       "       4.17170423, 5.25200225, 5.74678213, 4.49893244, 4.26443079,\n",
       "       4.66692907, 5.36946206, 5.29454797, 5.89182304, 4.73533922,\n",
       "       4.65175552, 5.99206548, 4.36185216, 4.42226344, 5.17238755])"
      ]
     },
     "execution_count": 192,
     "metadata": {},
     "output_type": "execute_result"
    }
   ],
   "source": [
    "#lets plot and visualize\n",
    "y_pred=regression.predict(x_test)\n",
    "y_pred"
   ]
  },
  {
   "cell_type": "code",
   "execution_count": 193,
   "id": "521928e9",
   "metadata": {},
   "outputs": [
    {
     "data": {
      "image/png": "[encoded data removed]",
      "text/plain": [
       "<Figure size 432x288 with 1 Axes>"
      ]
     },
     "metadata": {
      "needs_background": "light"
     },
     "output_type": "display_data"
    }
   ],
   "source": [
    "plt.scatter(y_test,y_pred)\n",
    "plt.xlabel='Actual happiness score'\n",
    "plt.ylabel='Predicted happiness score'\n",
    "plt.title='Actual vs model Predicted '\n",
    "plt.show()"
   ]
  },
  {
   "cell_type": "code",
   "execution_count": 195,
   "id": "3b676349",
   "metadata": {},
   "outputs": [],
   "source": [
    "from sklearn.metrics import mean_squared_error,mean_absolute_error"
   ]
  },
  {
   "cell_type": "code",
   "execution_count": 196,
   "id": "6afdbcd7",
   "metadata": {},
   "outputs": [
    {
     "data": {
      "text/plain": [
       "0.1614139953970479"
      ]
     },
     "execution_count": 196,
     "metadata": {},
     "output_type": "execute_result"
    }
   ],
   "source": [
    " mean_squared_error(y_test,y_pred)"
   ]
  },
  {
   "cell_type": "code",
   "execution_count": 197,
   "id": "59d241c3",
   "metadata": {},
   "outputs": [
    {
     "data": {
      "text/plain": [
       "0.3134453434832454"
      ]
     },
     "execution_count": 197,
     "metadata": {},
     "output_type": "execute_result"
    }
   ],
   "source": [
    "mean_absolute_error(y_test,y_pred)"
   ]
  },
  {
   "cell_type": "code",
   "execution_count": 198,
   "id": "5749c130",
   "metadata": {},
   "outputs": [
    {
     "data": {
      "text/plain": [
       "0.4017636063620595"
      ]
     },
     "execution_count": 198,
     "metadata": {},
     "output_type": "execute_result"
    }
   ],
   "source": [
    "np.sqrt(mean_squared_error(y_test,y_pred))"
   ]
  },
  {
   "cell_type": "code",
   "execution_count": 199,
   "id": "81fd10c0",
   "metadata": {},
   "outputs": [],
   "source": [
    "#regularization to chk whether model is overfitting or not\n",
    "\n",
    "from sklearn.linear_model import Ridge,Lasso,RidgeCV,LassoCV"
   ]
  },
  {
   "cell_type": "code",
   "execution_count": 200,
   "id": "c7c3fcd5",
   "metadata": {},
   "outputs": [
    {
     "data": {
      "text/plain": [
       "LassoCV(max_iter=100, normalize=True)"
      ]
     },
     "execution_count": 200,
     "metadata": {},
     "output_type": "execute_result"
    }
   ],
   "source": [
    "lasscv = LassoCV(alphas=None,max_iter=100,normalize=True)\n",
    "lasscv.fit(x_train,y_train)"
   ]
  },
  {
   "cell_type": "code",
   "execution_count": 201,
   "id": "16840b0d",
   "metadata": {},
   "outputs": [
    {
     "data": {
      "text/plain": [
       "0.005467997379075039"
      ]
     },
     "execution_count": 201,
     "metadata": {},
     "output_type": "execute_result"
    }
   ],
   "source": [
    "alpha =lasscv.alpha_\n",
    "alpha"
   ]
  },
  {
   "cell_type": "code",
   "execution_count": 202,
   "id": "3caf0fa6",
   "metadata": {},
   "outputs": [
    {
     "data": {
      "text/plain": [
       "Lasso(alpha=0.005467997379075039)"
      ]
     },
     "execution_count": 202,
     "metadata": {},
     "output_type": "execute_result"
    }
   ],
   "source": [
    "lasso_reg = Lasso(alpha)\n",
    "lasso_reg.fit(x_train,y_train)"
   ]
  },
  {
   "cell_type": "code",
   "execution_count": 203,
   "id": "f92a879a",
   "metadata": {},
   "outputs": [
    {
     "data": {
      "text/plain": [
       "0.8634393230470253"
      ]
     },
     "execution_count": 203,
     "metadata": {},
     "output_type": "execute_result"
    }
   ],
   "source": [
    "lasso_reg.score(x_test,y_test)"
   ]
  },
  {
   "cell_type": "code",
   "execution_count": 204,
   "id": "21de886a",
   "metadata": {},
   "outputs": [
    {
     "data": {
      "text/plain": [
       "RidgeCV(alphas=array([0.001, 0.011, 0.021, 0.031, 0.041, 0.051, 0.061, 0.071, 0.081,\n",
       "       0.091]),\n",
       "        normalize=True)"
      ]
     },
     "execution_count": 204,
     "metadata": {},
     "output_type": "execute_result"
    }
   ],
   "source": [
    "#RidgeCV\n",
    "ridgecv =RidgeCV(alphas=np.arange(0.001,0.1,0.01),normalize=True)\n",
    "ridgecv.fit(x_train,y_train)\n"
   ]
  },
  {
   "cell_type": "code",
   "execution_count": 205,
   "id": "57b5d334",
   "metadata": {},
   "outputs": [
    {
     "data": {
      "text/plain": [
       "0.09099999999999998"
      ]
     },
     "execution_count": 205,
     "metadata": {},
     "output_type": "execute_result"
    }
   ],
   "source": [
    "\n",
    "ridgecv.alpha_"
   ]
  },
  {
   "cell_type": "code",
   "execution_count": 206,
   "id": "d8a3176c",
   "metadata": {},
   "outputs": [
    {
     "data": {
      "text/plain": [
       "Ridge(alpha=0.09099999999999998)"
      ]
     },
     "execution_count": 206,
     "metadata": {},
     "output_type": "execute_result"
    }
   ],
   "source": [
    "ridge_model = Ridge(alpha=ridgecv.alpha_)\n",
    "ridge_model.fit(x_train,y_train)"
   ]
  },
  {
   "cell_type": "code",
   "execution_count": 207,
   "id": "f82039ab",
   "metadata": {},
   "outputs": [
    {
     "data": {
      "text/plain": [
       "0.8637624079815709"
      ]
     },
     "execution_count": 207,
     "metadata": {},
     "output_type": "execute_result"
    }
   ],
   "source": [
    "ridge_model.score(x_test,y_test)"
   ]
  },
  {
   "cell_type": "code",
   "execution_count": 208,
   "id": "8b4fd1b5",
   "metadata": {},
   "outputs": [
    {
     "name": "stdout",
     "output_type": "stream",
     "text": [
      "cross validation score of linear regression model: -5.28802972575752\n"
     ]
    }
   ],
   "source": [
    "from sklearn.model_selection import cross_val_score\n",
    "\n",
    "scr1=cross_val_score(ridge_model,X,y,cv=4)\n",
    "print(\"cross validation score of linear regression model:\",scr1.mean())"
   ]
  },
  {
   "cell_type": "code",
   "execution_count": 209,
   "id": "a0de6da0",
   "metadata": {},
   "outputs": [
    {
     "data": {
      "text/plain": [
       "array([-7.40537684, -2.54458229, -8.01913496, -3.18302482])"
      ]
     },
     "execution_count": 209,
     "metadata": {},
     "output_type": "execute_result"
    }
   ],
   "source": [
    "scr1"
   ]
  },
  {
   "cell_type": "code",
   "execution_count": 210,
   "id": "bcc59257",
   "metadata": {},
   "outputs": [
    {
     "name": "stdout",
     "output_type": "stream",
     "text": [
      "cross validation score of ridge model: -5.28802972575752\n"
     ]
    }
   ],
   "source": [
    "from sklearn.model_selection import cross_val_score\n",
    "\n",
    "scr2=cross_val_score(ridge_model,X,y,cv=4)\n",
    "print(\"cross validation score of ridge model:\",scr2.mean())"
   ]
  },
  {
   "cell_type": "code",
   "execution_count": 211,
   "id": "790e14c4",
   "metadata": {},
   "outputs": [
    {
     "name": "stdout",
     "output_type": "stream",
     "text": [
      "cross validation score of lasso model: -5.5192960865051655\n"
     ]
    }
   ],
   "source": [
    "from sklearn.model_selection import cross_val_score\n",
    "\n",
    "scr3=cross_val_score(lasso_reg,X,y,cv=4)\n",
    "print(\"cross validation score of lasso model:\",scr3.mean())"
   ]
  },
  {
   "cell_type": "code",
   "execution_count": 215,
   "id": "ca4f24d6",
   "metadata": {},
   "outputs": [
    {
     "name": "stdout",
     "output_type": "stream",
     "text": [
      "{'criterion': 'mse', 'max_features': 'log2'}\n"
     ]
    }
   ],
   "source": [
    "from sklearn.model_selection import GridSearchCV\n",
    "from sklearn.ensemble import RandomForestRegressor\n",
    "parameters ={'criterion':['mse','mae'],'max_features':[\"auto\",\"sqrt\",\"log2\"]}\n",
    "rf=RandomForestRegressor()\n",
    "abc=GridSearchCV(rf,parameters)\n",
    "abc.fit(x_train,y_train)\n",
    "print(abc.best_params_)"
   ]
  },
  {
   "cell_type": "code",
   "execution_count": 216,
   "id": "a88e6440",
   "metadata": {},
   "outputs": [
    {
     "name": "stdout",
     "output_type": "stream",
     "text": [
      "R2 score: 85.5666716483504\n",
      "cross val score: -825.6681761044174\n"
     ]
    }
   ],
   "source": [
    "rf=RandomForestRegressor(criterion= 'mse',max_features='log2')\n",
    "rf.fit(x_train,y_train)\n",
    "rf.score(x_train,y_train)\n",
    "y_pred=rf.predict(x_test)\n",
    "rfs=r2_score(y_test,y_pred)\n",
    "print('R2 score:',rfs*100)\n",
    "\n",
    "rfscore=cross_val_score(rf,X,y,cv=5)\n",
    "rfc=rfscore.mean()\n",
    "print('cross val score:',rfc*100)"
   ]
  },
  {
   "cell_type": "code",
   "execution_count": null,
   "id": "6a7a3b4b",
   "metadata": {},
   "outputs": [],
   "source": [
    "#so,as we can see.ridge model and linear regression is giving 86% r2 ascore and after hyper parameter tuning model is giving 85% accuracy"
   ]
  },
  {
   "cell_type": "code",
   "execution_count": null,
   "id": "46bc7a98",
   "metadata": {},
   "outputs": [],
   "source": [
    ".....#..........................................................THANKS......................................................................."
   ]
  }
 ],
 "metadata": {
  "kernelspec": {
   "display_name": "Python 3 (ipykernel)",
   "language": "python",
   "name": "python3"
  },
  "language_info": {
   "codemirror_mode": {
    "name": "ipython",
    "version": 3
   },
   "file_extension": ".py",
   "mimetype": "text/x-python",
   "name": "python",
   "nbconvert_exporter": "python",
   "pygments_lexer": "ipython3",
   "version": "3.9.7"
  }
 },
 "nbformat": 4,
 "nbformat_minor": 5
}
